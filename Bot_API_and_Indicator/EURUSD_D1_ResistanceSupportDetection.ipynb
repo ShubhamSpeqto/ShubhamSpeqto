{
 "cells": [
  {
   "cell_type": "markdown",
   "metadata": {},
   "source": [
    "# Resistance/Support Detection"
   ]
  },
  {
   "cell_type": "code",
   "execution_count": 32,
   "metadata": {
    "scrolled": true
   },
   "outputs": [
    {
     "data": {
      "text/plain": [
       "8"
      ]
     },
     "execution_count": 32,
     "metadata": {},
     "output_type": "execute_result"
    }
   ],
   "source": [
    "import pandas as pd\n",
    "df = pd.read_csv(\"/home/shubham/Downloads/pirate_arbbot-main/7Feb_Oanda_DATA_M5.csv\")\n",
    "df.tail()\n",
    "len(df)"
   ]
  },
  {
   "cell_type": "markdown",
   "metadata": {},
   "source": [
    "# Support and Resitance FUNCTIONS"
   ]
  },
  {
   "cell_type": "code",
   "execution_count": 39,
   "metadata": {},
   "outputs": [],
   "source": [
    "def support(df1, l, n1, n2): #n1 n2 before and after candle l\n",
    "    for i in range(l-n1+1, l+1):\n",
    "        if(df1.Low[i]>df1.Low[i-1]):\n",
    "            return 0\n",
    "    for i in range(l+1,l+n2+1):\n",
    "        if(df1.Low[i]<df1.Low[i-1]):\n",
    "            return 0\n",
    "    return 1\n",
    "\n",
    "#support(df,46,3,2)\n",
    "\n",
    "def resistance(df1, l, n1, n2): #n1 n2 before and after candle l\n",
    "    for i in range(l-n1+1, l+1):\n",
    "        if(df1.High[i]<df1.High[i-1]):\n",
    "            return 0\n",
    "    for i in range(l+1,l+n2+1):\n",
    "        if(df1.High[i]>df1.High[i-1]):\n",
    "            return 0\n",
    "    return 1\n",
    "#resistance(df, 30, 3, 5)\n"
   ]
  },
  {
   "cell_type": "code",
   "execution_count": 40,
   "metadata": {},
   "outputs": [
    {
     "data": {
      "application/vnd.plotly.v1+json": {
       "config": {
        "plotlyServerURL": "https://plot.ly"
       },
       "data": [
        {
         "close": [
          1.14241,
          1.1425,
          1.14243,
          1.14236,
          1.1425,
          1.1425,
          1.14245,
          1.14232
         ],
         "high": [
          1.14243,
          1.1425,
          1.1425,
          1.14243,
          1.14253,
          1.14263,
          1.14254,
          1.14249
         ],
         "low": [
          1.14215,
          1.1424,
          1.14242,
          1.14223,
          1.14232,
          1.14249,
          1.1424,
          1.14226
         ],
         "open": [
          1.14216,
          1.14242,
          1.14248,
          1.14242,
          1.14236,
          1.14249,
          1.14249,
          1.14246
         ],
         "type": "candlestick",
         "x": [
          "2022-02-07T10:01:00.000000000Z",
          "2022-02-07T10:02:00.000000000Z",
          "2022-02-07T10:03:00.000000000Z",
          "2022-02-07T10:04:00.000000000Z",
          "2022-02-07T10:05:00.000000000Z",
          "2022-02-07T10:06:00.000000000Z",
          "2022-02-07T10:07:00.000000000Z",
          "2022-02-07T10:08:00.000000000Z"
         ]
        }
       ],
       "layout": {
        "template": {
         "data": {
          "bar": [
           {
            "error_x": {
             "color": "#2a3f5f"
            },
            "error_y": {
             "color": "#2a3f5f"
            },
            "marker": {
             "line": {
              "color": "#E5ECF6",
              "width": 0.5
             },
             "pattern": {
              "fillmode": "overlay",
              "size": 10,
              "solidity": 0.2
             }
            },
            "type": "bar"
           }
          ],
          "barpolar": [
           {
            "marker": {
             "line": {
              "color": "#E5ECF6",
              "width": 0.5
             },
             "pattern": {
              "fillmode": "overlay",
              "size": 10,
              "solidity": 0.2
             }
            },
            "type": "barpolar"
           }
          ],
          "carpet": [
           {
            "aaxis": {
             "endlinecolor": "#2a3f5f",
             "gridcolor": "white",
             "linecolor": "white",
             "minorgridcolor": "white",
             "startlinecolor": "#2a3f5f"
            },
            "baxis": {
             "endlinecolor": "#2a3f5f",
             "gridcolor": "white",
             "linecolor": "white",
             "minorgridcolor": "white",
             "startlinecolor": "#2a3f5f"
            },
            "type": "carpet"
           }
          ],
          "choropleth": [
           {
            "colorbar": {
             "outlinewidth": 0,
             "ticks": ""
            },
            "type": "choropleth"
           }
          ],
          "contour": [
           {
            "colorbar": {
             "outlinewidth": 0,
             "ticks": ""
            },
            "colorscale": [
             [
              0,
              "#0d0887"
             ],
             [
              0.1111111111111111,
              "#46039f"
             ],
             [
              0.2222222222222222,
              "#7201a8"
             ],
             [
              0.3333333333333333,
              "#9c179e"
             ],
             [
              0.4444444444444444,
              "#bd3786"
             ],
             [
              0.5555555555555556,
              "#d8576b"
             ],
             [
              0.6666666666666666,
              "#ed7953"
             ],
             [
              0.7777777777777778,
              "#fb9f3a"
             ],
             [
              0.8888888888888888,
              "#fdca26"
             ],
             [
              1,
              "#f0f921"
             ]
            ],
            "type": "contour"
           }
          ],
          "contourcarpet": [
           {
            "colorbar": {
             "outlinewidth": 0,
             "ticks": ""
            },
            "type": "contourcarpet"
           }
          ],
          "heatmap": [
           {
            "colorbar": {
             "outlinewidth": 0,
             "ticks": ""
            },
            "colorscale": [
             [
              0,
              "#0d0887"
             ],
             [
              0.1111111111111111,
              "#46039f"
             ],
             [
              0.2222222222222222,
              "#7201a8"
             ],
             [
              0.3333333333333333,
              "#9c179e"
             ],
             [
              0.4444444444444444,
              "#bd3786"
             ],
             [
              0.5555555555555556,
              "#d8576b"
             ],
             [
              0.6666666666666666,
              "#ed7953"
             ],
             [
              0.7777777777777778,
              "#fb9f3a"
             ],
             [
              0.8888888888888888,
              "#fdca26"
             ],
             [
              1,
              "#f0f921"
             ]
            ],
            "type": "heatmap"
           }
          ],
          "heatmapgl": [
           {
            "colorbar": {
             "outlinewidth": 0,
             "ticks": ""
            },
            "colorscale": [
             [
              0,
              "#0d0887"
             ],
             [
              0.1111111111111111,
              "#46039f"
             ],
             [
              0.2222222222222222,
              "#7201a8"
             ],
             [
              0.3333333333333333,
              "#9c179e"
             ],
             [
              0.4444444444444444,
              "#bd3786"
             ],
             [
              0.5555555555555556,
              "#d8576b"
             ],
             [
              0.6666666666666666,
              "#ed7953"
             ],
             [
              0.7777777777777778,
              "#fb9f3a"
             ],
             [
              0.8888888888888888,
              "#fdca26"
             ],
             [
              1,
              "#f0f921"
             ]
            ],
            "type": "heatmapgl"
           }
          ],
          "histogram": [
           {
            "marker": {
             "pattern": {
              "fillmode": "overlay",
              "size": 10,
              "solidity": 0.2
             }
            },
            "type": "histogram"
           }
          ],
          "histogram2d": [
           {
            "colorbar": {
             "outlinewidth": 0,
             "ticks": ""
            },
            "colorscale": [
             [
              0,
              "#0d0887"
             ],
             [
              0.1111111111111111,
              "#46039f"
             ],
             [
              0.2222222222222222,
              "#7201a8"
             ],
             [
              0.3333333333333333,
              "#9c179e"
             ],
             [
              0.4444444444444444,
              "#bd3786"
             ],
             [
              0.5555555555555556,
              "#d8576b"
             ],
             [
              0.6666666666666666,
              "#ed7953"
             ],
             [
              0.7777777777777778,
              "#fb9f3a"
             ],
             [
              0.8888888888888888,
              "#fdca26"
             ],
             [
              1,
              "#f0f921"
             ]
            ],
            "type": "histogram2d"
           }
          ],
          "histogram2dcontour": [
           {
            "colorbar": {
             "outlinewidth": 0,
             "ticks": ""
            },
            "colorscale": [
             [
              0,
              "#0d0887"
             ],
             [
              0.1111111111111111,
              "#46039f"
             ],
             [
              0.2222222222222222,
              "#7201a8"
             ],
             [
              0.3333333333333333,
              "#9c179e"
             ],
             [
              0.4444444444444444,
              "#bd3786"
             ],
             [
              0.5555555555555556,
              "#d8576b"
             ],
             [
              0.6666666666666666,
              "#ed7953"
             ],
             [
              0.7777777777777778,
              "#fb9f3a"
             ],
             [
              0.8888888888888888,
              "#fdca26"
             ],
             [
              1,
              "#f0f921"
             ]
            ],
            "type": "histogram2dcontour"
           }
          ],
          "mesh3d": [
           {
            "colorbar": {
             "outlinewidth": 0,
             "ticks": ""
            },
            "type": "mesh3d"
           }
          ],
          "parcoords": [
           {
            "line": {
             "colorbar": {
              "outlinewidth": 0,
              "ticks": ""
             }
            },
            "type": "parcoords"
           }
          ],
          "pie": [
           {
            "automargin": true,
            "type": "pie"
           }
          ],
          "scatter": [
           {
            "marker": {
             "colorbar": {
              "outlinewidth": 0,
              "ticks": ""
             }
            },
            "type": "scatter"
           }
          ],
          "scatter3d": [
           {
            "line": {
             "colorbar": {
              "outlinewidth": 0,
              "ticks": ""
             }
            },
            "marker": {
             "colorbar": {
              "outlinewidth": 0,
              "ticks": ""
             }
            },
            "type": "scatter3d"
           }
          ],
          "scattercarpet": [
           {
            "marker": {
             "colorbar": {
              "outlinewidth": 0,
              "ticks": ""
             }
            },
            "type": "scattercarpet"
           }
          ],
          "scattergeo": [
           {
            "marker": {
             "colorbar": {
              "outlinewidth": 0,
              "ticks": ""
             }
            },
            "type": "scattergeo"
           }
          ],
          "scattergl": [
           {
            "marker": {
             "colorbar": {
              "outlinewidth": 0,
              "ticks": ""
             }
            },
            "type": "scattergl"
           }
          ],
          "scattermapbox": [
           {
            "marker": {
             "colorbar": {
              "outlinewidth": 0,
              "ticks": ""
             }
            },
            "type": "scattermapbox"
           }
          ],
          "scatterpolar": [
           {
            "marker": {
             "colorbar": {
              "outlinewidth": 0,
              "ticks": ""
             }
            },
            "type": "scatterpolar"
           }
          ],
          "scatterpolargl": [
           {
            "marker": {
             "colorbar": {
              "outlinewidth": 0,
              "ticks": ""
             }
            },
            "type": "scatterpolargl"
           }
          ],
          "scatterternary": [
           {
            "marker": {
             "colorbar": {
              "outlinewidth": 0,
              "ticks": ""
             }
            },
            "type": "scatterternary"
           }
          ],
          "surface": [
           {
            "colorbar": {
             "outlinewidth": 0,
             "ticks": ""
            },
            "colorscale": [
             [
              0,
              "#0d0887"
             ],
             [
              0.1111111111111111,
              "#46039f"
             ],
             [
              0.2222222222222222,
              "#7201a8"
             ],
             [
              0.3333333333333333,
              "#9c179e"
             ],
             [
              0.4444444444444444,
              "#bd3786"
             ],
             [
              0.5555555555555556,
              "#d8576b"
             ],
             [
              0.6666666666666666,
              "#ed7953"
             ],
             [
              0.7777777777777778,
              "#fb9f3a"
             ],
             [
              0.8888888888888888,
              "#fdca26"
             ],
             [
              1,
              "#f0f921"
             ]
            ],
            "type": "surface"
           }
          ],
          "table": [
           {
            "cells": {
             "fill": {
              "color": "#EBF0F8"
             },
             "line": {
              "color": "white"
             }
            },
            "header": {
             "fill": {
              "color": "#C8D4E3"
             },
             "line": {
              "color": "white"
             }
            },
            "type": "table"
           }
          ]
         },
         "layout": {
          "annotationdefaults": {
           "arrowcolor": "#2a3f5f",
           "arrowhead": 0,
           "arrowwidth": 1
          },
          "autotypenumbers": "strict",
          "coloraxis": {
           "colorbar": {
            "outlinewidth": 0,
            "ticks": ""
           }
          },
          "colorscale": {
           "diverging": [
            [
             0,
             "#8e0152"
            ],
            [
             0.1,
             "#c51b7d"
            ],
            [
             0.2,
             "#de77ae"
            ],
            [
             0.3,
             "#f1b6da"
            ],
            [
             0.4,
             "#fde0ef"
            ],
            [
             0.5,
             "#f7f7f7"
            ],
            [
             0.6,
             "#e6f5d0"
            ],
            [
             0.7,
             "#b8e186"
            ],
            [
             0.8,
             "#7fbc41"
            ],
            [
             0.9,
             "#4d9221"
            ],
            [
             1,
             "#276419"
            ]
           ],
           "sequential": [
            [
             0,
             "#0d0887"
            ],
            [
             0.1111111111111111,
             "#46039f"
            ],
            [
             0.2222222222222222,
             "#7201a8"
            ],
            [
             0.3333333333333333,
             "#9c179e"
            ],
            [
             0.4444444444444444,
             "#bd3786"
            ],
            [
             0.5555555555555556,
             "#d8576b"
            ],
            [
             0.6666666666666666,
             "#ed7953"
            ],
            [
             0.7777777777777778,
             "#fb9f3a"
            ],
            [
             0.8888888888888888,
             "#fdca26"
            ],
            [
             1,
             "#f0f921"
            ]
           ],
           "sequentialminus": [
            [
             0,
             "#0d0887"
            ],
            [
             0.1111111111111111,
             "#46039f"
            ],
            [
             0.2222222222222222,
             "#7201a8"
            ],
            [
             0.3333333333333333,
             "#9c179e"
            ],
            [
             0.4444444444444444,
             "#bd3786"
            ],
            [
             0.5555555555555556,
             "#d8576b"
            ],
            [
             0.6666666666666666,
             "#ed7953"
            ],
            [
             0.7777777777777778,
             "#fb9f3a"
            ],
            [
             0.8888888888888888,
             "#fdca26"
            ],
            [
             1,
             "#f0f921"
            ]
           ]
          },
          "colorway": [
           "#636efa",
           "#EF553B",
           "#00cc96",
           "#ab63fa",
           "#FFA15A",
           "#19d3f3",
           "#FF6692",
           "#B6E880",
           "#FF97FF",
           "#FECB52"
          ],
          "font": {
           "color": "#2a3f5f"
          },
          "geo": {
           "bgcolor": "white",
           "lakecolor": "white",
           "landcolor": "#E5ECF6",
           "showlakes": true,
           "showland": true,
           "subunitcolor": "white"
          },
          "hoverlabel": {
           "align": "left"
          },
          "hovermode": "closest",
          "mapbox": {
           "style": "light"
          },
          "paper_bgcolor": "white",
          "plot_bgcolor": "#E5ECF6",
          "polar": {
           "angularaxis": {
            "gridcolor": "white",
            "linecolor": "white",
            "ticks": ""
           },
           "bgcolor": "#E5ECF6",
           "radialaxis": {
            "gridcolor": "white",
            "linecolor": "white",
            "ticks": ""
           }
          },
          "scene": {
           "xaxis": {
            "backgroundcolor": "#E5ECF6",
            "gridcolor": "white",
            "gridwidth": 2,
            "linecolor": "white",
            "showbackground": true,
            "ticks": "",
            "zerolinecolor": "white"
           },
           "yaxis": {
            "backgroundcolor": "#E5ECF6",
            "gridcolor": "white",
            "gridwidth": 2,
            "linecolor": "white",
            "showbackground": true,
            "ticks": "",
            "zerolinecolor": "white"
           },
           "zaxis": {
            "backgroundcolor": "#E5ECF6",
            "gridcolor": "white",
            "gridwidth": 2,
            "linecolor": "white",
            "showbackground": true,
            "ticks": "",
            "zerolinecolor": "white"
           }
          },
          "shapedefaults": {
           "line": {
            "color": "#2a3f5f"
           }
          },
          "ternary": {
           "aaxis": {
            "gridcolor": "white",
            "linecolor": "white",
            "ticks": ""
           },
           "baxis": {
            "gridcolor": "white",
            "linecolor": "white",
            "ticks": ""
           },
           "bgcolor": "#E5ECF6",
           "caxis": {
            "gridcolor": "white",
            "linecolor": "white",
            "ticks": ""
           }
          },
          "title": {
           "x": 0.05
          },
          "xaxis": {
           "automargin": true,
           "gridcolor": "white",
           "linecolor": "white",
           "ticks": "",
           "title": {
            "standoff": 15
           },
           "zerolinecolor": "white",
           "zerolinewidth": 2
          },
          "yaxis": {
           "automargin": true,
           "gridcolor": "white",
           "linecolor": "white",
           "ticks": "",
           "title": {
            "standoff": 15
           },
           "zerolinecolor": "white",
           "zerolinewidth": 2
          }
         }
        }
       }
      }
     },
     "metadata": {},
     "output_type": "display_data"
    }
   ],
   "source": [
    "dfpl = df[0:500]\n",
    "import plotly.graph_objects as go\n",
    "from datetime import datetime\n",
    "\n",
    "fig = go.Figure(data=[go.Candlestick(x=df['Time'],\n",
    "                open=dfpl['Open'],\n",
    "                high=dfpl['High'],\n",
    "                low=dfpl['Low'],\n",
    "                close=dfpl['Close'])])\n",
    "\n",
    "fig.show()"
   ]
  },
  {
   "cell_type": "code",
   "execution_count": 41,
   "metadata": {},
   "outputs": [
    {
     "ename": "KeyError",
     "evalue": "8",
     "output_type": "error",
     "traceback": [
      "\u001b[0;31m---------------------------------------------------------------------------\u001b[0m",
      "\u001b[0;31mValueError\u001b[0m                                Traceback (most recent call last)",
      "File \u001b[0;32m~/Downloads/pirate_arbbot-main/pirateenv/lib/python3.8/site-packages/pandas/core/indexes/range.py:385\u001b[0m, in \u001b[0;36mRangeIndex.get_loc\u001b[0;34m(self, key, method, tolerance)\u001b[0m\n\u001b[1;32m    <a href='file:///~/Downloads/pirate_arbbot-main/pirateenv/lib/python3.8/site-packages/pandas/core/indexes/range.py?line=383'>384</a>\u001b[0m \u001b[39mtry\u001b[39;00m:\n\u001b[0;32m--> <a href='file:///~/Downloads/pirate_arbbot-main/pirateenv/lib/python3.8/site-packages/pandas/core/indexes/range.py?line=384'>385</a>\u001b[0m     \u001b[39mreturn\u001b[39;00m \u001b[39mself\u001b[39;49m\u001b[39m.\u001b[39;49m_range\u001b[39m.\u001b[39;49mindex(new_key)\n\u001b[1;32m    <a href='file:///~/Downloads/pirate_arbbot-main/pirateenv/lib/python3.8/site-packages/pandas/core/indexes/range.py?line=385'>386</a>\u001b[0m \u001b[39mexcept\u001b[39;00m \u001b[39mValueError\u001b[39;00m \u001b[39mas\u001b[39;00m err:\n",
      "\u001b[0;31mValueError\u001b[0m: 8 is not in range",
      "\nThe above exception was the direct cause of the following exception:\n",
      "\u001b[0;31mKeyError\u001b[0m                                  Traceback (most recent call last)",
      "\u001b[1;32m/home/shubham/Downloads/pirate_arbbot-main/Bot_API_and_Indicator/EURUSD_D1_ResistanceSupportDetection.ipynb Cell 6'\u001b[0m in \u001b[0;36m<module>\u001b[0;34m\u001b[0m\n\u001b[1;32m      <a href='vscode-notebook-cell:/home/shubham/Downloads/pirate_arbbot-main/Bot_API_and_Indicator/EURUSD_D1_ResistanceSupportDetection.ipynb#ch0000006?line=2'>3</a>\u001b[0m n2\u001b[39m=\u001b[39m\u001b[39m2\u001b[39m\n\u001b[1;32m      <a href='vscode-notebook-cell:/home/shubham/Downloads/pirate_arbbot-main/Bot_API_and_Indicator/EURUSD_D1_ResistanceSupportDetection.ipynb#ch0000006?line=3'>4</a>\u001b[0m \u001b[39mfor\u001b[39;00m row \u001b[39min\u001b[39;00m \u001b[39mrange\u001b[39m(\u001b[39m3\u001b[39m, \u001b[39m205\u001b[39m): \u001b[39m#len(df)-n2\u001b[39;00m\n\u001b[0;32m----> <a href='vscode-notebook-cell:/home/shubham/Downloads/pirate_arbbot-main/Bot_API_and_Indicator/EURUSD_D1_ResistanceSupportDetection.ipynb#ch0000006?line=4'>5</a>\u001b[0m     \u001b[39mif\u001b[39;00m support(df, row, n1, n2):\n\u001b[1;32m      <a href='vscode-notebook-cell:/home/shubham/Downloads/pirate_arbbot-main/Bot_API_and_Indicator/EURUSD_D1_ResistanceSupportDetection.ipynb#ch0000006?line=5'>6</a>\u001b[0m         sr\u001b[39m.\u001b[39mappend((row,df\u001b[39m.\u001b[39mLow[row],\u001b[39m1\u001b[39m))\n\u001b[1;32m      <a href='vscode-notebook-cell:/home/shubham/Downloads/pirate_arbbot-main/Bot_API_and_Indicator/EURUSD_D1_ResistanceSupportDetection.ipynb#ch0000006?line=6'>7</a>\u001b[0m     \u001b[39mif\u001b[39;00m resistance(df, row, n1, n2):\n",
      "\u001b[1;32m/home/shubham/Downloads/pirate_arbbot-main/Bot_API_and_Indicator/EURUSD_D1_ResistanceSupportDetection.ipynb Cell 4'\u001b[0m in \u001b[0;36msupport\u001b[0;34m(df1, l, n1, n2)\u001b[0m\n\u001b[1;32m      <a href='vscode-notebook-cell:/home/shubham/Downloads/pirate_arbbot-main/Bot_API_and_Indicator/EURUSD_D1_ResistanceSupportDetection.ipynb#ch0000004?line=0'>1</a>\u001b[0m \u001b[39mdef\u001b[39;00m \u001b[39msupport\u001b[39m(df1, l, n1, n2): \u001b[39m#n1 n2 before and after candle l\u001b[39;00m\n\u001b[1;32m      <a href='vscode-notebook-cell:/home/shubham/Downloads/pirate_arbbot-main/Bot_API_and_Indicator/EURUSD_D1_ResistanceSupportDetection.ipynb#ch0000004?line=1'>2</a>\u001b[0m     \u001b[39mfor\u001b[39;00m i \u001b[39min\u001b[39;00m \u001b[39mrange\u001b[39m(l\u001b[39m-\u001b[39mn1\u001b[39m+\u001b[39m\u001b[39m1\u001b[39m, l\u001b[39m+\u001b[39m\u001b[39m1\u001b[39m):\n\u001b[0;32m----> <a href='vscode-notebook-cell:/home/shubham/Downloads/pirate_arbbot-main/Bot_API_and_Indicator/EURUSD_D1_ResistanceSupportDetection.ipynb#ch0000004?line=2'>3</a>\u001b[0m         \u001b[39mif\u001b[39;00m(df1\u001b[39m.\u001b[39;49mLow[i]\u001b[39m>\u001b[39mdf1\u001b[39m.\u001b[39mLow[i\u001b[39m-\u001b[39m\u001b[39m1\u001b[39m]):\n\u001b[1;32m      <a href='vscode-notebook-cell:/home/shubham/Downloads/pirate_arbbot-main/Bot_API_and_Indicator/EURUSD_D1_ResistanceSupportDetection.ipynb#ch0000004?line=3'>4</a>\u001b[0m             \u001b[39mreturn\u001b[39;00m \u001b[39m0\u001b[39m\n\u001b[1;32m      <a href='vscode-notebook-cell:/home/shubham/Downloads/pirate_arbbot-main/Bot_API_and_Indicator/EURUSD_D1_ResistanceSupportDetection.ipynb#ch0000004?line=4'>5</a>\u001b[0m     \u001b[39mfor\u001b[39;00m i \u001b[39min\u001b[39;00m \u001b[39mrange\u001b[39m(l\u001b[39m+\u001b[39m\u001b[39m1\u001b[39m,l\u001b[39m+\u001b[39mn2\u001b[39m+\u001b[39m\u001b[39m1\u001b[39m):\n",
      "File \u001b[0;32m~/Downloads/pirate_arbbot-main/pirateenv/lib/python3.8/site-packages/pandas/core/series.py:959\u001b[0m, in \u001b[0;36mSeries.__getitem__\u001b[0;34m(self, key)\u001b[0m\n\u001b[1;32m    <a href='file:///~/Downloads/pirate_arbbot-main/pirateenv/lib/python3.8/site-packages/pandas/core/series.py?line=955'>956</a>\u001b[0m     \u001b[39mreturn\u001b[39;00m \u001b[39mself\u001b[39m\u001b[39m.\u001b[39m_values[key]\n\u001b[1;32m    <a href='file:///~/Downloads/pirate_arbbot-main/pirateenv/lib/python3.8/site-packages/pandas/core/series.py?line=957'>958</a>\u001b[0m \u001b[39melif\u001b[39;00m key_is_scalar:\n\u001b[0;32m--> <a href='file:///~/Downloads/pirate_arbbot-main/pirateenv/lib/python3.8/site-packages/pandas/core/series.py?line=958'>959</a>\u001b[0m     \u001b[39mreturn\u001b[39;00m \u001b[39mself\u001b[39;49m\u001b[39m.\u001b[39;49m_get_value(key)\n\u001b[1;32m    <a href='file:///~/Downloads/pirate_arbbot-main/pirateenv/lib/python3.8/site-packages/pandas/core/series.py?line=960'>961</a>\u001b[0m \u001b[39mif\u001b[39;00m is_hashable(key):\n\u001b[1;32m    <a href='file:///~/Downloads/pirate_arbbot-main/pirateenv/lib/python3.8/site-packages/pandas/core/series.py?line=961'>962</a>\u001b[0m     \u001b[39m# Otherwise index.get_value will raise InvalidIndexError\u001b[39;00m\n\u001b[1;32m    <a href='file:///~/Downloads/pirate_arbbot-main/pirateenv/lib/python3.8/site-packages/pandas/core/series.py?line=962'>963</a>\u001b[0m     \u001b[39mtry\u001b[39;00m:\n\u001b[1;32m    <a href='file:///~/Downloads/pirate_arbbot-main/pirateenv/lib/python3.8/site-packages/pandas/core/series.py?line=963'>964</a>\u001b[0m         \u001b[39m# For labels that don't resolve as scalars like tuples and frozensets\u001b[39;00m\n",
      "File \u001b[0;32m~/Downloads/pirate_arbbot-main/pirateenv/lib/python3.8/site-packages/pandas/core/series.py:1070\u001b[0m, in \u001b[0;36mSeries._get_value\u001b[0;34m(self, label, takeable)\u001b[0m\n\u001b[1;32m   <a href='file:///~/Downloads/pirate_arbbot-main/pirateenv/lib/python3.8/site-packages/pandas/core/series.py?line=1066'>1067</a>\u001b[0m     \u001b[39mreturn\u001b[39;00m \u001b[39mself\u001b[39m\u001b[39m.\u001b[39m_values[label]\n\u001b[1;32m   <a href='file:///~/Downloads/pirate_arbbot-main/pirateenv/lib/python3.8/site-packages/pandas/core/series.py?line=1068'>1069</a>\u001b[0m \u001b[39m# Similar to Index.get_value, but we do not fall back to positional\u001b[39;00m\n\u001b[0;32m-> <a href='file:///~/Downloads/pirate_arbbot-main/pirateenv/lib/python3.8/site-packages/pandas/core/series.py?line=1069'>1070</a>\u001b[0m loc \u001b[39m=\u001b[39m \u001b[39mself\u001b[39;49m\u001b[39m.\u001b[39;49mindex\u001b[39m.\u001b[39;49mget_loc(label)\n\u001b[1;32m   <a href='file:///~/Downloads/pirate_arbbot-main/pirateenv/lib/python3.8/site-packages/pandas/core/series.py?line=1070'>1071</a>\u001b[0m \u001b[39mreturn\u001b[39;00m \u001b[39mself\u001b[39m\u001b[39m.\u001b[39mindex\u001b[39m.\u001b[39m_get_values_for_loc(\u001b[39mself\u001b[39m, loc, label)\n",
      "File \u001b[0;32m~/Downloads/pirate_arbbot-main/pirateenv/lib/python3.8/site-packages/pandas/core/indexes/range.py:387\u001b[0m, in \u001b[0;36mRangeIndex.get_loc\u001b[0;34m(self, key, method, tolerance)\u001b[0m\n\u001b[1;32m    <a href='file:///~/Downloads/pirate_arbbot-main/pirateenv/lib/python3.8/site-packages/pandas/core/indexes/range.py?line=384'>385</a>\u001b[0m         \u001b[39mreturn\u001b[39;00m \u001b[39mself\u001b[39m\u001b[39m.\u001b[39m_range\u001b[39m.\u001b[39mindex(new_key)\n\u001b[1;32m    <a href='file:///~/Downloads/pirate_arbbot-main/pirateenv/lib/python3.8/site-packages/pandas/core/indexes/range.py?line=385'>386</a>\u001b[0m     \u001b[39mexcept\u001b[39;00m \u001b[39mValueError\u001b[39;00m \u001b[39mas\u001b[39;00m err:\n\u001b[0;32m--> <a href='file:///~/Downloads/pirate_arbbot-main/pirateenv/lib/python3.8/site-packages/pandas/core/indexes/range.py?line=386'>387</a>\u001b[0m         \u001b[39mraise\u001b[39;00m \u001b[39mKeyError\u001b[39;00m(key) \u001b[39mfrom\u001b[39;00m \u001b[39merr\u001b[39;00m\n\u001b[1;32m    <a href='file:///~/Downloads/pirate_arbbot-main/pirateenv/lib/python3.8/site-packages/pandas/core/indexes/range.py?line=387'>388</a>\u001b[0m \u001b[39mself\u001b[39m\u001b[39m.\u001b[39m_check_indexing_error(key)\n\u001b[1;32m    <a href='file:///~/Downloads/pirate_arbbot-main/pirateenv/lib/python3.8/site-packages/pandas/core/indexes/range.py?line=388'>389</a>\u001b[0m \u001b[39mraise\u001b[39;00m \u001b[39mKeyError\u001b[39;00m(key)\n",
      "\u001b[0;31mKeyError\u001b[0m: 8"
     ]
    }
   ],
   "source": [
    "sr = []\n",
    "n1=3\n",
    "n2=2\n",
    "for row in range(3, 7): #len(df)-n2\n",
    "    if support(df, row, n1, n2):\n",
    "        sr.append((row,df.Low[row],1))\n",
    "    if resistance(df, row, n1, n2):\n",
    "        sr.append((row,df.High[row],2))\n",
    "print(sr)"
   ]
  },
  {
   "cell_type": "code",
   "execution_count": 8,
   "metadata": {},
   "outputs": [
    {
     "data": {
      "application/vnd.plotly.v1+json": {
       "config": {
        "plotlyServerURL": "https://plot.ly"
       },
       "data": [
        {
         "close": [
          1.12804,
          1.14368,
          1.13677,
          1.15026,
          1.14907,
          1.15457,
          1.1515,
          1.1497,
          1.13877,
          1.15735,
          1.16596,
          1.17069,
          1.16746,
          1.1693799999999999,
          1.18266,
          1.1869,
          1.18288,
          1.17649,
          1.1883299999999999,
          1.1769100000000001,
          1.1747299999999998,
          1.17391,
          1.16645,
          1.18405,
          1.17001,
          1.17161,
          1.16759,
          1.17421,
          1.17638,
          1.1863,
          1.18356,
          1.17937,
          1.16883,
          1.17203,
          1.1604,
          1.15429,
          1.15171,
          1.15398,
          1.14181,
          1.14254,
          1.15116,
          1.15608,
          1.15396,
          1.14945,
          1.1489200000000002,
          1.13252,
          1.13151,
          1.13481,
          1.13891,
          1.1299,
          1.12779,
          1.11858,
          1.12068,
          1.12079,
          1.1274600000000001,
          1.13495,
          1.13315,
          1.14754,
          1.14695,
          1.15079,
          1.14909,
          1.1458899999999999,
          1.13426,
          1.12428,
          1.12541,
          1.1357,
          1.13893,
          1.13321,
          1.13732,
          1.13083,
          1.13582,
          1.1283,
          1.1322,
          1.1257700000000002,
          1.12663,
          1.11428,
          1.11392,
          1.11185,
          1.09226,
          1.08761,
          1.08735,
          1.08542,
          1.0886,
          1.0881100000000001,
          1.09847,
          1.09675,
          1.08079,
          1.08474,
          1.0943,
          1.11049,
          1.10649,
          1.12238,
          1.12076,
          1.12089,
          1.12913,
          1.1281700000000001,
          1.1174600000000001,
          1.12834,
          1.1255600000000001,
          1.13792,
          1.14602,
          1.14404,
          1.14949,
          1.1490200000000002,
          1.1460700000000001,
          1.15971,
          1.16547,
          1.17146,
          1.16926,
          1.1581,
          1.17079,
          1.1759,
          1.18092,
          1.1745700000000001,
          1.1795799999999999,
          1.1703,
          1.17234,
          1.16339,
          1.15873,
          1.16812,
          1.16336,
          1.1667100000000001,
          1.18011,
          1.17915,
          1.1779700000000002,
          1.1744,
          1.1670399999999999,
          1.16618,
          1.16225,
          1.15877,
          1.14554,
          1.14933,
          1.14378,
          1.14153,
          1.15295,
          1.1479700000000002,
          1.1520000000000001,
          1.1628399999999999,
          1.1732200000000002,
          1.1775799999999998,
          1.1747100000000001,
          1.1971,
          1.1875799999999999,
          1.1911100000000001,
          1.1915200000000001,
          1.177,
          1.17899,
          1.194,
          1.19071,
          1.19928,
          1.19805,
          1.20811,
          1.2107700000000001,
          1.20855,
          1.2166,
          1.2218,
          1.22543,
          1.22145,
          1.22187,
          1.22756,
          1.23173,
          1.23302,
          1.2410700000000001,
          1.24231,
          1.23739,
          1.23956,
          1.23927,
          1.2446,
          1.2452,
          1.24272,
          1.24892,
          1.25492,
          1.25925,
          1.25454,
          1.25832,
          1.2675299999999998,
          1.2725600000000001,
          1.26322,
          1.27661,
          1.28149,
          1.27493,
          1.27714,
          1.26473,
          1.25766,
          1.2396200000000002,
          1.23478,
          1.25787,
          1.26425,
          1.27183,
          1.25797,
          1.24575,
          1.2643,
          1.24681,
          1.24072,
          1.24747,
          1.24237,
          1.25407,
          1.25327,
          1.2546,
          1.27026
         ],
         "high": [
          1.13019,
          1.1451,
          1.14448,
          1.1509200000000002,
          1.1537600000000001,
          1.16244,
          1.15751,
          1.15388,
          1.14988,
          1.1578600000000001,
          1.17363,
          1.17156,
          1.1745299999999999,
          1.17276,
          1.18373,
          1.18754,
          1.193,
          1.1845299999999999,
          1.19008,
          1.1915799999999999,
          1.17672,
          1.17783,
          1.1747299999999998,
          1.1886,
          1.18785,
          1.17859,
          1.17415,
          1.1782,
          1.18058,
          1.18774,
          1.19278,
          1.18662,
          1.18039,
          1.17387,
          1.17347,
          1.1603299999999999,
          1.15811,
          1.16215,
          1.15523,
          1.14675,
          1.15141,
          1.16079,
          1.1568399999999999,
          1.1544299999999998,
          1.15019,
          1.149,
          1.1350799999999999,
          1.13667,
          1.13924,
          1.1390799999999999,
          1.1308,
          1.1336899999999999,
          1.12315,
          1.1248799999999999,
          1.13032,
          1.1354600000000001,
          1.13734,
          1.14898,
          1.15101,
          1.15487,
          1.15182,
          1.1538,
          1.1461,
          1.13713,
          1.12716,
          1.13749,
          1.13976,
          1.14265,
          1.1415,
          1.13838,
          1.13798,
          1.13715,
          1.1332200000000001,
          1.13375,
          1.12963,
          1.1269,
          1.11522,
          1.11475,
          1.11226,
          1.09456,
          1.09184,
          1.09096,
          1.0929799999999998,
          1.09125,
          1.09974,
          1.10138,
          1.09713,
          1.08725,
          1.09505,
          1.1112600000000001,
          1.11297,
          1.12402,
          1.12362,
          1.12705,
          1.13228,
          1.1309799999999999,
          1.1318,
          1.1299700000000001,
          1.13424,
          1.13837,
          1.15046,
          1.1524299999999998,
          1.15049,
          1.15331,
          1.14975,
          1.16015,
          1.17339,
          1.17288,
          1.17677,
          1.17205,
          1.1723700000000001,
          1.18115,
          1.1839600000000001,
          1.18604,
          1.1846700000000001,
          1.1815,
          1.1765,
          1.1745,
          1.1694799999999999,
          1.1684299999999999,
          1.17285,
          1.17006,
          1.18265,
          1.18444,
          1.18566,
          1.1784299999999999,
          1.17507,
          1.1718,
          1.1754200000000001,
          1.16557,
          1.16192,
          1.1512200000000001,
          1.1498,
          1.14629,
          1.15428,
          1.15352,
          1.15304,
          1.1659899999999999,
          1.1738,
          1.1802,
          1.18485,
          1.1973799999999999,
          1.1977200000000001,
          1.19556,
          1.19379,
          1.19177,
          1.18185,
          1.19475,
          1.19411,
          1.20145,
          1.20403,
          1.20913,
          1.21268,
          1.21553,
          1.21781,
          1.22389,
          1.22745,
          1.2264899999999999,
          1.2233100000000001,
          1.23063,
          1.2322600000000001,
          1.23594,
          1.2420799999999999,
          1.2438200000000001,
          1.24346,
          1.2445899999999999,
          1.2425,
          1.24702,
          1.2462,
          1.2469299999999999,
          1.25078,
          1.25613,
          1.2646,
          1.26052,
          1.26282,
          1.26935,
          1.28093,
          1.27417,
          1.27796,
          1.2867600000000001,
          1.2897100000000001,
          1.27957,
          1.27878,
          1.2670700000000001,
          1.26091,
          1.2423,
          1.25952,
          1.2671,
          1.27485,
          1.27742,
          1.2610700000000001,
          1.2651700000000001,
          1.2661799999999999,
          1.25265,
          1.24911,
          1.24858,
          1.25973,
          1.25609,
          1.2636399999999999,
          1.27243
         ],
         "low": [
          1.1203,
          1.1273799999999998,
          1.13275,
          1.13026,
          1.14362,
          1.14946,
          1.1463,
          1.14681,
          1.13757,
          1.13691,
          1.16215,
          1.1601299999999999,
          1.1661700000000002,
          1.16192,
          1.16648,
          1.17972,
          1.1817600000000001,
          1.1704700000000001,
          1.16917,
          1.17439,
          1.16524,
          1.16875,
          1.16619,
          1.16287,
          1.1684299999999999,
          1.16564,
          1.1670399999999999,
          1.16581,
          1.17036,
          1.17354,
          1.18208,
          1.1768399999999999,
          1.16611,
          1.15836,
          1.15511,
          1.15081,
          1.1476600000000001,
          1.14913,
          1.1414,
          1.13994,
          1.13974,
          1.15025,
          1.15049,
          1.14326,
          1.1447200000000002,
          1.13132,
          1.1258700000000001,
          1.13047,
          1.1309799999999999,
          1.1275899999999999,
          1.12426,
          1.1156,
          1.11123,
          1.11562,
          1.11717,
          1.12411,
          1.13058,
          1.13139,
          1.1423299999999998,
          1.14439,
          1.14515,
          1.1451,
          1.13352,
          1.12237,
          1.11348,
          1.12581,
          1.1306399999999999,
          1.1325399999999999,
          1.13183,
          1.12866,
          1.12628,
          1.12758,
          1.12189,
          1.1224399999999999,
          1.1240299999999999,
          1.1123299999999998,
          1.10545,
          1.1079299999999999,
          1.08846,
          1.0836299999999999,
          1.08453,
          1.0793,
          1.08313,
          1.08097,
          1.0868799999999998,
          1.09517,
          1.08029,
          1.07616,
          1.08064,
          1.09159,
          1.10461,
          1.10524,
          1.1162,
          1.1154700000000002,
          1.1134600000000001,
          1.12411,
          1.11538,
          1.11382,
          1.1226399999999999,
          1.12382,
          1.14134,
          1.1435799999999998,
          1.14273,
          1.14578,
          1.14404,
          1.13941,
          1.15705,
          1.16424,
          1.16612,
          1.155,
          1.1532200000000001,
          1.16975,
          1.17587,
          1.1684,
          1.17022,
          1.16523,
          1.15818,
          1.15906,
          1.15734,
          1.15526,
          1.16016,
          1.1616799999999998,
          1.16477,
          1.17561,
          1.17601,
          1.1717600000000001,
          1.1654799999999998,
          1.16584,
          1.1616,
          1.15628,
          1.14275,
          1.14262,
          1.1413,
          1.13886,
          1.13783,
          1.1462700000000001,
          1.14431,
          1.1503,
          1.16251,
          1.1727100000000001,
          1.17245,
          1.17327,
          1.18733,
          1.18711,
          1.18567,
          1.17565,
          1.17519,
          1.17686,
          1.18831,
          1.18972,
          1.19364,
          1.19407,
          1.2069299999999998,
          1.2029,
          1.2061600000000001,
          1.21476,
          1.21869,
          1.21523,
          1.21123,
          1.22071,
          1.21288,
          1.23,
          1.22948,
          1.23587,
          1.2343,
          1.23479,
          1.23823,
          1.23924,
          1.24342,
          1.2420799999999999,
          1.24221,
          1.24758,
          1.25132,
          1.24698,
          1.25214,
          1.25795,
          1.2666600000000001,
          1.2623,
          1.2559,
          1.27034,
          1.27342,
          1.27119,
          1.26296,
          1.25614,
          1.23504,
          1.23337,
          1.2342600000000001,
          1.25504,
          1.26346,
          1.25631,
          1.24567,
          1.24403,
          1.2462799999999998,
          1.23617,
          1.23506,
          1.2389700000000001,
          1.24139,
          1.24929,
          1.25177,
          1.25118
         ],
         "open": [
          1.12354,
          1.12798,
          1.14367,
          1.13675,
          1.15002,
          1.1495799999999998,
          1.1542700000000001,
          1.1519,
          1.14983,
          1.13845,
          1.16634,
          1.1659,
          1.17059,
          1.16724,
          1.16947,
          1.1827,
          1.1867,
          1.18261,
          1.1765700000000001,
          1.1882700000000002,
          1.17149,
          1.17496,
          1.17365,
          1.16635,
          1.1838899999999999,
          1.1694,
          1.17146,
          1.16746,
          1.17429,
          1.17652,
          1.1869399999999999,
          1.1838600000000001,
          1.1791399999999999,
          1.1684,
          1.172,
          1.16025,
          1.15444,
          1.15188,
          1.15449,
          1.14215,
          1.1430799999999999,
          1.15154,
          1.15619,
          1.15415,
          1.14935,
          1.1487,
          1.13247,
          1.1317700000000002,
          1.13479,
          1.13877,
          1.12934,
          1.1277700000000002,
          1.11845,
          1.12119,
          1.12045,
          1.12685,
          1.1346100000000001,
          1.13267,
          1.14835,
          1.14749,
          1.1508399999999999,
          1.14947,
          1.14572,
          1.13437,
          1.1242,
          1.1284299999999998,
          1.1361299999999999,
          1.13867,
          1.13315,
          1.13716,
          1.1289799999999999,
          1.13588,
          1.12837,
          1.1323299999999998,
          1.12635,
          1.1249,
          1.11485,
          1.1138,
          1.1119299999999999,
          1.0920299999999998,
          1.08566,
          1.0874,
          1.08544,
          1.08856,
          1.08843,
          1.09943,
          1.0966799999999999,
          1.08117,
          1.08495,
          1.0944399999999999,
          1.11043,
          1.10695,
          1.12239,
          1.1210200000000001,
          1.12094,
          1.12745,
          1.1284100000000001,
          1.11782,
          1.1284299999999998,
          1.1257,
          1.14343,
          1.14588,
          1.14445,
          1.14951,
          1.14896,
          1.1455799999999998,
          1.1601,
          1.16585,
          1.17193,
          1.16943,
          1.15655,
          1.1711200000000002,
          1.1764700000000001,
          1.18097,
          1.17467,
          1.18109,
          1.1706,
          1.17264,
          1.16378,
          1.1586,
          1.17098,
          1.16362,
          1.16654,
          1.18021,
          1.17903,
          1.1774200000000001,
          1.17441,
          1.16701,
          1.16602,
          1.16228,
          1.15778,
          1.14573,
          1.14921,
          1.14391,
          1.14165,
          1.15034,
          1.14798,
          1.1521,
          1.1632799999999999,
          1.17325,
          1.17764,
          1.17479,
          1.19696,
          1.1875,
          1.19127,
          1.19084,
          1.17718,
          1.1790200000000002,
          1.19392,
          1.19068,
          1.19717,
          1.1982,
          1.20793,
          1.2109,
          1.20821,
          1.21725,
          1.22173,
          1.22576,
          1.22151,
          1.22213,
          1.2141899999999999,
          1.2316799999999999,
          1.23291,
          1.24091,
          1.2422,
          1.24025,
          1.23948,
          1.23943,
          1.24448,
          1.24499,
          1.24258,
          1.249,
          1.25495,
          1.25931,
          1.2543600000000001,
          1.25832,
          1.26736,
          1.27244,
          1.26306,
          1.27653,
          1.28538,
          1.27473,
          1.27736,
          1.2645600000000001,
          1.25753,
          1.23676,
          1.23496,
          1.25786,
          1.26405,
          1.2716399999999999,
          1.25742,
          1.24604,
          1.26445,
          1.24681,
          1.24062,
          1.24696,
          1.24248,
          1.25423,
          1.25345,
          1.25471
         ],
         "type": "candlestick",
         "x": [
          0,
          1,
          2,
          3,
          4,
          5,
          6,
          7,
          8,
          9,
          10,
          11,
          12,
          13,
          14,
          15,
          16,
          17,
          18,
          19,
          20,
          21,
          22,
          23,
          24,
          25,
          26,
          27,
          28,
          29,
          30,
          31,
          32,
          33,
          34,
          35,
          36,
          37,
          38,
          39,
          40,
          41,
          42,
          43,
          44,
          45,
          46,
          47,
          48,
          49,
          50,
          51,
          52,
          53,
          54,
          55,
          56,
          57,
          58,
          59,
          60,
          61,
          62,
          63,
          64,
          65,
          66,
          67,
          68,
          69,
          70,
          71,
          72,
          73,
          74,
          75,
          76,
          77,
          78,
          79,
          80,
          81,
          82,
          83,
          84,
          85,
          86,
          87,
          88,
          89,
          90,
          91,
          92,
          93,
          94,
          95,
          96,
          97,
          98,
          99,
          100,
          101,
          102,
          103,
          104,
          105,
          106,
          107,
          108,
          109,
          110,
          111,
          112,
          113,
          114,
          115,
          116,
          117,
          118,
          119,
          120,
          121,
          122,
          123,
          124,
          125,
          126,
          127,
          128,
          129,
          130,
          131,
          132,
          133,
          134,
          135,
          136,
          137,
          138,
          139,
          140,
          141,
          142,
          143,
          144,
          145,
          146,
          147,
          148,
          149,
          150,
          151,
          152,
          153,
          154,
          155,
          156,
          157,
          158,
          159,
          160,
          161,
          162,
          163,
          164,
          165,
          166,
          167,
          168,
          169,
          170,
          171,
          172,
          173,
          174,
          175,
          176,
          177,
          178,
          179,
          180,
          181,
          182,
          183,
          184,
          185,
          186,
          187,
          188,
          189,
          190,
          191,
          192,
          193,
          194,
          195,
          196,
          197,
          198,
          199
         ]
        }
       ],
       "layout": {
        "shapes": [
         {
          "type": "line",
          "x0": 0,
          "x1": 200,
          "y0": 1.16244,
          "y1": 1.16244
         },
         {
          "type": "line",
          "x0": 0,
          "x1": 200,
          "y0": 1.19278,
          "y1": 1.19278
         },
         {
          "type": "line",
          "x0": 0,
          "x1": 200,
          "y0": 1.13974,
          "y1": 1.13974
         },
         {
          "type": "line",
          "x0": 0,
          "x1": 200,
          "y0": 1.11123,
          "y1": 1.11123
         },
         {
          "type": "line",
          "x0": 0,
          "x1": 200,
          "y0": 1.11348,
          "y1": 1.11348
         },
         {
          "type": "line",
          "x0": 0,
          "x1": 200,
          "y0": 1.14265,
          "y1": 1.14265
         },
         {
          "type": "line",
          "x0": 0,
          "x1": 200,
          "y0": 1.18604,
          "y1": 1.18604
         },
         {
          "type": "line",
          "x0": 0,
          "x1": 200,
          "y0": 1.18566,
          "y1": 1.18566
         },
         {
          "type": "line",
          "x0": 0,
          "x1": 200,
          "y0": 1.1977200000000001,
          "y1": 1.1977200000000001
         },
         {
          "type": "line",
          "x0": 0,
          "x1": 200,
          "y0": 1.17519,
          "y1": 1.17519
         },
         {
          "type": "line",
          "x0": 0,
          "x1": 200,
          "y0": 1.22745,
          "y1": 1.22745
         },
         {
          "type": "line",
          "x0": 0,
          "x1": 200,
          "y0": 1.2897100000000001,
          "y1": 1.2897100000000001
         },
         {
          "type": "line",
          "x0": 0,
          "x1": 200,
          "y0": 1.23337,
          "y1": 1.23337
         }
        ],
        "template": {
         "data": {
          "bar": [
           {
            "error_x": {
             "color": "#2a3f5f"
            },
            "error_y": {
             "color": "#2a3f5f"
            },
            "marker": {
             "line": {
              "color": "#E5ECF6",
              "width": 0.5
             }
            },
            "type": "bar"
           }
          ],
          "barpolar": [
           {
            "marker": {
             "line": {
              "color": "#E5ECF6",
              "width": 0.5
             }
            },
            "type": "barpolar"
           }
          ],
          "carpet": [
           {
            "aaxis": {
             "endlinecolor": "#2a3f5f",
             "gridcolor": "white",
             "linecolor": "white",
             "minorgridcolor": "white",
             "startlinecolor": "#2a3f5f"
            },
            "baxis": {
             "endlinecolor": "#2a3f5f",
             "gridcolor": "white",
             "linecolor": "white",
             "minorgridcolor": "white",
             "startlinecolor": "#2a3f5f"
            },
            "type": "carpet"
           }
          ],
          "choropleth": [
           {
            "colorbar": {
             "outlinewidth": 0,
             "ticks": ""
            },
            "type": "choropleth"
           }
          ],
          "contour": [
           {
            "colorbar": {
             "outlinewidth": 0,
             "ticks": ""
            },
            "colorscale": [
             [
              0,
              "#0d0887"
             ],
             [
              0.1111111111111111,
              "#46039f"
             ],
             [
              0.2222222222222222,
              "#7201a8"
             ],
             [
              0.3333333333333333,
              "#9c179e"
             ],
             [
              0.4444444444444444,
              "#bd3786"
             ],
             [
              0.5555555555555556,
              "#d8576b"
             ],
             [
              0.6666666666666666,
              "#ed7953"
             ],
             [
              0.7777777777777778,
              "#fb9f3a"
             ],
             [
              0.8888888888888888,
              "#fdca26"
             ],
             [
              1,
              "#f0f921"
             ]
            ],
            "type": "contour"
           }
          ],
          "contourcarpet": [
           {
            "colorbar": {
             "outlinewidth": 0,
             "ticks": ""
            },
            "type": "contourcarpet"
           }
          ],
          "heatmap": [
           {
            "colorbar": {
             "outlinewidth": 0,
             "ticks": ""
            },
            "colorscale": [
             [
              0,
              "#0d0887"
             ],
             [
              0.1111111111111111,
              "#46039f"
             ],
             [
              0.2222222222222222,
              "#7201a8"
             ],
             [
              0.3333333333333333,
              "#9c179e"
             ],
             [
              0.4444444444444444,
              "#bd3786"
             ],
             [
              0.5555555555555556,
              "#d8576b"
             ],
             [
              0.6666666666666666,
              "#ed7953"
             ],
             [
              0.7777777777777778,
              "#fb9f3a"
             ],
             [
              0.8888888888888888,
              "#fdca26"
             ],
             [
              1,
              "#f0f921"
             ]
            ],
            "type": "heatmap"
           }
          ],
          "heatmapgl": [
           {
            "colorbar": {
             "outlinewidth": 0,
             "ticks": ""
            },
            "colorscale": [
             [
              0,
              "#0d0887"
             ],
             [
              0.1111111111111111,
              "#46039f"
             ],
             [
              0.2222222222222222,
              "#7201a8"
             ],
             [
              0.3333333333333333,
              "#9c179e"
             ],
             [
              0.4444444444444444,
              "#bd3786"
             ],
             [
              0.5555555555555556,
              "#d8576b"
             ],
             [
              0.6666666666666666,
              "#ed7953"
             ],
             [
              0.7777777777777778,
              "#fb9f3a"
             ],
             [
              0.8888888888888888,
              "#fdca26"
             ],
             [
              1,
              "#f0f921"
             ]
            ],
            "type": "heatmapgl"
           }
          ],
          "histogram": [
           {
            "marker": {
             "colorbar": {
              "outlinewidth": 0,
              "ticks": ""
             }
            },
            "type": "histogram"
           }
          ],
          "histogram2d": [
           {
            "colorbar": {
             "outlinewidth": 0,
             "ticks": ""
            },
            "colorscale": [
             [
              0,
              "#0d0887"
             ],
             [
              0.1111111111111111,
              "#46039f"
             ],
             [
              0.2222222222222222,
              "#7201a8"
             ],
             [
              0.3333333333333333,
              "#9c179e"
             ],
             [
              0.4444444444444444,
              "#bd3786"
             ],
             [
              0.5555555555555556,
              "#d8576b"
             ],
             [
              0.6666666666666666,
              "#ed7953"
             ],
             [
              0.7777777777777778,
              "#fb9f3a"
             ],
             [
              0.8888888888888888,
              "#fdca26"
             ],
             [
              1,
              "#f0f921"
             ]
            ],
            "type": "histogram2d"
           }
          ],
          "histogram2dcontour": [
           {
            "colorbar": {
             "outlinewidth": 0,
             "ticks": ""
            },
            "colorscale": [
             [
              0,
              "#0d0887"
             ],
             [
              0.1111111111111111,
              "#46039f"
             ],
             [
              0.2222222222222222,
              "#7201a8"
             ],
             [
              0.3333333333333333,
              "#9c179e"
             ],
             [
              0.4444444444444444,
              "#bd3786"
             ],
             [
              0.5555555555555556,
              "#d8576b"
             ],
             [
              0.6666666666666666,
              "#ed7953"
             ],
             [
              0.7777777777777778,
              "#fb9f3a"
             ],
             [
              0.8888888888888888,
              "#fdca26"
             ],
             [
              1,
              "#f0f921"
             ]
            ],
            "type": "histogram2dcontour"
           }
          ],
          "mesh3d": [
           {
            "colorbar": {
             "outlinewidth": 0,
             "ticks": ""
            },
            "type": "mesh3d"
           }
          ],
          "parcoords": [
           {
            "line": {
             "colorbar": {
              "outlinewidth": 0,
              "ticks": ""
             }
            },
            "type": "parcoords"
           }
          ],
          "pie": [
           {
            "automargin": true,
            "type": "pie"
           }
          ],
          "scatter": [
           {
            "marker": {
             "colorbar": {
              "outlinewidth": 0,
              "ticks": ""
             }
            },
            "type": "scatter"
           }
          ],
          "scatter3d": [
           {
            "line": {
             "colorbar": {
              "outlinewidth": 0,
              "ticks": ""
             }
            },
            "marker": {
             "colorbar": {
              "outlinewidth": 0,
              "ticks": ""
             }
            },
            "type": "scatter3d"
           }
          ],
          "scattercarpet": [
           {
            "marker": {
             "colorbar": {
              "outlinewidth": 0,
              "ticks": ""
             }
            },
            "type": "scattercarpet"
           }
          ],
          "scattergeo": [
           {
            "marker": {
             "colorbar": {
              "outlinewidth": 0,
              "ticks": ""
             }
            },
            "type": "scattergeo"
           }
          ],
          "scattergl": [
           {
            "marker": {
             "colorbar": {
              "outlinewidth": 0,
              "ticks": ""
             }
            },
            "type": "scattergl"
           }
          ],
          "scattermapbox": [
           {
            "marker": {
             "colorbar": {
              "outlinewidth": 0,
              "ticks": ""
             }
            },
            "type": "scattermapbox"
           }
          ],
          "scatterpolar": [
           {
            "marker": {
             "colorbar": {
              "outlinewidth": 0,
              "ticks": ""
             }
            },
            "type": "scatterpolar"
           }
          ],
          "scatterpolargl": [
           {
            "marker": {
             "colorbar": {
              "outlinewidth": 0,
              "ticks": ""
             }
            },
            "type": "scatterpolargl"
           }
          ],
          "scatterternary": [
           {
            "marker": {
             "colorbar": {
              "outlinewidth": 0,
              "ticks": ""
             }
            },
            "type": "scatterternary"
           }
          ],
          "surface": [
           {
            "colorbar": {
             "outlinewidth": 0,
             "ticks": ""
            },
            "colorscale": [
             [
              0,
              "#0d0887"
             ],
             [
              0.1111111111111111,
              "#46039f"
             ],
             [
              0.2222222222222222,
              "#7201a8"
             ],
             [
              0.3333333333333333,
              "#9c179e"
             ],
             [
              0.4444444444444444,
              "#bd3786"
             ],
             [
              0.5555555555555556,
              "#d8576b"
             ],
             [
              0.6666666666666666,
              "#ed7953"
             ],
             [
              0.7777777777777778,
              "#fb9f3a"
             ],
             [
              0.8888888888888888,
              "#fdca26"
             ],
             [
              1,
              "#f0f921"
             ]
            ],
            "type": "surface"
           }
          ],
          "table": [
           {
            "cells": {
             "fill": {
              "color": "#EBF0F8"
             },
             "line": {
              "color": "white"
             }
            },
            "header": {
             "fill": {
              "color": "#C8D4E3"
             },
             "line": {
              "color": "white"
             }
            },
            "type": "table"
           }
          ]
         },
         "layout": {
          "annotationdefaults": {
           "arrowcolor": "#2a3f5f",
           "arrowhead": 0,
           "arrowwidth": 1
          },
          "coloraxis": {
           "colorbar": {
            "outlinewidth": 0,
            "ticks": ""
           }
          },
          "colorscale": {
           "diverging": [
            [
             0,
             "#8e0152"
            ],
            [
             0.1,
             "#c51b7d"
            ],
            [
             0.2,
             "#de77ae"
            ],
            [
             0.3,
             "#f1b6da"
            ],
            [
             0.4,
             "#fde0ef"
            ],
            [
             0.5,
             "#f7f7f7"
            ],
            [
             0.6,
             "#e6f5d0"
            ],
            [
             0.7,
             "#b8e186"
            ],
            [
             0.8,
             "#7fbc41"
            ],
            [
             0.9,
             "#4d9221"
            ],
            [
             1,
             "#276419"
            ]
           ],
           "sequential": [
            [
             0,
             "#0d0887"
            ],
            [
             0.1111111111111111,
             "#46039f"
            ],
            [
             0.2222222222222222,
             "#7201a8"
            ],
            [
             0.3333333333333333,
             "#9c179e"
            ],
            [
             0.4444444444444444,
             "#bd3786"
            ],
            [
             0.5555555555555556,
             "#d8576b"
            ],
            [
             0.6666666666666666,
             "#ed7953"
            ],
            [
             0.7777777777777778,
             "#fb9f3a"
            ],
            [
             0.8888888888888888,
             "#fdca26"
            ],
            [
             1,
             "#f0f921"
            ]
           ],
           "sequentialminus": [
            [
             0,
             "#0d0887"
            ],
            [
             0.1111111111111111,
             "#46039f"
            ],
            [
             0.2222222222222222,
             "#7201a8"
            ],
            [
             0.3333333333333333,
             "#9c179e"
            ],
            [
             0.4444444444444444,
             "#bd3786"
            ],
            [
             0.5555555555555556,
             "#d8576b"
            ],
            [
             0.6666666666666666,
             "#ed7953"
            ],
            [
             0.7777777777777778,
             "#fb9f3a"
            ],
            [
             0.8888888888888888,
             "#fdca26"
            ],
            [
             1,
             "#f0f921"
            ]
           ]
          },
          "colorway": [
           "#636efa",
           "#EF553B",
           "#00cc96",
           "#ab63fa",
           "#FFA15A",
           "#19d3f3",
           "#FF6692",
           "#B6E880",
           "#FF97FF",
           "#FECB52"
          ],
          "font": {
           "color": "#2a3f5f"
          },
          "geo": {
           "bgcolor": "white",
           "lakecolor": "white",
           "landcolor": "#E5ECF6",
           "showlakes": true,
           "showland": true,
           "subunitcolor": "white"
          },
          "hoverlabel": {
           "align": "left"
          },
          "hovermode": "closest",
          "mapbox": {
           "style": "light"
          },
          "paper_bgcolor": "white",
          "plot_bgcolor": "#E5ECF6",
          "polar": {
           "angularaxis": {
            "gridcolor": "white",
            "linecolor": "white",
            "ticks": ""
           },
           "bgcolor": "#E5ECF6",
           "radialaxis": {
            "gridcolor": "white",
            "linecolor": "white",
            "ticks": ""
           }
          },
          "scene": {
           "xaxis": {
            "backgroundcolor": "#E5ECF6",
            "gridcolor": "white",
            "gridwidth": 2,
            "linecolor": "white",
            "showbackground": true,
            "ticks": "",
            "zerolinecolor": "white"
           },
           "yaxis": {
            "backgroundcolor": "#E5ECF6",
            "gridcolor": "white",
            "gridwidth": 2,
            "linecolor": "white",
            "showbackground": true,
            "ticks": "",
            "zerolinecolor": "white"
           },
           "zaxis": {
            "backgroundcolor": "#E5ECF6",
            "gridcolor": "white",
            "gridwidth": 2,
            "linecolor": "white",
            "showbackground": true,
            "ticks": "",
            "zerolinecolor": "white"
           }
          },
          "shapedefaults": {
           "line": {
            "color": "#2a3f5f"
           }
          },
          "ternary": {
           "aaxis": {
            "gridcolor": "white",
            "linecolor": "white",
            "ticks": ""
           },
           "baxis": {
            "gridcolor": "white",
            "linecolor": "white",
            "ticks": ""
           },
           "bgcolor": "#E5ECF6",
           "caxis": {
            "gridcolor": "white",
            "linecolor": "white",
            "ticks": ""
           }
          },
          "title": {
           "x": 0.05
          },
          "xaxis": {
           "automargin": true,
           "gridcolor": "white",
           "linecolor": "white",
           "ticks": "",
           "title": {
            "standoff": 15
           },
           "zerolinecolor": "white",
           "zerolinewidth": 2
          },
          "yaxis": {
           "automargin": true,
           "gridcolor": "white",
           "linecolor": "white",
           "ticks": "",
           "title": {
            "standoff": 15
           },
           "zerolinecolor": "white",
           "zerolinewidth": 2
          }
         }
        }
       }
      },
      "text/html": [
       "<div>\n",
       "        \n",
       "        \n",
       "            <div id=\"f7b1d9bf-a2c9-4e62-86c6-2d6f788a15a2\" class=\"plotly-graph-div\" style=\"height:525px; width:100%;\"></div>\n",
       "            <script type=\"text/javascript\">\n",
       "                require([\"plotly\"], function(Plotly) {\n",
       "                    window.PLOTLYENV=window.PLOTLYENV || {};\n",
       "                    \n",
       "                if (document.getElementById(\"f7b1d9bf-a2c9-4e62-86c6-2d6f788a15a2\")) {\n",
       "                    Plotly.newPlot(\n",
       "                        'f7b1d9bf-a2c9-4e62-86c6-2d6f788a15a2',\n",
       "                        [{\"close\": [1.12804, 1.14368, 1.13677, 1.15026, 1.14907, 1.15457, 1.1515, 1.1497, 1.13877, 1.15735, 1.16596, 1.17069, 1.16746, 1.1693799999999999, 1.18266, 1.1869, 1.18288, 1.17649, 1.1883299999999999, 1.1769100000000001, 1.1747299999999998, 1.17391, 1.16645, 1.18405, 1.17001, 1.17161, 1.16759, 1.17421, 1.17638, 1.1863, 1.18356, 1.17937, 1.16883, 1.17203, 1.1604, 1.15429, 1.15171, 1.15398, 1.14181, 1.14254, 1.15116, 1.15608, 1.15396, 1.14945, 1.1489200000000002, 1.13252, 1.13151, 1.13481, 1.13891, 1.1299, 1.12779, 1.11858, 1.12068, 1.12079, 1.1274600000000001, 1.13495, 1.13315, 1.14754, 1.14695, 1.15079, 1.14909, 1.1458899999999999, 1.13426, 1.12428, 1.12541, 1.1357, 1.13893, 1.13321, 1.13732, 1.13083, 1.13582, 1.1283, 1.1322, 1.1257700000000002, 1.12663, 1.11428, 1.11392, 1.11185, 1.09226, 1.08761, 1.08735, 1.08542, 1.0886, 1.0881100000000001, 1.09847, 1.09675, 1.08079, 1.08474, 1.0943, 1.11049, 1.10649, 1.12238, 1.12076, 1.12089, 1.12913, 1.1281700000000001, 1.1174600000000001, 1.12834, 1.1255600000000001, 1.13792, 1.14602, 1.14404, 1.14949, 1.1490200000000002, 1.1460700000000001, 1.15971, 1.16547, 1.17146, 1.16926, 1.1581, 1.17079, 1.1759, 1.18092, 1.1745700000000001, 1.1795799999999999, 1.1703, 1.17234, 1.16339, 1.15873, 1.16812, 1.16336, 1.1667100000000001, 1.18011, 1.17915, 1.1779700000000002, 1.1744, 1.1670399999999999, 1.16618, 1.16225, 1.15877, 1.14554, 1.14933, 1.14378, 1.14153, 1.15295, 1.1479700000000002, 1.1520000000000001, 1.1628399999999999, 1.1732200000000002, 1.1775799999999998, 1.1747100000000001, 1.1971, 1.1875799999999999, 1.1911100000000001, 1.1915200000000001, 1.177, 1.17899, 1.194, 1.19071, 1.19928, 1.19805, 1.20811, 1.2107700000000001, 1.20855, 1.2166, 1.2218, 1.22543, 1.22145, 1.22187, 1.22756, 1.23173, 1.23302, 1.2410700000000001, 1.24231, 1.23739, 1.23956, 1.23927, 1.2446, 1.2452, 1.24272, 1.24892, 1.25492, 1.25925, 1.25454, 1.25832, 1.2675299999999998, 1.2725600000000001, 1.26322, 1.27661, 1.28149, 1.27493, 1.27714, 1.26473, 1.25766, 1.2396200000000002, 1.23478, 1.25787, 1.26425, 1.27183, 1.25797, 1.24575, 1.2643, 1.24681, 1.24072, 1.24747, 1.24237, 1.25407, 1.25327, 1.2546, 1.27026], \"high\": [1.13019, 1.1451, 1.14448, 1.1509200000000002, 1.1537600000000001, 1.16244, 1.15751, 1.15388, 1.14988, 1.1578600000000001, 1.17363, 1.17156, 1.1745299999999999, 1.17276, 1.18373, 1.18754, 1.193, 1.1845299999999999, 1.19008, 1.1915799999999999, 1.17672, 1.17783, 1.1747299999999998, 1.1886, 1.18785, 1.17859, 1.17415, 1.1782, 1.18058, 1.18774, 1.19278, 1.18662, 1.18039, 1.17387, 1.17347, 1.1603299999999999, 1.15811, 1.16215, 1.15523, 1.14675, 1.15141, 1.16079, 1.1568399999999999, 1.1544299999999998, 1.15019, 1.149, 1.1350799999999999, 1.13667, 1.13924, 1.1390799999999999, 1.1308, 1.1336899999999999, 1.12315, 1.1248799999999999, 1.13032, 1.1354600000000001, 1.13734, 1.14898, 1.15101, 1.15487, 1.15182, 1.1538, 1.1461, 1.13713, 1.12716, 1.13749, 1.13976, 1.14265, 1.1415, 1.13838, 1.13798, 1.13715, 1.1332200000000001, 1.13375, 1.12963, 1.1269, 1.11522, 1.11475, 1.11226, 1.09456, 1.09184, 1.09096, 1.0929799999999998, 1.09125, 1.09974, 1.10138, 1.09713, 1.08725, 1.09505, 1.1112600000000001, 1.11297, 1.12402, 1.12362, 1.12705, 1.13228, 1.1309799999999999, 1.1318, 1.1299700000000001, 1.13424, 1.13837, 1.15046, 1.1524299999999998, 1.15049, 1.15331, 1.14975, 1.16015, 1.17339, 1.17288, 1.17677, 1.17205, 1.1723700000000001, 1.18115, 1.1839600000000001, 1.18604, 1.1846700000000001, 1.1815, 1.1765, 1.1745, 1.1694799999999999, 1.1684299999999999, 1.17285, 1.17006, 1.18265, 1.18444, 1.18566, 1.1784299999999999, 1.17507, 1.1718, 1.1754200000000001, 1.16557, 1.16192, 1.1512200000000001, 1.1498, 1.14629, 1.15428, 1.15352, 1.15304, 1.1659899999999999, 1.1738, 1.1802, 1.18485, 1.1973799999999999, 1.1977200000000001, 1.19556, 1.19379, 1.19177, 1.18185, 1.19475, 1.19411, 1.20145, 1.20403, 1.20913, 1.21268, 1.21553, 1.21781, 1.22389, 1.22745, 1.2264899999999999, 1.2233100000000001, 1.23063, 1.2322600000000001, 1.23594, 1.2420799999999999, 1.2438200000000001, 1.24346, 1.2445899999999999, 1.2425, 1.24702, 1.2462, 1.2469299999999999, 1.25078, 1.25613, 1.2646, 1.26052, 1.26282, 1.26935, 1.28093, 1.27417, 1.27796, 1.2867600000000001, 1.2897100000000001, 1.27957, 1.27878, 1.2670700000000001, 1.26091, 1.2423, 1.25952, 1.2671, 1.27485, 1.27742, 1.2610700000000001, 1.2651700000000001, 1.2661799999999999, 1.25265, 1.24911, 1.24858, 1.25973, 1.25609, 1.2636399999999999, 1.27243], \"low\": [1.1203, 1.1273799999999998, 1.13275, 1.13026, 1.14362, 1.14946, 1.1463, 1.14681, 1.13757, 1.13691, 1.16215, 1.1601299999999999, 1.1661700000000002, 1.16192, 1.16648, 1.17972, 1.1817600000000001, 1.1704700000000001, 1.16917, 1.17439, 1.16524, 1.16875, 1.16619, 1.16287, 1.1684299999999999, 1.16564, 1.1670399999999999, 1.16581, 1.17036, 1.17354, 1.18208, 1.1768399999999999, 1.16611, 1.15836, 1.15511, 1.15081, 1.1476600000000001, 1.14913, 1.1414, 1.13994, 1.13974, 1.15025, 1.15049, 1.14326, 1.1447200000000002, 1.13132, 1.1258700000000001, 1.13047, 1.1309799999999999, 1.1275899999999999, 1.12426, 1.1156, 1.11123, 1.11562, 1.11717, 1.12411, 1.13058, 1.13139, 1.1423299999999998, 1.14439, 1.14515, 1.1451, 1.13352, 1.12237, 1.11348, 1.12581, 1.1306399999999999, 1.1325399999999999, 1.13183, 1.12866, 1.12628, 1.12758, 1.12189, 1.1224399999999999, 1.1240299999999999, 1.1123299999999998, 1.10545, 1.1079299999999999, 1.08846, 1.0836299999999999, 1.08453, 1.0793, 1.08313, 1.08097, 1.0868799999999998, 1.09517, 1.08029, 1.07616, 1.08064, 1.09159, 1.10461, 1.10524, 1.1162, 1.1154700000000002, 1.1134600000000001, 1.12411, 1.11538, 1.11382, 1.1226399999999999, 1.12382, 1.14134, 1.1435799999999998, 1.14273, 1.14578, 1.14404, 1.13941, 1.15705, 1.16424, 1.16612, 1.155, 1.1532200000000001, 1.16975, 1.17587, 1.1684, 1.17022, 1.16523, 1.15818, 1.15906, 1.15734, 1.15526, 1.16016, 1.1616799999999998, 1.16477, 1.17561, 1.17601, 1.1717600000000001, 1.1654799999999998, 1.16584, 1.1616, 1.15628, 1.14275, 1.14262, 1.1413, 1.13886, 1.13783, 1.1462700000000001, 1.14431, 1.1503, 1.16251, 1.1727100000000001, 1.17245, 1.17327, 1.18733, 1.18711, 1.18567, 1.17565, 1.17519, 1.17686, 1.18831, 1.18972, 1.19364, 1.19407, 1.2069299999999998, 1.2029, 1.2061600000000001, 1.21476, 1.21869, 1.21523, 1.21123, 1.22071, 1.21288, 1.23, 1.22948, 1.23587, 1.2343, 1.23479, 1.23823, 1.23924, 1.24342, 1.2420799999999999, 1.24221, 1.24758, 1.25132, 1.24698, 1.25214, 1.25795, 1.2666600000000001, 1.2623, 1.2559, 1.27034, 1.27342, 1.27119, 1.26296, 1.25614, 1.23504, 1.23337, 1.2342600000000001, 1.25504, 1.26346, 1.25631, 1.24567, 1.24403, 1.2462799999999998, 1.23617, 1.23506, 1.2389700000000001, 1.24139, 1.24929, 1.25177, 1.25118], \"open\": [1.12354, 1.12798, 1.14367, 1.13675, 1.15002, 1.1495799999999998, 1.1542700000000001, 1.1519, 1.14983, 1.13845, 1.16634, 1.1659, 1.17059, 1.16724, 1.16947, 1.1827, 1.1867, 1.18261, 1.1765700000000001, 1.1882700000000002, 1.17149, 1.17496, 1.17365, 1.16635, 1.1838899999999999, 1.1694, 1.17146, 1.16746, 1.17429, 1.17652, 1.1869399999999999, 1.1838600000000001, 1.1791399999999999, 1.1684, 1.172, 1.16025, 1.15444, 1.15188, 1.15449, 1.14215, 1.1430799999999999, 1.15154, 1.15619, 1.15415, 1.14935, 1.1487, 1.13247, 1.1317700000000002, 1.13479, 1.13877, 1.12934, 1.1277700000000002, 1.11845, 1.12119, 1.12045, 1.12685, 1.1346100000000001, 1.13267, 1.14835, 1.14749, 1.1508399999999999, 1.14947, 1.14572, 1.13437, 1.1242, 1.1284299999999998, 1.1361299999999999, 1.13867, 1.13315, 1.13716, 1.1289799999999999, 1.13588, 1.12837, 1.1323299999999998, 1.12635, 1.1249, 1.11485, 1.1138, 1.1119299999999999, 1.0920299999999998, 1.08566, 1.0874, 1.08544, 1.08856, 1.08843, 1.09943, 1.0966799999999999, 1.08117, 1.08495, 1.0944399999999999, 1.11043, 1.10695, 1.12239, 1.1210200000000001, 1.12094, 1.12745, 1.1284100000000001, 1.11782, 1.1284299999999998, 1.1257, 1.14343, 1.14588, 1.14445, 1.14951, 1.14896, 1.1455799999999998, 1.1601, 1.16585, 1.17193, 1.16943, 1.15655, 1.1711200000000002, 1.1764700000000001, 1.18097, 1.17467, 1.18109, 1.1706, 1.17264, 1.16378, 1.1586, 1.17098, 1.16362, 1.16654, 1.18021, 1.17903, 1.1774200000000001, 1.17441, 1.16701, 1.16602, 1.16228, 1.15778, 1.14573, 1.14921, 1.14391, 1.14165, 1.15034, 1.14798, 1.1521, 1.1632799999999999, 1.17325, 1.17764, 1.17479, 1.19696, 1.1875, 1.19127, 1.19084, 1.17718, 1.1790200000000002, 1.19392, 1.19068, 1.19717, 1.1982, 1.20793, 1.2109, 1.20821, 1.21725, 1.22173, 1.22576, 1.22151, 1.22213, 1.2141899999999999, 1.2316799999999999, 1.23291, 1.24091, 1.2422, 1.24025, 1.23948, 1.23943, 1.24448, 1.24499, 1.24258, 1.249, 1.25495, 1.25931, 1.2543600000000001, 1.25832, 1.26736, 1.27244, 1.26306, 1.27653, 1.28538, 1.27473, 1.27736, 1.2645600000000001, 1.25753, 1.23676, 1.23496, 1.25786, 1.26405, 1.2716399999999999, 1.25742, 1.24604, 1.26445, 1.24681, 1.24062, 1.24696, 1.24248, 1.25423, 1.25345, 1.25471], \"type\": \"candlestick\", \"x\": [0, 1, 2, 3, 4, 5, 6, 7, 8, 9, 10, 11, 12, 13, 14, 15, 16, 17, 18, 19, 20, 21, 22, 23, 24, 25, 26, 27, 28, 29, 30, 31, 32, 33, 34, 35, 36, 37, 38, 39, 40, 41, 42, 43, 44, 45, 46, 47, 48, 49, 50, 51, 52, 53, 54, 55, 56, 57, 58, 59, 60, 61, 62, 63, 64, 65, 66, 67, 68, 69, 70, 71, 72, 73, 74, 75, 76, 77, 78, 79, 80, 81, 82, 83, 84, 85, 86, 87, 88, 89, 90, 91, 92, 93, 94, 95, 96, 97, 98, 99, 100, 101, 102, 103, 104, 105, 106, 107, 108, 109, 110, 111, 112, 113, 114, 115, 116, 117, 118, 119, 120, 121, 122, 123, 124, 125, 126, 127, 128, 129, 130, 131, 132, 133, 134, 135, 136, 137, 138, 139, 140, 141, 142, 143, 144, 145, 146, 147, 148, 149, 150, 151, 152, 153, 154, 155, 156, 157, 158, 159, 160, 161, 162, 163, 164, 165, 166, 167, 168, 169, 170, 171, 172, 173, 174, 175, 176, 177, 178, 179, 180, 181, 182, 183, 184, 185, 186, 187, 188, 189, 190, 191, 192, 193, 194, 195, 196, 197, 198, 199]}],\n",
       "                        {\"shapes\": [{\"type\": \"line\", \"x0\": 0, \"x1\": 200, \"y0\": 1.16244, \"y1\": 1.16244}, {\"type\": \"line\", \"x0\": 0, \"x1\": 200, \"y0\": 1.19278, \"y1\": 1.19278}, {\"type\": \"line\", \"x0\": 0, \"x1\": 200, \"y0\": 1.13974, \"y1\": 1.13974}, {\"type\": \"line\", \"x0\": 0, \"x1\": 200, \"y0\": 1.11123, \"y1\": 1.11123}, {\"type\": \"line\", \"x0\": 0, \"x1\": 200, \"y0\": 1.11348, \"y1\": 1.11348}, {\"type\": \"line\", \"x0\": 0, \"x1\": 200, \"y0\": 1.14265, \"y1\": 1.14265}, {\"type\": \"line\", \"x0\": 0, \"x1\": 200, \"y0\": 1.18604, \"y1\": 1.18604}, {\"type\": \"line\", \"x0\": 0, \"x1\": 200, \"y0\": 1.18566, \"y1\": 1.18566}, {\"type\": \"line\", \"x0\": 0, \"x1\": 200, \"y0\": 1.1977200000000001, \"y1\": 1.1977200000000001}, {\"type\": \"line\", \"x0\": 0, \"x1\": 200, \"y0\": 1.17519, \"y1\": 1.17519}, {\"type\": \"line\", \"x0\": 0, \"x1\": 200, \"y0\": 1.22745, \"y1\": 1.22745}, {\"type\": \"line\", \"x0\": 0, \"x1\": 200, \"y0\": 1.2897100000000001, \"y1\": 1.2897100000000001}, {\"type\": \"line\", \"x0\": 0, \"x1\": 200, \"y0\": 1.23337, \"y1\": 1.23337}], \"template\": {\"data\": {\"bar\": [{\"error_x\": {\"color\": \"#2a3f5f\"}, \"error_y\": {\"color\": \"#2a3f5f\"}, \"marker\": {\"line\": {\"color\": \"#E5ECF6\", \"width\": 0.5}}, \"type\": \"bar\"}], \"barpolar\": [{\"marker\": {\"line\": {\"color\": \"#E5ECF6\", \"width\": 0.5}}, \"type\": \"barpolar\"}], \"carpet\": [{\"aaxis\": {\"endlinecolor\": \"#2a3f5f\", \"gridcolor\": \"white\", \"linecolor\": \"white\", \"minorgridcolor\": \"white\", \"startlinecolor\": \"#2a3f5f\"}, \"baxis\": {\"endlinecolor\": \"#2a3f5f\", \"gridcolor\": \"white\", \"linecolor\": \"white\", \"minorgridcolor\": \"white\", \"startlinecolor\": \"#2a3f5f\"}, \"type\": \"carpet\"}], \"choropleth\": [{\"colorbar\": {\"outlinewidth\": 0, \"ticks\": \"\"}, \"type\": \"choropleth\"}], \"contour\": [{\"colorbar\": {\"outlinewidth\": 0, \"ticks\": \"\"}, \"colorscale\": [[0.0, \"#0d0887\"], [0.1111111111111111, \"#46039f\"], [0.2222222222222222, \"#7201a8\"], [0.3333333333333333, \"#9c179e\"], [0.4444444444444444, \"#bd3786\"], [0.5555555555555556, \"#d8576b\"], [0.6666666666666666, \"#ed7953\"], [0.7777777777777778, \"#fb9f3a\"], [0.8888888888888888, \"#fdca26\"], [1.0, \"#f0f921\"]], \"type\": \"contour\"}], \"contourcarpet\": [{\"colorbar\": {\"outlinewidth\": 0, \"ticks\": \"\"}, \"type\": \"contourcarpet\"}], \"heatmap\": [{\"colorbar\": {\"outlinewidth\": 0, \"ticks\": \"\"}, \"colorscale\": [[0.0, \"#0d0887\"], [0.1111111111111111, \"#46039f\"], [0.2222222222222222, \"#7201a8\"], [0.3333333333333333, \"#9c179e\"], [0.4444444444444444, \"#bd3786\"], [0.5555555555555556, \"#d8576b\"], [0.6666666666666666, \"#ed7953\"], [0.7777777777777778, \"#fb9f3a\"], [0.8888888888888888, \"#fdca26\"], [1.0, \"#f0f921\"]], \"type\": \"heatmap\"}], \"heatmapgl\": [{\"colorbar\": {\"outlinewidth\": 0, \"ticks\": \"\"}, \"colorscale\": [[0.0, \"#0d0887\"], [0.1111111111111111, \"#46039f\"], [0.2222222222222222, \"#7201a8\"], [0.3333333333333333, \"#9c179e\"], [0.4444444444444444, \"#bd3786\"], [0.5555555555555556, \"#d8576b\"], [0.6666666666666666, \"#ed7953\"], [0.7777777777777778, \"#fb9f3a\"], [0.8888888888888888, \"#fdca26\"], [1.0, \"#f0f921\"]], \"type\": \"heatmapgl\"}], \"histogram\": [{\"marker\": {\"colorbar\": {\"outlinewidth\": 0, \"ticks\": \"\"}}, \"type\": \"histogram\"}], \"histogram2d\": [{\"colorbar\": {\"outlinewidth\": 0, \"ticks\": \"\"}, \"colorscale\": [[0.0, \"#0d0887\"], [0.1111111111111111, \"#46039f\"], [0.2222222222222222, \"#7201a8\"], [0.3333333333333333, \"#9c179e\"], [0.4444444444444444, \"#bd3786\"], [0.5555555555555556, \"#d8576b\"], [0.6666666666666666, \"#ed7953\"], [0.7777777777777778, \"#fb9f3a\"], [0.8888888888888888, \"#fdca26\"], [1.0, \"#f0f921\"]], \"type\": \"histogram2d\"}], \"histogram2dcontour\": [{\"colorbar\": {\"outlinewidth\": 0, \"ticks\": \"\"}, \"colorscale\": [[0.0, \"#0d0887\"], [0.1111111111111111, \"#46039f\"], [0.2222222222222222, \"#7201a8\"], [0.3333333333333333, \"#9c179e\"], [0.4444444444444444, \"#bd3786\"], [0.5555555555555556, \"#d8576b\"], [0.6666666666666666, \"#ed7953\"], [0.7777777777777778, \"#fb9f3a\"], [0.8888888888888888, \"#fdca26\"], [1.0, \"#f0f921\"]], \"type\": \"histogram2dcontour\"}], \"mesh3d\": [{\"colorbar\": {\"outlinewidth\": 0, \"ticks\": \"\"}, \"type\": \"mesh3d\"}], \"parcoords\": [{\"line\": {\"colorbar\": {\"outlinewidth\": 0, \"ticks\": \"\"}}, \"type\": \"parcoords\"}], \"pie\": [{\"automargin\": true, \"type\": \"pie\"}], \"scatter\": [{\"marker\": {\"colorbar\": {\"outlinewidth\": 0, \"ticks\": \"\"}}, \"type\": \"scatter\"}], \"scatter3d\": [{\"line\": {\"colorbar\": {\"outlinewidth\": 0, \"ticks\": \"\"}}, \"marker\": {\"colorbar\": {\"outlinewidth\": 0, \"ticks\": \"\"}}, \"type\": \"scatter3d\"}], \"scattercarpet\": [{\"marker\": {\"colorbar\": {\"outlinewidth\": 0, \"ticks\": \"\"}}, \"type\": \"scattercarpet\"}], \"scattergeo\": [{\"marker\": {\"colorbar\": {\"outlinewidth\": 0, \"ticks\": \"\"}}, \"type\": \"scattergeo\"}], \"scattergl\": [{\"marker\": {\"colorbar\": {\"outlinewidth\": 0, \"ticks\": \"\"}}, \"type\": \"scattergl\"}], \"scattermapbox\": [{\"marker\": {\"colorbar\": {\"outlinewidth\": 0, \"ticks\": \"\"}}, \"type\": \"scattermapbox\"}], \"scatterpolar\": [{\"marker\": {\"colorbar\": {\"outlinewidth\": 0, \"ticks\": \"\"}}, \"type\": \"scatterpolar\"}], \"scatterpolargl\": [{\"marker\": {\"colorbar\": {\"outlinewidth\": 0, \"ticks\": \"\"}}, \"type\": \"scatterpolargl\"}], \"scatterternary\": [{\"marker\": {\"colorbar\": {\"outlinewidth\": 0, \"ticks\": \"\"}}, \"type\": \"scatterternary\"}], \"surface\": [{\"colorbar\": {\"outlinewidth\": 0, \"ticks\": \"\"}, \"colorscale\": [[0.0, \"#0d0887\"], [0.1111111111111111, \"#46039f\"], [0.2222222222222222, \"#7201a8\"], [0.3333333333333333, \"#9c179e\"], [0.4444444444444444, \"#bd3786\"], [0.5555555555555556, \"#d8576b\"], [0.6666666666666666, \"#ed7953\"], [0.7777777777777778, \"#fb9f3a\"], [0.8888888888888888, \"#fdca26\"], [1.0, \"#f0f921\"]], \"type\": \"surface\"}], \"table\": [{\"cells\": {\"fill\": {\"color\": \"#EBF0F8\"}, \"line\": {\"color\": \"white\"}}, \"header\": {\"fill\": {\"color\": \"#C8D4E3\"}, \"line\": {\"color\": \"white\"}}, \"type\": \"table\"}]}, \"layout\": {\"annotationdefaults\": {\"arrowcolor\": \"#2a3f5f\", \"arrowhead\": 0, \"arrowwidth\": 1}, \"coloraxis\": {\"colorbar\": {\"outlinewidth\": 0, \"ticks\": \"\"}}, \"colorscale\": {\"diverging\": [[0, \"#8e0152\"], [0.1, \"#c51b7d\"], [0.2, \"#de77ae\"], [0.3, \"#f1b6da\"], [0.4, \"#fde0ef\"], [0.5, \"#f7f7f7\"], [0.6, \"#e6f5d0\"], [0.7, \"#b8e186\"], [0.8, \"#7fbc41\"], [0.9, \"#4d9221\"], [1, \"#276419\"]], \"sequential\": [[0.0, \"#0d0887\"], [0.1111111111111111, \"#46039f\"], [0.2222222222222222, \"#7201a8\"], [0.3333333333333333, \"#9c179e\"], [0.4444444444444444, \"#bd3786\"], [0.5555555555555556, \"#d8576b\"], [0.6666666666666666, \"#ed7953\"], [0.7777777777777778, \"#fb9f3a\"], [0.8888888888888888, \"#fdca26\"], [1.0, \"#f0f921\"]], \"sequentialminus\": [[0.0, \"#0d0887\"], [0.1111111111111111, \"#46039f\"], [0.2222222222222222, \"#7201a8\"], [0.3333333333333333, \"#9c179e\"], [0.4444444444444444, \"#bd3786\"], [0.5555555555555556, \"#d8576b\"], [0.6666666666666666, \"#ed7953\"], [0.7777777777777778, \"#fb9f3a\"], [0.8888888888888888, \"#fdca26\"], [1.0, \"#f0f921\"]]}, \"colorway\": [\"#636efa\", \"#EF553B\", \"#00cc96\", \"#ab63fa\", \"#FFA15A\", \"#19d3f3\", \"#FF6692\", \"#B6E880\", \"#FF97FF\", \"#FECB52\"], \"font\": {\"color\": \"#2a3f5f\"}, \"geo\": {\"bgcolor\": \"white\", \"lakecolor\": \"white\", \"landcolor\": \"#E5ECF6\", \"showlakes\": true, \"showland\": true, \"subunitcolor\": \"white\"}, \"hoverlabel\": {\"align\": \"left\"}, \"hovermode\": \"closest\", \"mapbox\": {\"style\": \"light\"}, \"paper_bgcolor\": \"white\", \"plot_bgcolor\": \"#E5ECF6\", \"polar\": {\"angularaxis\": {\"gridcolor\": \"white\", \"linecolor\": \"white\", \"ticks\": \"\"}, \"bgcolor\": \"#E5ECF6\", \"radialaxis\": {\"gridcolor\": \"white\", \"linecolor\": \"white\", \"ticks\": \"\"}}, \"scene\": {\"xaxis\": {\"backgroundcolor\": \"#E5ECF6\", \"gridcolor\": \"white\", \"gridwidth\": 2, \"linecolor\": \"white\", \"showbackground\": true, \"ticks\": \"\", \"zerolinecolor\": \"white\"}, \"yaxis\": {\"backgroundcolor\": \"#E5ECF6\", \"gridcolor\": \"white\", \"gridwidth\": 2, \"linecolor\": \"white\", \"showbackground\": true, \"ticks\": \"\", \"zerolinecolor\": \"white\"}, \"zaxis\": {\"backgroundcolor\": \"#E5ECF6\", \"gridcolor\": \"white\", \"gridwidth\": 2, \"linecolor\": \"white\", \"showbackground\": true, \"ticks\": \"\", \"zerolinecolor\": \"white\"}}, \"shapedefaults\": {\"line\": {\"color\": \"#2a3f5f\"}}, \"ternary\": {\"aaxis\": {\"gridcolor\": \"white\", \"linecolor\": \"white\", \"ticks\": \"\"}, \"baxis\": {\"gridcolor\": \"white\", \"linecolor\": \"white\", \"ticks\": \"\"}, \"bgcolor\": \"#E5ECF6\", \"caxis\": {\"gridcolor\": \"white\", \"linecolor\": \"white\", \"ticks\": \"\"}}, \"title\": {\"x\": 0.05}, \"xaxis\": {\"automargin\": true, \"gridcolor\": \"white\", \"linecolor\": \"white\", \"ticks\": \"\", \"title\": {\"standoff\": 15}, \"zerolinecolor\": \"white\", \"zerolinewidth\": 2}, \"yaxis\": {\"automargin\": true, \"gridcolor\": \"white\", \"linecolor\": \"white\", \"ticks\": \"\", \"title\": {\"standoff\": 15}, \"zerolinecolor\": \"white\", \"zerolinewidth\": 2}}}},\n",
       "                        {\"responsive\": true}\n",
       "                    ).then(function(){\n",
       "                            \n",
       "var gd = document.getElementById('f7b1d9bf-a2c9-4e62-86c6-2d6f788a15a2');\n",
       "var x = new MutationObserver(function (mutations, observer) {{\n",
       "        var display = window.getComputedStyle(gd).display;\n",
       "        if (!display || display === 'none') {{\n",
       "            console.log([gd, 'removed!']);\n",
       "            Plotly.purge(gd);\n",
       "            observer.disconnect();\n",
       "        }}\n",
       "}});\n",
       "\n",
       "// Listen for the removal of the full notebook cells\n",
       "var notebookContainer = gd.closest('#notebook-container');\n",
       "if (notebookContainer) {{\n",
       "    x.observe(notebookContainer, {childList: true});\n",
       "}}\n",
       "\n",
       "// Listen for the clearing of the current output cell\n",
       "var outputEl = gd.closest('.output');\n",
       "if (outputEl) {{\n",
       "    x.observe(outputEl, {childList: true});\n",
       "}}\n",
       "\n",
       "                        })\n",
       "                };\n",
       "                });\n",
       "            </script>\n",
       "        </div>"
      ]
     },
     "metadata": {},
     "output_type": "display_data"
    }
   ],
   "source": [
    "s = 0\n",
    "e = 200\n",
    "dfpl = df[s:e]\n",
    "import plotly.graph_objects as go\n",
    "from datetime import datetime\n",
    "import matplotlib.pyplot as plt\n",
    "\n",
    "fig = go.Figure(data=[go.Candlestick(x=dfpl.index,\n",
    "                open=dfpl['open'],\n",
    "                high=dfpl['high'],\n",
    "                low=dfpl['low'],\n",
    "                close=dfpl['close'])])\n",
    "\n",
    "c=0\n",
    "while (1):\n",
    "    if(c>len(sr)-1 ):#or sr[c][0]>e\n",
    "        break\n",
    "    fig.add_shape(type='line', x0=s, y0=sr[c][1],\n",
    "                  x1=e,\n",
    "                  y1=sr[c][1]\n",
    "                  )#x0=sr[c][0]-5 x1=sr[c][0]+5\n",
    "    c+=1\n",
    "fig.show()"
   ]
  },
  {
   "cell_type": "code",
   "execution_count": 9,
   "metadata": {},
   "outputs": [
    {
     "data": {
      "text/plain": [
       "[1.14265, 1.16244, 1.18566, 1.19278, 1.22745, 1.2897100000000001]"
      ]
     },
     "execution_count": 9,
     "metadata": {},
     "output_type": "execute_result"
    }
   ],
   "source": [
    "plotlist1 = [x[1] for x in sr if x[2]==1]\n",
    "plotlist2 = [x[1] for x in sr if x[2]==2]\n",
    "plotlist1.sort()\n",
    "plotlist2.sort()\n",
    "\n",
    "for i in range(1,len(plotlist1)):\n",
    "    if(i>=len(plotlist1)):\n",
    "        break\n",
    "    if abs(plotlist1[i]-plotlist1[i-1])<=0.005:\n",
    "        plotlist1.pop(i)\n",
    "\n",
    "for i in range(1,len(plotlist2)):\n",
    "    if(i>=len(plotlist2)):\n",
    "        break\n",
    "    if abs(plotlist2[i]-plotlist2[i-1])<=0.005:\n",
    "        plotlist2.pop(i)\n",
    "plotlist2\n",
    "#plt.hist(plotlist, bins=10, alpha=0.5)"
   ]
  },
  {
   "cell_type": "code",
   "execution_count": 11,
   "metadata": {},
   "outputs": [
    {
     "data": {
      "application/vnd.plotly.v1+json": {
       "config": {
        "plotlyServerURL": "https://plot.ly"
       },
       "data": [
        {
         "close": [
          1.12804,
          1.14368,
          1.13677,
          1.15026,
          1.14907,
          1.15457,
          1.1515,
          1.1497,
          1.13877,
          1.15735,
          1.16596,
          1.17069,
          1.16746,
          1.1693799999999999,
          1.18266,
          1.1869,
          1.18288,
          1.17649,
          1.1883299999999999,
          1.1769100000000001,
          1.1747299999999998,
          1.17391,
          1.16645,
          1.18405,
          1.17001,
          1.17161,
          1.16759,
          1.17421,
          1.17638,
          1.1863,
          1.18356,
          1.17937,
          1.16883,
          1.17203,
          1.1604,
          1.15429,
          1.15171,
          1.15398,
          1.14181,
          1.14254,
          1.15116,
          1.15608,
          1.15396,
          1.14945,
          1.1489200000000002,
          1.13252,
          1.13151,
          1.13481,
          1.13891,
          1.1299,
          1.12779,
          1.11858,
          1.12068,
          1.12079,
          1.1274600000000001,
          1.13495,
          1.13315,
          1.14754,
          1.14695,
          1.15079,
          1.14909,
          1.1458899999999999,
          1.13426,
          1.12428,
          1.12541,
          1.1357,
          1.13893,
          1.13321,
          1.13732,
          1.13083,
          1.13582,
          1.1283,
          1.1322,
          1.1257700000000002,
          1.12663,
          1.11428,
          1.11392,
          1.11185,
          1.09226,
          1.08761,
          1.08735,
          1.08542,
          1.0886,
          1.0881100000000001,
          1.09847,
          1.09675,
          1.08079,
          1.08474,
          1.0943,
          1.11049,
          1.10649,
          1.12238,
          1.12076,
          1.12089,
          1.12913,
          1.1281700000000001,
          1.1174600000000001,
          1.12834,
          1.1255600000000001,
          1.13792,
          1.14602,
          1.14404,
          1.14949,
          1.1490200000000002,
          1.1460700000000001,
          1.15971,
          1.16547,
          1.17146,
          1.16926,
          1.1581,
          1.17079,
          1.1759,
          1.18092,
          1.1745700000000001,
          1.1795799999999999,
          1.1703,
          1.17234,
          1.16339,
          1.15873,
          1.16812,
          1.16336,
          1.1667100000000001,
          1.18011,
          1.17915,
          1.1779700000000002,
          1.1744,
          1.1670399999999999,
          1.16618,
          1.16225,
          1.15877,
          1.14554,
          1.14933,
          1.14378,
          1.14153,
          1.15295,
          1.1479700000000002,
          1.1520000000000001,
          1.1628399999999999,
          1.1732200000000002,
          1.1775799999999998,
          1.1747100000000001,
          1.1971,
          1.1875799999999999,
          1.1911100000000001,
          1.1915200000000001,
          1.177,
          1.17899,
          1.194,
          1.19071,
          1.19928,
          1.19805,
          1.20811,
          1.2107700000000001,
          1.20855,
          1.2166,
          1.2218,
          1.22543,
          1.22145,
          1.22187,
          1.22756,
          1.23173,
          1.23302,
          1.2410700000000001,
          1.24231,
          1.23739,
          1.23956,
          1.23927,
          1.2446,
          1.2452,
          1.24272,
          1.24892,
          1.25492,
          1.25925,
          1.25454,
          1.25832,
          1.2675299999999998,
          1.2725600000000001,
          1.26322,
          1.27661,
          1.28149,
          1.27493,
          1.27714,
          1.26473,
          1.25766,
          1.2396200000000002,
          1.23478,
          1.25787,
          1.26425,
          1.27183,
          1.25797,
          1.24575,
          1.2643,
          1.24681,
          1.24072,
          1.24747,
          1.24237,
          1.25407,
          1.25327,
          1.2546,
          1.27026
         ],
         "high": [
          1.13019,
          1.1451,
          1.14448,
          1.1509200000000002,
          1.1537600000000001,
          1.16244,
          1.15751,
          1.15388,
          1.14988,
          1.1578600000000001,
          1.17363,
          1.17156,
          1.1745299999999999,
          1.17276,
          1.18373,
          1.18754,
          1.193,
          1.1845299999999999,
          1.19008,
          1.1915799999999999,
          1.17672,
          1.17783,
          1.1747299999999998,
          1.1886,
          1.18785,
          1.17859,
          1.17415,
          1.1782,
          1.18058,
          1.18774,
          1.19278,
          1.18662,
          1.18039,
          1.17387,
          1.17347,
          1.1603299999999999,
          1.15811,
          1.16215,
          1.15523,
          1.14675,
          1.15141,
          1.16079,
          1.1568399999999999,
          1.1544299999999998,
          1.15019,
          1.149,
          1.1350799999999999,
          1.13667,
          1.13924,
          1.1390799999999999,
          1.1308,
          1.1336899999999999,
          1.12315,
          1.1248799999999999,
          1.13032,
          1.1354600000000001,
          1.13734,
          1.14898,
          1.15101,
          1.15487,
          1.15182,
          1.1538,
          1.1461,
          1.13713,
          1.12716,
          1.13749,
          1.13976,
          1.14265,
          1.1415,
          1.13838,
          1.13798,
          1.13715,
          1.1332200000000001,
          1.13375,
          1.12963,
          1.1269,
          1.11522,
          1.11475,
          1.11226,
          1.09456,
          1.09184,
          1.09096,
          1.0929799999999998,
          1.09125,
          1.09974,
          1.10138,
          1.09713,
          1.08725,
          1.09505,
          1.1112600000000001,
          1.11297,
          1.12402,
          1.12362,
          1.12705,
          1.13228,
          1.1309799999999999,
          1.1318,
          1.1299700000000001,
          1.13424,
          1.13837,
          1.15046,
          1.1524299999999998,
          1.15049,
          1.15331,
          1.14975,
          1.16015,
          1.17339,
          1.17288,
          1.17677,
          1.17205,
          1.1723700000000001,
          1.18115,
          1.1839600000000001,
          1.18604,
          1.1846700000000001,
          1.1815,
          1.1765,
          1.1745,
          1.1694799999999999,
          1.1684299999999999,
          1.17285,
          1.17006,
          1.18265,
          1.18444,
          1.18566,
          1.1784299999999999,
          1.17507,
          1.1718,
          1.1754200000000001,
          1.16557,
          1.16192,
          1.1512200000000001,
          1.1498,
          1.14629,
          1.15428,
          1.15352,
          1.15304,
          1.1659899999999999,
          1.1738,
          1.1802,
          1.18485,
          1.1973799999999999,
          1.1977200000000001,
          1.19556,
          1.19379,
          1.19177,
          1.18185,
          1.19475,
          1.19411,
          1.20145,
          1.20403,
          1.20913,
          1.21268,
          1.21553,
          1.21781,
          1.22389,
          1.22745,
          1.2264899999999999,
          1.2233100000000001,
          1.23063,
          1.2322600000000001,
          1.23594,
          1.2420799999999999,
          1.2438200000000001,
          1.24346,
          1.2445899999999999,
          1.2425,
          1.24702,
          1.2462,
          1.2469299999999999,
          1.25078,
          1.25613,
          1.2646,
          1.26052,
          1.26282,
          1.26935,
          1.28093,
          1.27417,
          1.27796,
          1.2867600000000001,
          1.2897100000000001,
          1.27957,
          1.27878,
          1.2670700000000001,
          1.26091,
          1.2423,
          1.25952,
          1.2671,
          1.27485,
          1.27742,
          1.2610700000000001,
          1.2651700000000001,
          1.2661799999999999,
          1.25265,
          1.24911,
          1.24858,
          1.25973,
          1.25609,
          1.2636399999999999,
          1.27243
         ],
         "low": [
          1.1203,
          1.1273799999999998,
          1.13275,
          1.13026,
          1.14362,
          1.14946,
          1.1463,
          1.14681,
          1.13757,
          1.13691,
          1.16215,
          1.1601299999999999,
          1.1661700000000002,
          1.16192,
          1.16648,
          1.17972,
          1.1817600000000001,
          1.1704700000000001,
          1.16917,
          1.17439,
          1.16524,
          1.16875,
          1.16619,
          1.16287,
          1.1684299999999999,
          1.16564,
          1.1670399999999999,
          1.16581,
          1.17036,
          1.17354,
          1.18208,
          1.1768399999999999,
          1.16611,
          1.15836,
          1.15511,
          1.15081,
          1.1476600000000001,
          1.14913,
          1.1414,
          1.13994,
          1.13974,
          1.15025,
          1.15049,
          1.14326,
          1.1447200000000002,
          1.13132,
          1.1258700000000001,
          1.13047,
          1.1309799999999999,
          1.1275899999999999,
          1.12426,
          1.1156,
          1.11123,
          1.11562,
          1.11717,
          1.12411,
          1.13058,
          1.13139,
          1.1423299999999998,
          1.14439,
          1.14515,
          1.1451,
          1.13352,
          1.12237,
          1.11348,
          1.12581,
          1.1306399999999999,
          1.1325399999999999,
          1.13183,
          1.12866,
          1.12628,
          1.12758,
          1.12189,
          1.1224399999999999,
          1.1240299999999999,
          1.1123299999999998,
          1.10545,
          1.1079299999999999,
          1.08846,
          1.0836299999999999,
          1.08453,
          1.0793,
          1.08313,
          1.08097,
          1.0868799999999998,
          1.09517,
          1.08029,
          1.07616,
          1.08064,
          1.09159,
          1.10461,
          1.10524,
          1.1162,
          1.1154700000000002,
          1.1134600000000001,
          1.12411,
          1.11538,
          1.11382,
          1.1226399999999999,
          1.12382,
          1.14134,
          1.1435799999999998,
          1.14273,
          1.14578,
          1.14404,
          1.13941,
          1.15705,
          1.16424,
          1.16612,
          1.155,
          1.1532200000000001,
          1.16975,
          1.17587,
          1.1684,
          1.17022,
          1.16523,
          1.15818,
          1.15906,
          1.15734,
          1.15526,
          1.16016,
          1.1616799999999998,
          1.16477,
          1.17561,
          1.17601,
          1.1717600000000001,
          1.1654799999999998,
          1.16584,
          1.1616,
          1.15628,
          1.14275,
          1.14262,
          1.1413,
          1.13886,
          1.13783,
          1.1462700000000001,
          1.14431,
          1.1503,
          1.16251,
          1.1727100000000001,
          1.17245,
          1.17327,
          1.18733,
          1.18711,
          1.18567,
          1.17565,
          1.17519,
          1.17686,
          1.18831,
          1.18972,
          1.19364,
          1.19407,
          1.2069299999999998,
          1.2029,
          1.2061600000000001,
          1.21476,
          1.21869,
          1.21523,
          1.21123,
          1.22071,
          1.21288,
          1.23,
          1.22948,
          1.23587,
          1.2343,
          1.23479,
          1.23823,
          1.23924,
          1.24342,
          1.2420799999999999,
          1.24221,
          1.24758,
          1.25132,
          1.24698,
          1.25214,
          1.25795,
          1.2666600000000001,
          1.2623,
          1.2559,
          1.27034,
          1.27342,
          1.27119,
          1.26296,
          1.25614,
          1.23504,
          1.23337,
          1.2342600000000001,
          1.25504,
          1.26346,
          1.25631,
          1.24567,
          1.24403,
          1.2462799999999998,
          1.23617,
          1.23506,
          1.2389700000000001,
          1.24139,
          1.24929,
          1.25177,
          1.25118
         ],
         "open": [
          1.12354,
          1.12798,
          1.14367,
          1.13675,
          1.15002,
          1.1495799999999998,
          1.1542700000000001,
          1.1519,
          1.14983,
          1.13845,
          1.16634,
          1.1659,
          1.17059,
          1.16724,
          1.16947,
          1.1827,
          1.1867,
          1.18261,
          1.1765700000000001,
          1.1882700000000002,
          1.17149,
          1.17496,
          1.17365,
          1.16635,
          1.1838899999999999,
          1.1694,
          1.17146,
          1.16746,
          1.17429,
          1.17652,
          1.1869399999999999,
          1.1838600000000001,
          1.1791399999999999,
          1.1684,
          1.172,
          1.16025,
          1.15444,
          1.15188,
          1.15449,
          1.14215,
          1.1430799999999999,
          1.15154,
          1.15619,
          1.15415,
          1.14935,
          1.1487,
          1.13247,
          1.1317700000000002,
          1.13479,
          1.13877,
          1.12934,
          1.1277700000000002,
          1.11845,
          1.12119,
          1.12045,
          1.12685,
          1.1346100000000001,
          1.13267,
          1.14835,
          1.14749,
          1.1508399999999999,
          1.14947,
          1.14572,
          1.13437,
          1.1242,
          1.1284299999999998,
          1.1361299999999999,
          1.13867,
          1.13315,
          1.13716,
          1.1289799999999999,
          1.13588,
          1.12837,
          1.1323299999999998,
          1.12635,
          1.1249,
          1.11485,
          1.1138,
          1.1119299999999999,
          1.0920299999999998,
          1.08566,
          1.0874,
          1.08544,
          1.08856,
          1.08843,
          1.09943,
          1.0966799999999999,
          1.08117,
          1.08495,
          1.0944399999999999,
          1.11043,
          1.10695,
          1.12239,
          1.1210200000000001,
          1.12094,
          1.12745,
          1.1284100000000001,
          1.11782,
          1.1284299999999998,
          1.1257,
          1.14343,
          1.14588,
          1.14445,
          1.14951,
          1.14896,
          1.1455799999999998,
          1.1601,
          1.16585,
          1.17193,
          1.16943,
          1.15655,
          1.1711200000000002,
          1.1764700000000001,
          1.18097,
          1.17467,
          1.18109,
          1.1706,
          1.17264,
          1.16378,
          1.1586,
          1.17098,
          1.16362,
          1.16654,
          1.18021,
          1.17903,
          1.1774200000000001,
          1.17441,
          1.16701,
          1.16602,
          1.16228,
          1.15778,
          1.14573,
          1.14921,
          1.14391,
          1.14165,
          1.15034,
          1.14798,
          1.1521,
          1.1632799999999999,
          1.17325,
          1.17764,
          1.17479,
          1.19696,
          1.1875,
          1.19127,
          1.19084,
          1.17718,
          1.1790200000000002,
          1.19392,
          1.19068,
          1.19717,
          1.1982,
          1.20793,
          1.2109,
          1.20821,
          1.21725,
          1.22173,
          1.22576,
          1.22151,
          1.22213,
          1.2141899999999999,
          1.2316799999999999,
          1.23291,
          1.24091,
          1.2422,
          1.24025,
          1.23948,
          1.23943,
          1.24448,
          1.24499,
          1.24258,
          1.249,
          1.25495,
          1.25931,
          1.2543600000000001,
          1.25832,
          1.26736,
          1.27244,
          1.26306,
          1.27653,
          1.28538,
          1.27473,
          1.27736,
          1.2645600000000001,
          1.25753,
          1.23676,
          1.23496,
          1.25786,
          1.26405,
          1.2716399999999999,
          1.25742,
          1.24604,
          1.26445,
          1.24681,
          1.24062,
          1.24696,
          1.24248,
          1.25423,
          1.25345,
          1.25471
         ],
         "type": "candlestick",
         "x": [
          0,
          1,
          2,
          3,
          4,
          5,
          6,
          7,
          8,
          9,
          10,
          11,
          12,
          13,
          14,
          15,
          16,
          17,
          18,
          19,
          20,
          21,
          22,
          23,
          24,
          25,
          26,
          27,
          28,
          29,
          30,
          31,
          32,
          33,
          34,
          35,
          36,
          37,
          38,
          39,
          40,
          41,
          42,
          43,
          44,
          45,
          46,
          47,
          48,
          49,
          50,
          51,
          52,
          53,
          54,
          55,
          56,
          57,
          58,
          59,
          60,
          61,
          62,
          63,
          64,
          65,
          66,
          67,
          68,
          69,
          70,
          71,
          72,
          73,
          74,
          75,
          76,
          77,
          78,
          79,
          80,
          81,
          82,
          83,
          84,
          85,
          86,
          87,
          88,
          89,
          90,
          91,
          92,
          93,
          94,
          95,
          96,
          97,
          98,
          99,
          100,
          101,
          102,
          103,
          104,
          105,
          106,
          107,
          108,
          109,
          110,
          111,
          112,
          113,
          114,
          115,
          116,
          117,
          118,
          119,
          120,
          121,
          122,
          123,
          124,
          125,
          126,
          127,
          128,
          129,
          130,
          131,
          132,
          133,
          134,
          135,
          136,
          137,
          138,
          139,
          140,
          141,
          142,
          143,
          144,
          145,
          146,
          147,
          148,
          149,
          150,
          151,
          152,
          153,
          154,
          155,
          156,
          157,
          158,
          159,
          160,
          161,
          162,
          163,
          164,
          165,
          166,
          167,
          168,
          169,
          170,
          171,
          172,
          173,
          174,
          175,
          176,
          177,
          178,
          179,
          180,
          181,
          182,
          183,
          184,
          185,
          186,
          187,
          188,
          189,
          190,
          191,
          192,
          193,
          194,
          195,
          196,
          197,
          198,
          199
         ]
        }
       ],
       "layout": {
        "shapes": [
         {
          "line": {
           "color": "MediumPurple",
           "width": 3
          },
          "type": "line",
          "x0": 0,
          "x1": 200,
          "y0": 1.11123,
          "y1": 1.11123
         },
         {
          "line": {
           "color": "MediumPurple",
           "width": 3
          },
          "type": "line",
          "x0": 0,
          "x1": 200,
          "y0": 1.13974,
          "y1": 1.13974
         },
         {
          "line": {
           "color": "MediumPurple",
           "width": 3
          },
          "type": "line",
          "x0": 0,
          "x1": 200,
          "y0": 1.17519,
          "y1": 1.17519
         },
         {
          "line": {
           "color": "MediumPurple",
           "width": 3
          },
          "type": "line",
          "x0": 0,
          "x1": 200,
          "y0": 1.23337,
          "y1": 1.23337
         },
         {
          "line": {
           "color": "RoyalBlue",
           "width": 1
          },
          "type": "line",
          "x0": 0,
          "x1": 200,
          "y0": 1.14265,
          "y1": 1.14265
         },
         {
          "line": {
           "color": "RoyalBlue",
           "width": 1
          },
          "type": "line",
          "x0": 0,
          "x1": 200,
          "y0": 1.16244,
          "y1": 1.16244
         },
         {
          "line": {
           "color": "RoyalBlue",
           "width": 1
          },
          "type": "line",
          "x0": 0,
          "x1": 200,
          "y0": 1.18566,
          "y1": 1.18566
         },
         {
          "line": {
           "color": "RoyalBlue",
           "width": 1
          },
          "type": "line",
          "x0": 0,
          "x1": 200,
          "y0": 1.19278,
          "y1": 1.19278
         },
         {
          "line": {
           "color": "RoyalBlue",
           "width": 1
          },
          "type": "line",
          "x0": 0,
          "x1": 200,
          "y0": 1.22745,
          "y1": 1.22745
         },
         {
          "line": {
           "color": "RoyalBlue",
           "width": 1
          },
          "type": "line",
          "x0": 0,
          "x1": 200,
          "y0": 1.2897100000000001,
          "y1": 1.2897100000000001
         }
        ],
        "template": {
         "data": {
          "bar": [
           {
            "error_x": {
             "color": "#2a3f5f"
            },
            "error_y": {
             "color": "#2a3f5f"
            },
            "marker": {
             "line": {
              "color": "#E5ECF6",
              "width": 0.5
             }
            },
            "type": "bar"
           }
          ],
          "barpolar": [
           {
            "marker": {
             "line": {
              "color": "#E5ECF6",
              "width": 0.5
             }
            },
            "type": "barpolar"
           }
          ],
          "carpet": [
           {
            "aaxis": {
             "endlinecolor": "#2a3f5f",
             "gridcolor": "white",
             "linecolor": "white",
             "minorgridcolor": "white",
             "startlinecolor": "#2a3f5f"
            },
            "baxis": {
             "endlinecolor": "#2a3f5f",
             "gridcolor": "white",
             "linecolor": "white",
             "minorgridcolor": "white",
             "startlinecolor": "#2a3f5f"
            },
            "type": "carpet"
           }
          ],
          "choropleth": [
           {
            "colorbar": {
             "outlinewidth": 0,
             "ticks": ""
            },
            "type": "choropleth"
           }
          ],
          "contour": [
           {
            "colorbar": {
             "outlinewidth": 0,
             "ticks": ""
            },
            "colorscale": [
             [
              0,
              "#0d0887"
             ],
             [
              0.1111111111111111,
              "#46039f"
             ],
             [
              0.2222222222222222,
              "#7201a8"
             ],
             [
              0.3333333333333333,
              "#9c179e"
             ],
             [
              0.4444444444444444,
              "#bd3786"
             ],
             [
              0.5555555555555556,
              "#d8576b"
             ],
             [
              0.6666666666666666,
              "#ed7953"
             ],
             [
              0.7777777777777778,
              "#fb9f3a"
             ],
             [
              0.8888888888888888,
              "#fdca26"
             ],
             [
              1,
              "#f0f921"
             ]
            ],
            "type": "contour"
           }
          ],
          "contourcarpet": [
           {
            "colorbar": {
             "outlinewidth": 0,
             "ticks": ""
            },
            "type": "contourcarpet"
           }
          ],
          "heatmap": [
           {
            "colorbar": {
             "outlinewidth": 0,
             "ticks": ""
            },
            "colorscale": [
             [
              0,
              "#0d0887"
             ],
             [
              0.1111111111111111,
              "#46039f"
             ],
             [
              0.2222222222222222,
              "#7201a8"
             ],
             [
              0.3333333333333333,
              "#9c179e"
             ],
             [
              0.4444444444444444,
              "#bd3786"
             ],
             [
              0.5555555555555556,
              "#d8576b"
             ],
             [
              0.6666666666666666,
              "#ed7953"
             ],
             [
              0.7777777777777778,
              "#fb9f3a"
             ],
             [
              0.8888888888888888,
              "#fdca26"
             ],
             [
              1,
              "#f0f921"
             ]
            ],
            "type": "heatmap"
           }
          ],
          "heatmapgl": [
           {
            "colorbar": {
             "outlinewidth": 0,
             "ticks": ""
            },
            "colorscale": [
             [
              0,
              "#0d0887"
             ],
             [
              0.1111111111111111,
              "#46039f"
             ],
             [
              0.2222222222222222,
              "#7201a8"
             ],
             [
              0.3333333333333333,
              "#9c179e"
             ],
             [
              0.4444444444444444,
              "#bd3786"
             ],
             [
              0.5555555555555556,
              "#d8576b"
             ],
             [
              0.6666666666666666,
              "#ed7953"
             ],
             [
              0.7777777777777778,
              "#fb9f3a"
             ],
             [
              0.8888888888888888,
              "#fdca26"
             ],
             [
              1,
              "#f0f921"
             ]
            ],
            "type": "heatmapgl"
           }
          ],
          "histogram": [
           {
            "marker": {
             "colorbar": {
              "outlinewidth": 0,
              "ticks": ""
             }
            },
            "type": "histogram"
           }
          ],
          "histogram2d": [
           {
            "colorbar": {
             "outlinewidth": 0,
             "ticks": ""
            },
            "colorscale": [
             [
              0,
              "#0d0887"
             ],
             [
              0.1111111111111111,
              "#46039f"
             ],
             [
              0.2222222222222222,
              "#7201a8"
             ],
             [
              0.3333333333333333,
              "#9c179e"
             ],
             [
              0.4444444444444444,
              "#bd3786"
             ],
             [
              0.5555555555555556,
              "#d8576b"
             ],
             [
              0.6666666666666666,
              "#ed7953"
             ],
             [
              0.7777777777777778,
              "#fb9f3a"
             ],
             [
              0.8888888888888888,
              "#fdca26"
             ],
             [
              1,
              "#f0f921"
             ]
            ],
            "type": "histogram2d"
           }
          ],
          "histogram2dcontour": [
           {
            "colorbar": {
             "outlinewidth": 0,
             "ticks": ""
            },
            "colorscale": [
             [
              0,
              "#0d0887"
             ],
             [
              0.1111111111111111,
              "#46039f"
             ],
             [
              0.2222222222222222,
              "#7201a8"
             ],
             [
              0.3333333333333333,
              "#9c179e"
             ],
             [
              0.4444444444444444,
              "#bd3786"
             ],
             [
              0.5555555555555556,
              "#d8576b"
             ],
             [
              0.6666666666666666,
              "#ed7953"
             ],
             [
              0.7777777777777778,
              "#fb9f3a"
             ],
             [
              0.8888888888888888,
              "#fdca26"
             ],
             [
              1,
              "#f0f921"
             ]
            ],
            "type": "histogram2dcontour"
           }
          ],
          "mesh3d": [
           {
            "colorbar": {
             "outlinewidth": 0,
             "ticks": ""
            },
            "type": "mesh3d"
           }
          ],
          "parcoords": [
           {
            "line": {
             "colorbar": {
              "outlinewidth": 0,
              "ticks": ""
             }
            },
            "type": "parcoords"
           }
          ],
          "pie": [
           {
            "automargin": true,
            "type": "pie"
           }
          ],
          "scatter": [
           {
            "marker": {
             "colorbar": {
              "outlinewidth": 0,
              "ticks": ""
             }
            },
            "type": "scatter"
           }
          ],
          "scatter3d": [
           {
            "line": {
             "colorbar": {
              "outlinewidth": 0,
              "ticks": ""
             }
            },
            "marker": {
             "colorbar": {
              "outlinewidth": 0,
              "ticks": ""
             }
            },
            "type": "scatter3d"
           }
          ],
          "scattercarpet": [
           {
            "marker": {
             "colorbar": {
              "outlinewidth": 0,
              "ticks": ""
             }
            },
            "type": "scattercarpet"
           }
          ],
          "scattergeo": [
           {
            "marker": {
             "colorbar": {
              "outlinewidth": 0,
              "ticks": ""
             }
            },
            "type": "scattergeo"
           }
          ],
          "scattergl": [
           {
            "marker": {
             "colorbar": {
              "outlinewidth": 0,
              "ticks": ""
             }
            },
            "type": "scattergl"
           }
          ],
          "scattermapbox": [
           {
            "marker": {
             "colorbar": {
              "outlinewidth": 0,
              "ticks": ""
             }
            },
            "type": "scattermapbox"
           }
          ],
          "scatterpolar": [
           {
            "marker": {
             "colorbar": {
              "outlinewidth": 0,
              "ticks": ""
             }
            },
            "type": "scatterpolar"
           }
          ],
          "scatterpolargl": [
           {
            "marker": {
             "colorbar": {
              "outlinewidth": 0,
              "ticks": ""
             }
            },
            "type": "scatterpolargl"
           }
          ],
          "scatterternary": [
           {
            "marker": {
             "colorbar": {
              "outlinewidth": 0,
              "ticks": ""
             }
            },
            "type": "scatterternary"
           }
          ],
          "surface": [
           {
            "colorbar": {
             "outlinewidth": 0,
             "ticks": ""
            },
            "colorscale": [
             [
              0,
              "#0d0887"
             ],
             [
              0.1111111111111111,
              "#46039f"
             ],
             [
              0.2222222222222222,
              "#7201a8"
             ],
             [
              0.3333333333333333,
              "#9c179e"
             ],
             [
              0.4444444444444444,
              "#bd3786"
             ],
             [
              0.5555555555555556,
              "#d8576b"
             ],
             [
              0.6666666666666666,
              "#ed7953"
             ],
             [
              0.7777777777777778,
              "#fb9f3a"
             ],
             [
              0.8888888888888888,
              "#fdca26"
             ],
             [
              1,
              "#f0f921"
             ]
            ],
            "type": "surface"
           }
          ],
          "table": [
           {
            "cells": {
             "fill": {
              "color": "#EBF0F8"
             },
             "line": {
              "color": "white"
             }
            },
            "header": {
             "fill": {
              "color": "#C8D4E3"
             },
             "line": {
              "color": "white"
             }
            },
            "type": "table"
           }
          ]
         },
         "layout": {
          "annotationdefaults": {
           "arrowcolor": "#2a3f5f",
           "arrowhead": 0,
           "arrowwidth": 1
          },
          "coloraxis": {
           "colorbar": {
            "outlinewidth": 0,
            "ticks": ""
           }
          },
          "colorscale": {
           "diverging": [
            [
             0,
             "#8e0152"
            ],
            [
             0.1,
             "#c51b7d"
            ],
            [
             0.2,
             "#de77ae"
            ],
            [
             0.3,
             "#f1b6da"
            ],
            [
             0.4,
             "#fde0ef"
            ],
            [
             0.5,
             "#f7f7f7"
            ],
            [
             0.6,
             "#e6f5d0"
            ],
            [
             0.7,
             "#b8e186"
            ],
            [
             0.8,
             "#7fbc41"
            ],
            [
             0.9,
             "#4d9221"
            ],
            [
             1,
             "#276419"
            ]
           ],
           "sequential": [
            [
             0,
             "#0d0887"
            ],
            [
             0.1111111111111111,
             "#46039f"
            ],
            [
             0.2222222222222222,
             "#7201a8"
            ],
            [
             0.3333333333333333,
             "#9c179e"
            ],
            [
             0.4444444444444444,
             "#bd3786"
            ],
            [
             0.5555555555555556,
             "#d8576b"
            ],
            [
             0.6666666666666666,
             "#ed7953"
            ],
            [
             0.7777777777777778,
             "#fb9f3a"
            ],
            [
             0.8888888888888888,
             "#fdca26"
            ],
            [
             1,
             "#f0f921"
            ]
           ],
           "sequentialminus": [
            [
             0,
             "#0d0887"
            ],
            [
             0.1111111111111111,
             "#46039f"
            ],
            [
             0.2222222222222222,
             "#7201a8"
            ],
            [
             0.3333333333333333,
             "#9c179e"
            ],
            [
             0.4444444444444444,
             "#bd3786"
            ],
            [
             0.5555555555555556,
             "#d8576b"
            ],
            [
             0.6666666666666666,
             "#ed7953"
            ],
            [
             0.7777777777777778,
             "#fb9f3a"
            ],
            [
             0.8888888888888888,
             "#fdca26"
            ],
            [
             1,
             "#f0f921"
            ]
           ]
          },
          "colorway": [
           "#636efa",
           "#EF553B",
           "#00cc96",
           "#ab63fa",
           "#FFA15A",
           "#19d3f3",
           "#FF6692",
           "#B6E880",
           "#FF97FF",
           "#FECB52"
          ],
          "font": {
           "color": "#2a3f5f"
          },
          "geo": {
           "bgcolor": "white",
           "lakecolor": "white",
           "landcolor": "#E5ECF6",
           "showlakes": true,
           "showland": true,
           "subunitcolor": "white"
          },
          "hoverlabel": {
           "align": "left"
          },
          "hovermode": "closest",
          "mapbox": {
           "style": "light"
          },
          "paper_bgcolor": "white",
          "plot_bgcolor": "#E5ECF6",
          "polar": {
           "angularaxis": {
            "gridcolor": "white",
            "linecolor": "white",
            "ticks": ""
           },
           "bgcolor": "#E5ECF6",
           "radialaxis": {
            "gridcolor": "white",
            "linecolor": "white",
            "ticks": ""
           }
          },
          "scene": {
           "xaxis": {
            "backgroundcolor": "#E5ECF6",
            "gridcolor": "white",
            "gridwidth": 2,
            "linecolor": "white",
            "showbackground": true,
            "ticks": "",
            "zerolinecolor": "white"
           },
           "yaxis": {
            "backgroundcolor": "#E5ECF6",
            "gridcolor": "white",
            "gridwidth": 2,
            "linecolor": "white",
            "showbackground": true,
            "ticks": "",
            "zerolinecolor": "white"
           },
           "zaxis": {
            "backgroundcolor": "#E5ECF6",
            "gridcolor": "white",
            "gridwidth": 2,
            "linecolor": "white",
            "showbackground": true,
            "ticks": "",
            "zerolinecolor": "white"
           }
          },
          "shapedefaults": {
           "line": {
            "color": "#2a3f5f"
           }
          },
          "ternary": {
           "aaxis": {
            "gridcolor": "white",
            "linecolor": "white",
            "ticks": ""
           },
           "baxis": {
            "gridcolor": "white",
            "linecolor": "white",
            "ticks": ""
           },
           "bgcolor": "#E5ECF6",
           "caxis": {
            "gridcolor": "white",
            "linecolor": "white",
            "ticks": ""
           }
          },
          "title": {
           "x": 0.05
          },
          "xaxis": {
           "automargin": true,
           "gridcolor": "white",
           "linecolor": "white",
           "ticks": "",
           "title": {
            "standoff": 15
           },
           "zerolinecolor": "white",
           "zerolinewidth": 2
          },
          "yaxis": {
           "automargin": true,
           "gridcolor": "white",
           "linecolor": "white",
           "ticks": "",
           "title": {
            "standoff": 15
           },
           "zerolinecolor": "white",
           "zerolinewidth": 2
          }
         }
        }
       }
      },
      "text/html": [
       "<div>\n",
       "        \n",
       "        \n",
       "            <div id=\"204dfdab-1dba-438c-8f86-85cff9fceaed\" class=\"plotly-graph-div\" style=\"height:525px; width:100%;\"></div>\n",
       "            <script type=\"text/javascript\">\n",
       "                require([\"plotly\"], function(Plotly) {\n",
       "                    window.PLOTLYENV=window.PLOTLYENV || {};\n",
       "                    \n",
       "                if (document.getElementById(\"204dfdab-1dba-438c-8f86-85cff9fceaed\")) {\n",
       "                    Plotly.newPlot(\n",
       "                        '204dfdab-1dba-438c-8f86-85cff9fceaed',\n",
       "                        [{\"close\": [1.12804, 1.14368, 1.13677, 1.15026, 1.14907, 1.15457, 1.1515, 1.1497, 1.13877, 1.15735, 1.16596, 1.17069, 1.16746, 1.1693799999999999, 1.18266, 1.1869, 1.18288, 1.17649, 1.1883299999999999, 1.1769100000000001, 1.1747299999999998, 1.17391, 1.16645, 1.18405, 1.17001, 1.17161, 1.16759, 1.17421, 1.17638, 1.1863, 1.18356, 1.17937, 1.16883, 1.17203, 1.1604, 1.15429, 1.15171, 1.15398, 1.14181, 1.14254, 1.15116, 1.15608, 1.15396, 1.14945, 1.1489200000000002, 1.13252, 1.13151, 1.13481, 1.13891, 1.1299, 1.12779, 1.11858, 1.12068, 1.12079, 1.1274600000000001, 1.13495, 1.13315, 1.14754, 1.14695, 1.15079, 1.14909, 1.1458899999999999, 1.13426, 1.12428, 1.12541, 1.1357, 1.13893, 1.13321, 1.13732, 1.13083, 1.13582, 1.1283, 1.1322, 1.1257700000000002, 1.12663, 1.11428, 1.11392, 1.11185, 1.09226, 1.08761, 1.08735, 1.08542, 1.0886, 1.0881100000000001, 1.09847, 1.09675, 1.08079, 1.08474, 1.0943, 1.11049, 1.10649, 1.12238, 1.12076, 1.12089, 1.12913, 1.1281700000000001, 1.1174600000000001, 1.12834, 1.1255600000000001, 1.13792, 1.14602, 1.14404, 1.14949, 1.1490200000000002, 1.1460700000000001, 1.15971, 1.16547, 1.17146, 1.16926, 1.1581, 1.17079, 1.1759, 1.18092, 1.1745700000000001, 1.1795799999999999, 1.1703, 1.17234, 1.16339, 1.15873, 1.16812, 1.16336, 1.1667100000000001, 1.18011, 1.17915, 1.1779700000000002, 1.1744, 1.1670399999999999, 1.16618, 1.16225, 1.15877, 1.14554, 1.14933, 1.14378, 1.14153, 1.15295, 1.1479700000000002, 1.1520000000000001, 1.1628399999999999, 1.1732200000000002, 1.1775799999999998, 1.1747100000000001, 1.1971, 1.1875799999999999, 1.1911100000000001, 1.1915200000000001, 1.177, 1.17899, 1.194, 1.19071, 1.19928, 1.19805, 1.20811, 1.2107700000000001, 1.20855, 1.2166, 1.2218, 1.22543, 1.22145, 1.22187, 1.22756, 1.23173, 1.23302, 1.2410700000000001, 1.24231, 1.23739, 1.23956, 1.23927, 1.2446, 1.2452, 1.24272, 1.24892, 1.25492, 1.25925, 1.25454, 1.25832, 1.2675299999999998, 1.2725600000000001, 1.26322, 1.27661, 1.28149, 1.27493, 1.27714, 1.26473, 1.25766, 1.2396200000000002, 1.23478, 1.25787, 1.26425, 1.27183, 1.25797, 1.24575, 1.2643, 1.24681, 1.24072, 1.24747, 1.24237, 1.25407, 1.25327, 1.2546, 1.27026], \"high\": [1.13019, 1.1451, 1.14448, 1.1509200000000002, 1.1537600000000001, 1.16244, 1.15751, 1.15388, 1.14988, 1.1578600000000001, 1.17363, 1.17156, 1.1745299999999999, 1.17276, 1.18373, 1.18754, 1.193, 1.1845299999999999, 1.19008, 1.1915799999999999, 1.17672, 1.17783, 1.1747299999999998, 1.1886, 1.18785, 1.17859, 1.17415, 1.1782, 1.18058, 1.18774, 1.19278, 1.18662, 1.18039, 1.17387, 1.17347, 1.1603299999999999, 1.15811, 1.16215, 1.15523, 1.14675, 1.15141, 1.16079, 1.1568399999999999, 1.1544299999999998, 1.15019, 1.149, 1.1350799999999999, 1.13667, 1.13924, 1.1390799999999999, 1.1308, 1.1336899999999999, 1.12315, 1.1248799999999999, 1.13032, 1.1354600000000001, 1.13734, 1.14898, 1.15101, 1.15487, 1.15182, 1.1538, 1.1461, 1.13713, 1.12716, 1.13749, 1.13976, 1.14265, 1.1415, 1.13838, 1.13798, 1.13715, 1.1332200000000001, 1.13375, 1.12963, 1.1269, 1.11522, 1.11475, 1.11226, 1.09456, 1.09184, 1.09096, 1.0929799999999998, 1.09125, 1.09974, 1.10138, 1.09713, 1.08725, 1.09505, 1.1112600000000001, 1.11297, 1.12402, 1.12362, 1.12705, 1.13228, 1.1309799999999999, 1.1318, 1.1299700000000001, 1.13424, 1.13837, 1.15046, 1.1524299999999998, 1.15049, 1.15331, 1.14975, 1.16015, 1.17339, 1.17288, 1.17677, 1.17205, 1.1723700000000001, 1.18115, 1.1839600000000001, 1.18604, 1.1846700000000001, 1.1815, 1.1765, 1.1745, 1.1694799999999999, 1.1684299999999999, 1.17285, 1.17006, 1.18265, 1.18444, 1.18566, 1.1784299999999999, 1.17507, 1.1718, 1.1754200000000001, 1.16557, 1.16192, 1.1512200000000001, 1.1498, 1.14629, 1.15428, 1.15352, 1.15304, 1.1659899999999999, 1.1738, 1.1802, 1.18485, 1.1973799999999999, 1.1977200000000001, 1.19556, 1.19379, 1.19177, 1.18185, 1.19475, 1.19411, 1.20145, 1.20403, 1.20913, 1.21268, 1.21553, 1.21781, 1.22389, 1.22745, 1.2264899999999999, 1.2233100000000001, 1.23063, 1.2322600000000001, 1.23594, 1.2420799999999999, 1.2438200000000001, 1.24346, 1.2445899999999999, 1.2425, 1.24702, 1.2462, 1.2469299999999999, 1.25078, 1.25613, 1.2646, 1.26052, 1.26282, 1.26935, 1.28093, 1.27417, 1.27796, 1.2867600000000001, 1.2897100000000001, 1.27957, 1.27878, 1.2670700000000001, 1.26091, 1.2423, 1.25952, 1.2671, 1.27485, 1.27742, 1.2610700000000001, 1.2651700000000001, 1.2661799999999999, 1.25265, 1.24911, 1.24858, 1.25973, 1.25609, 1.2636399999999999, 1.27243], \"low\": [1.1203, 1.1273799999999998, 1.13275, 1.13026, 1.14362, 1.14946, 1.1463, 1.14681, 1.13757, 1.13691, 1.16215, 1.1601299999999999, 1.1661700000000002, 1.16192, 1.16648, 1.17972, 1.1817600000000001, 1.1704700000000001, 1.16917, 1.17439, 1.16524, 1.16875, 1.16619, 1.16287, 1.1684299999999999, 1.16564, 1.1670399999999999, 1.16581, 1.17036, 1.17354, 1.18208, 1.1768399999999999, 1.16611, 1.15836, 1.15511, 1.15081, 1.1476600000000001, 1.14913, 1.1414, 1.13994, 1.13974, 1.15025, 1.15049, 1.14326, 1.1447200000000002, 1.13132, 1.1258700000000001, 1.13047, 1.1309799999999999, 1.1275899999999999, 1.12426, 1.1156, 1.11123, 1.11562, 1.11717, 1.12411, 1.13058, 1.13139, 1.1423299999999998, 1.14439, 1.14515, 1.1451, 1.13352, 1.12237, 1.11348, 1.12581, 1.1306399999999999, 1.1325399999999999, 1.13183, 1.12866, 1.12628, 1.12758, 1.12189, 1.1224399999999999, 1.1240299999999999, 1.1123299999999998, 1.10545, 1.1079299999999999, 1.08846, 1.0836299999999999, 1.08453, 1.0793, 1.08313, 1.08097, 1.0868799999999998, 1.09517, 1.08029, 1.07616, 1.08064, 1.09159, 1.10461, 1.10524, 1.1162, 1.1154700000000002, 1.1134600000000001, 1.12411, 1.11538, 1.11382, 1.1226399999999999, 1.12382, 1.14134, 1.1435799999999998, 1.14273, 1.14578, 1.14404, 1.13941, 1.15705, 1.16424, 1.16612, 1.155, 1.1532200000000001, 1.16975, 1.17587, 1.1684, 1.17022, 1.16523, 1.15818, 1.15906, 1.15734, 1.15526, 1.16016, 1.1616799999999998, 1.16477, 1.17561, 1.17601, 1.1717600000000001, 1.1654799999999998, 1.16584, 1.1616, 1.15628, 1.14275, 1.14262, 1.1413, 1.13886, 1.13783, 1.1462700000000001, 1.14431, 1.1503, 1.16251, 1.1727100000000001, 1.17245, 1.17327, 1.18733, 1.18711, 1.18567, 1.17565, 1.17519, 1.17686, 1.18831, 1.18972, 1.19364, 1.19407, 1.2069299999999998, 1.2029, 1.2061600000000001, 1.21476, 1.21869, 1.21523, 1.21123, 1.22071, 1.21288, 1.23, 1.22948, 1.23587, 1.2343, 1.23479, 1.23823, 1.23924, 1.24342, 1.2420799999999999, 1.24221, 1.24758, 1.25132, 1.24698, 1.25214, 1.25795, 1.2666600000000001, 1.2623, 1.2559, 1.27034, 1.27342, 1.27119, 1.26296, 1.25614, 1.23504, 1.23337, 1.2342600000000001, 1.25504, 1.26346, 1.25631, 1.24567, 1.24403, 1.2462799999999998, 1.23617, 1.23506, 1.2389700000000001, 1.24139, 1.24929, 1.25177, 1.25118], \"open\": [1.12354, 1.12798, 1.14367, 1.13675, 1.15002, 1.1495799999999998, 1.1542700000000001, 1.1519, 1.14983, 1.13845, 1.16634, 1.1659, 1.17059, 1.16724, 1.16947, 1.1827, 1.1867, 1.18261, 1.1765700000000001, 1.1882700000000002, 1.17149, 1.17496, 1.17365, 1.16635, 1.1838899999999999, 1.1694, 1.17146, 1.16746, 1.17429, 1.17652, 1.1869399999999999, 1.1838600000000001, 1.1791399999999999, 1.1684, 1.172, 1.16025, 1.15444, 1.15188, 1.15449, 1.14215, 1.1430799999999999, 1.15154, 1.15619, 1.15415, 1.14935, 1.1487, 1.13247, 1.1317700000000002, 1.13479, 1.13877, 1.12934, 1.1277700000000002, 1.11845, 1.12119, 1.12045, 1.12685, 1.1346100000000001, 1.13267, 1.14835, 1.14749, 1.1508399999999999, 1.14947, 1.14572, 1.13437, 1.1242, 1.1284299999999998, 1.1361299999999999, 1.13867, 1.13315, 1.13716, 1.1289799999999999, 1.13588, 1.12837, 1.1323299999999998, 1.12635, 1.1249, 1.11485, 1.1138, 1.1119299999999999, 1.0920299999999998, 1.08566, 1.0874, 1.08544, 1.08856, 1.08843, 1.09943, 1.0966799999999999, 1.08117, 1.08495, 1.0944399999999999, 1.11043, 1.10695, 1.12239, 1.1210200000000001, 1.12094, 1.12745, 1.1284100000000001, 1.11782, 1.1284299999999998, 1.1257, 1.14343, 1.14588, 1.14445, 1.14951, 1.14896, 1.1455799999999998, 1.1601, 1.16585, 1.17193, 1.16943, 1.15655, 1.1711200000000002, 1.1764700000000001, 1.18097, 1.17467, 1.18109, 1.1706, 1.17264, 1.16378, 1.1586, 1.17098, 1.16362, 1.16654, 1.18021, 1.17903, 1.1774200000000001, 1.17441, 1.16701, 1.16602, 1.16228, 1.15778, 1.14573, 1.14921, 1.14391, 1.14165, 1.15034, 1.14798, 1.1521, 1.1632799999999999, 1.17325, 1.17764, 1.17479, 1.19696, 1.1875, 1.19127, 1.19084, 1.17718, 1.1790200000000002, 1.19392, 1.19068, 1.19717, 1.1982, 1.20793, 1.2109, 1.20821, 1.21725, 1.22173, 1.22576, 1.22151, 1.22213, 1.2141899999999999, 1.2316799999999999, 1.23291, 1.24091, 1.2422, 1.24025, 1.23948, 1.23943, 1.24448, 1.24499, 1.24258, 1.249, 1.25495, 1.25931, 1.2543600000000001, 1.25832, 1.26736, 1.27244, 1.26306, 1.27653, 1.28538, 1.27473, 1.27736, 1.2645600000000001, 1.25753, 1.23676, 1.23496, 1.25786, 1.26405, 1.2716399999999999, 1.25742, 1.24604, 1.26445, 1.24681, 1.24062, 1.24696, 1.24248, 1.25423, 1.25345, 1.25471], \"type\": \"candlestick\", \"x\": [0, 1, 2, 3, 4, 5, 6, 7, 8, 9, 10, 11, 12, 13, 14, 15, 16, 17, 18, 19, 20, 21, 22, 23, 24, 25, 26, 27, 28, 29, 30, 31, 32, 33, 34, 35, 36, 37, 38, 39, 40, 41, 42, 43, 44, 45, 46, 47, 48, 49, 50, 51, 52, 53, 54, 55, 56, 57, 58, 59, 60, 61, 62, 63, 64, 65, 66, 67, 68, 69, 70, 71, 72, 73, 74, 75, 76, 77, 78, 79, 80, 81, 82, 83, 84, 85, 86, 87, 88, 89, 90, 91, 92, 93, 94, 95, 96, 97, 98, 99, 100, 101, 102, 103, 104, 105, 106, 107, 108, 109, 110, 111, 112, 113, 114, 115, 116, 117, 118, 119, 120, 121, 122, 123, 124, 125, 126, 127, 128, 129, 130, 131, 132, 133, 134, 135, 136, 137, 138, 139, 140, 141, 142, 143, 144, 145, 146, 147, 148, 149, 150, 151, 152, 153, 154, 155, 156, 157, 158, 159, 160, 161, 162, 163, 164, 165, 166, 167, 168, 169, 170, 171, 172, 173, 174, 175, 176, 177, 178, 179, 180, 181, 182, 183, 184, 185, 186, 187, 188, 189, 190, 191, 192, 193, 194, 195, 196, 197, 198, 199]}],\n",
       "                        {\"shapes\": [{\"line\": {\"color\": \"MediumPurple\", \"width\": 3}, \"type\": \"line\", \"x0\": 0, \"x1\": 200, \"y0\": 1.11123, \"y1\": 1.11123}, {\"line\": {\"color\": \"MediumPurple\", \"width\": 3}, \"type\": \"line\", \"x0\": 0, \"x1\": 200, \"y0\": 1.13974, \"y1\": 1.13974}, {\"line\": {\"color\": \"MediumPurple\", \"width\": 3}, \"type\": \"line\", \"x0\": 0, \"x1\": 200, \"y0\": 1.17519, \"y1\": 1.17519}, {\"line\": {\"color\": \"MediumPurple\", \"width\": 3}, \"type\": \"line\", \"x0\": 0, \"x1\": 200, \"y0\": 1.23337, \"y1\": 1.23337}, {\"line\": {\"color\": \"RoyalBlue\", \"width\": 1}, \"type\": \"line\", \"x0\": 0, \"x1\": 200, \"y0\": 1.14265, \"y1\": 1.14265}, {\"line\": {\"color\": \"RoyalBlue\", \"width\": 1}, \"type\": \"line\", \"x0\": 0, \"x1\": 200, \"y0\": 1.16244, \"y1\": 1.16244}, {\"line\": {\"color\": \"RoyalBlue\", \"width\": 1}, \"type\": \"line\", \"x0\": 0, \"x1\": 200, \"y0\": 1.18566, \"y1\": 1.18566}, {\"line\": {\"color\": \"RoyalBlue\", \"width\": 1}, \"type\": \"line\", \"x0\": 0, \"x1\": 200, \"y0\": 1.19278, \"y1\": 1.19278}, {\"line\": {\"color\": \"RoyalBlue\", \"width\": 1}, \"type\": \"line\", \"x0\": 0, \"x1\": 200, \"y0\": 1.22745, \"y1\": 1.22745}, {\"line\": {\"color\": \"RoyalBlue\", \"width\": 1}, \"type\": \"line\", \"x0\": 0, \"x1\": 200, \"y0\": 1.2897100000000001, \"y1\": 1.2897100000000001}], \"template\": {\"data\": {\"bar\": [{\"error_x\": {\"color\": \"#2a3f5f\"}, \"error_y\": {\"color\": \"#2a3f5f\"}, \"marker\": {\"line\": {\"color\": \"#E5ECF6\", \"width\": 0.5}}, \"type\": \"bar\"}], \"barpolar\": [{\"marker\": {\"line\": {\"color\": \"#E5ECF6\", \"width\": 0.5}}, \"type\": \"barpolar\"}], \"carpet\": [{\"aaxis\": {\"endlinecolor\": \"#2a3f5f\", \"gridcolor\": \"white\", \"linecolor\": \"white\", \"minorgridcolor\": \"white\", \"startlinecolor\": \"#2a3f5f\"}, \"baxis\": {\"endlinecolor\": \"#2a3f5f\", \"gridcolor\": \"white\", \"linecolor\": \"white\", \"minorgridcolor\": \"white\", \"startlinecolor\": \"#2a3f5f\"}, \"type\": \"carpet\"}], \"choropleth\": [{\"colorbar\": {\"outlinewidth\": 0, \"ticks\": \"\"}, \"type\": \"choropleth\"}], \"contour\": [{\"colorbar\": {\"outlinewidth\": 0, \"ticks\": \"\"}, \"colorscale\": [[0.0, \"#0d0887\"], [0.1111111111111111, \"#46039f\"], [0.2222222222222222, \"#7201a8\"], [0.3333333333333333, \"#9c179e\"], [0.4444444444444444, \"#bd3786\"], [0.5555555555555556, \"#d8576b\"], [0.6666666666666666, \"#ed7953\"], [0.7777777777777778, \"#fb9f3a\"], [0.8888888888888888, \"#fdca26\"], [1.0, \"#f0f921\"]], \"type\": \"contour\"}], \"contourcarpet\": [{\"colorbar\": {\"outlinewidth\": 0, \"ticks\": \"\"}, \"type\": \"contourcarpet\"}], \"heatmap\": [{\"colorbar\": {\"outlinewidth\": 0, \"ticks\": \"\"}, \"colorscale\": [[0.0, \"#0d0887\"], [0.1111111111111111, \"#46039f\"], [0.2222222222222222, \"#7201a8\"], [0.3333333333333333, \"#9c179e\"], [0.4444444444444444, \"#bd3786\"], [0.5555555555555556, \"#d8576b\"], [0.6666666666666666, \"#ed7953\"], [0.7777777777777778, \"#fb9f3a\"], [0.8888888888888888, \"#fdca26\"], [1.0, \"#f0f921\"]], \"type\": \"heatmap\"}], \"heatmapgl\": [{\"colorbar\": {\"outlinewidth\": 0, \"ticks\": \"\"}, \"colorscale\": [[0.0, \"#0d0887\"], [0.1111111111111111, \"#46039f\"], [0.2222222222222222, \"#7201a8\"], [0.3333333333333333, \"#9c179e\"], [0.4444444444444444, \"#bd3786\"], [0.5555555555555556, \"#d8576b\"], [0.6666666666666666, \"#ed7953\"], [0.7777777777777778, \"#fb9f3a\"], [0.8888888888888888, \"#fdca26\"], [1.0, \"#f0f921\"]], \"type\": \"heatmapgl\"}], \"histogram\": [{\"marker\": {\"colorbar\": {\"outlinewidth\": 0, \"ticks\": \"\"}}, \"type\": \"histogram\"}], \"histogram2d\": [{\"colorbar\": {\"outlinewidth\": 0, \"ticks\": \"\"}, \"colorscale\": [[0.0, \"#0d0887\"], [0.1111111111111111, \"#46039f\"], [0.2222222222222222, \"#7201a8\"], [0.3333333333333333, \"#9c179e\"], [0.4444444444444444, \"#bd3786\"], [0.5555555555555556, \"#d8576b\"], [0.6666666666666666, \"#ed7953\"], [0.7777777777777778, \"#fb9f3a\"], [0.8888888888888888, \"#fdca26\"], [1.0, \"#f0f921\"]], \"type\": \"histogram2d\"}], \"histogram2dcontour\": [{\"colorbar\": {\"outlinewidth\": 0, \"ticks\": \"\"}, \"colorscale\": [[0.0, \"#0d0887\"], [0.1111111111111111, \"#46039f\"], [0.2222222222222222, \"#7201a8\"], [0.3333333333333333, \"#9c179e\"], [0.4444444444444444, \"#bd3786\"], [0.5555555555555556, \"#d8576b\"], [0.6666666666666666, \"#ed7953\"], [0.7777777777777778, \"#fb9f3a\"], [0.8888888888888888, \"#fdca26\"], [1.0, \"#f0f921\"]], \"type\": \"histogram2dcontour\"}], \"mesh3d\": [{\"colorbar\": {\"outlinewidth\": 0, \"ticks\": \"\"}, \"type\": \"mesh3d\"}], \"parcoords\": [{\"line\": {\"colorbar\": {\"outlinewidth\": 0, \"ticks\": \"\"}}, \"type\": \"parcoords\"}], \"pie\": [{\"automargin\": true, \"type\": \"pie\"}], \"scatter\": [{\"marker\": {\"colorbar\": {\"outlinewidth\": 0, \"ticks\": \"\"}}, \"type\": \"scatter\"}], \"scatter3d\": [{\"line\": {\"colorbar\": {\"outlinewidth\": 0, \"ticks\": \"\"}}, \"marker\": {\"colorbar\": {\"outlinewidth\": 0, \"ticks\": \"\"}}, \"type\": \"scatter3d\"}], \"scattercarpet\": [{\"marker\": {\"colorbar\": {\"outlinewidth\": 0, \"ticks\": \"\"}}, \"type\": \"scattercarpet\"}], \"scattergeo\": [{\"marker\": {\"colorbar\": {\"outlinewidth\": 0, \"ticks\": \"\"}}, \"type\": \"scattergeo\"}], \"scattergl\": [{\"marker\": {\"colorbar\": {\"outlinewidth\": 0, \"ticks\": \"\"}}, \"type\": \"scattergl\"}], \"scattermapbox\": [{\"marker\": {\"colorbar\": {\"outlinewidth\": 0, \"ticks\": \"\"}}, \"type\": \"scattermapbox\"}], \"scatterpolar\": [{\"marker\": {\"colorbar\": {\"outlinewidth\": 0, \"ticks\": \"\"}}, \"type\": \"scatterpolar\"}], \"scatterpolargl\": [{\"marker\": {\"colorbar\": {\"outlinewidth\": 0, \"ticks\": \"\"}}, \"type\": \"scatterpolargl\"}], \"scatterternary\": [{\"marker\": {\"colorbar\": {\"outlinewidth\": 0, \"ticks\": \"\"}}, \"type\": \"scatterternary\"}], \"surface\": [{\"colorbar\": {\"outlinewidth\": 0, \"ticks\": \"\"}, \"colorscale\": [[0.0, \"#0d0887\"], [0.1111111111111111, \"#46039f\"], [0.2222222222222222, \"#7201a8\"], [0.3333333333333333, \"#9c179e\"], [0.4444444444444444, \"#bd3786\"], [0.5555555555555556, \"#d8576b\"], [0.6666666666666666, \"#ed7953\"], [0.7777777777777778, \"#fb9f3a\"], [0.8888888888888888, \"#fdca26\"], [1.0, \"#f0f921\"]], \"type\": \"surface\"}], \"table\": [{\"cells\": {\"fill\": {\"color\": \"#EBF0F8\"}, \"line\": {\"color\": \"white\"}}, \"header\": {\"fill\": {\"color\": \"#C8D4E3\"}, \"line\": {\"color\": \"white\"}}, \"type\": \"table\"}]}, \"layout\": {\"annotationdefaults\": {\"arrowcolor\": \"#2a3f5f\", \"arrowhead\": 0, \"arrowwidth\": 1}, \"coloraxis\": {\"colorbar\": {\"outlinewidth\": 0, \"ticks\": \"\"}}, \"colorscale\": {\"diverging\": [[0, \"#8e0152\"], [0.1, \"#c51b7d\"], [0.2, \"#de77ae\"], [0.3, \"#f1b6da\"], [0.4, \"#fde0ef\"], [0.5, \"#f7f7f7\"], [0.6, \"#e6f5d0\"], [0.7, \"#b8e186\"], [0.8, \"#7fbc41\"], [0.9, \"#4d9221\"], [1, \"#276419\"]], \"sequential\": [[0.0, \"#0d0887\"], [0.1111111111111111, \"#46039f\"], [0.2222222222222222, \"#7201a8\"], [0.3333333333333333, \"#9c179e\"], [0.4444444444444444, \"#bd3786\"], [0.5555555555555556, \"#d8576b\"], [0.6666666666666666, \"#ed7953\"], [0.7777777777777778, \"#fb9f3a\"], [0.8888888888888888, \"#fdca26\"], [1.0, \"#f0f921\"]], \"sequentialminus\": [[0.0, \"#0d0887\"], [0.1111111111111111, \"#46039f\"], [0.2222222222222222, \"#7201a8\"], [0.3333333333333333, \"#9c179e\"], [0.4444444444444444, \"#bd3786\"], [0.5555555555555556, \"#d8576b\"], [0.6666666666666666, \"#ed7953\"], [0.7777777777777778, \"#fb9f3a\"], [0.8888888888888888, \"#fdca26\"], [1.0, \"#f0f921\"]]}, \"colorway\": [\"#636efa\", \"#EF553B\", \"#00cc96\", \"#ab63fa\", \"#FFA15A\", \"#19d3f3\", \"#FF6692\", \"#B6E880\", \"#FF97FF\", \"#FECB52\"], \"font\": {\"color\": \"#2a3f5f\"}, \"geo\": {\"bgcolor\": \"white\", \"lakecolor\": \"white\", \"landcolor\": \"#E5ECF6\", \"showlakes\": true, \"showland\": true, \"subunitcolor\": \"white\"}, \"hoverlabel\": {\"align\": \"left\"}, \"hovermode\": \"closest\", \"mapbox\": {\"style\": \"light\"}, \"paper_bgcolor\": \"white\", \"plot_bgcolor\": \"#E5ECF6\", \"polar\": {\"angularaxis\": {\"gridcolor\": \"white\", \"linecolor\": \"white\", \"ticks\": \"\"}, \"bgcolor\": \"#E5ECF6\", \"radialaxis\": {\"gridcolor\": \"white\", \"linecolor\": \"white\", \"ticks\": \"\"}}, \"scene\": {\"xaxis\": {\"backgroundcolor\": \"#E5ECF6\", \"gridcolor\": \"white\", \"gridwidth\": 2, \"linecolor\": \"white\", \"showbackground\": true, \"ticks\": \"\", \"zerolinecolor\": \"white\"}, \"yaxis\": {\"backgroundcolor\": \"#E5ECF6\", \"gridcolor\": \"white\", \"gridwidth\": 2, \"linecolor\": \"white\", \"showbackground\": true, \"ticks\": \"\", \"zerolinecolor\": \"white\"}, \"zaxis\": {\"backgroundcolor\": \"#E5ECF6\", \"gridcolor\": \"white\", \"gridwidth\": 2, \"linecolor\": \"white\", \"showbackground\": true, \"ticks\": \"\", \"zerolinecolor\": \"white\"}}, \"shapedefaults\": {\"line\": {\"color\": \"#2a3f5f\"}}, \"ternary\": {\"aaxis\": {\"gridcolor\": \"white\", \"linecolor\": \"white\", \"ticks\": \"\"}, \"baxis\": {\"gridcolor\": \"white\", \"linecolor\": \"white\", \"ticks\": \"\"}, \"bgcolor\": \"#E5ECF6\", \"caxis\": {\"gridcolor\": \"white\", \"linecolor\": \"white\", \"ticks\": \"\"}}, \"title\": {\"x\": 0.05}, \"xaxis\": {\"automargin\": true, \"gridcolor\": \"white\", \"linecolor\": \"white\", \"ticks\": \"\", \"title\": {\"standoff\": 15}, \"zerolinecolor\": \"white\", \"zerolinewidth\": 2}, \"yaxis\": {\"automargin\": true, \"gridcolor\": \"white\", \"linecolor\": \"white\", \"ticks\": \"\", \"title\": {\"standoff\": 15}, \"zerolinecolor\": \"white\", \"zerolinewidth\": 2}}}},\n",
       "                        {\"responsive\": true}\n",
       "                    ).then(function(){\n",
       "                            \n",
       "var gd = document.getElementById('204dfdab-1dba-438c-8f86-85cff9fceaed');\n",
       "var x = new MutationObserver(function (mutations, observer) {{\n",
       "        var display = window.getComputedStyle(gd).display;\n",
       "        if (!display || display === 'none') {{\n",
       "            console.log([gd, 'removed!']);\n",
       "            Plotly.purge(gd);\n",
       "            observer.disconnect();\n",
       "        }}\n",
       "}});\n",
       "\n",
       "// Listen for the removal of the full notebook cells\n",
       "var notebookContainer = gd.closest('#notebook-container');\n",
       "if (notebookContainer) {{\n",
       "    x.observe(notebookContainer, {childList: true});\n",
       "}}\n",
       "\n",
       "// Listen for the clearing of the current output cell\n",
       "var outputEl = gd.closest('.output');\n",
       "if (outputEl) {{\n",
       "    x.observe(outputEl, {childList: true});\n",
       "}}\n",
       "\n",
       "                        })\n",
       "                };\n",
       "                });\n",
       "            </script>\n",
       "        </div>"
      ]
     },
     "metadata": {},
     "output_type": "display_data"
    }
   ],
   "source": [
    "s = 0\n",
    "e = 200\n",
    "dfpl = df[s:e]\n",
    "import plotly.graph_objects as go\n",
    "from datetime import datetime\n",
    "import matplotlib.pyplot as plt\n",
    "\n",
    "fig = go.Figure(data=[go.Candlestick(x=dfpl.index,\n",
    "                open=dfpl['open'],\n",
    "                high=dfpl['high'],\n",
    "                low=dfpl['low'],\n",
    "                close=dfpl['close'])])\n",
    "\n",
    "c=0\n",
    "while (1):\n",
    "    if(c>len(plotlist1)-1 ):#or sr[c][0]>e\n",
    "        break\n",
    "    fig.add_shape(type='line', x0=s, y0=plotlist1[c],\n",
    "                  x1=e,\n",
    "                  y1=plotlist1[c],\n",
    "                  line=dict(color=\"MediumPurple\",width=3)\n",
    "                  )\n",
    "    c+=1\n",
    "\n",
    "c=0\n",
    "while (1):\n",
    "    if(c>len(plotlist2)-1 ):#or sr[c][0]>e\n",
    "        break\n",
    "    fig.add_shape(type='line', x0=s, y0=plotlist2[c],\n",
    "                  x1=e,\n",
    "                  y1=plotlist2[c],\n",
    "                  line=dict(color=\"RoyalBlue\",width=1)\n",
    "                  )\n",
    "    c+=1    \n",
    "\n",
    "fig.show()"
   ]
  },
  {
   "cell_type": "code",
   "execution_count": 17,
   "metadata": {},
   "outputs": [],
   "source": [
    "ss = []\n",
    "rr = []\n",
    "n1=2\n",
    "n2=2\n",
    "for row in range(3, 205): #len(df)-n2\n",
    "    if support(df, row, n1, n2):\n",
    "        ss.append((row,df.low[row]))\n",
    "    if resistance(df, row, n1, n2):\n",
    "        rr.append((row,df.high[row]))"
   ]
  },
  {
   "cell_type": "code",
   "execution_count": 18,
   "metadata": {},
   "outputs": [
    {
     "data": {
      "application/vnd.plotly.v1+json": {
       "config": {
        "plotlyServerURL": "https://plot.ly"
       },
       "data": [
        {
         "close": [
          1.12804,
          1.14368,
          1.13677,
          1.15026,
          1.14907,
          1.15457,
          1.1515,
          1.1497,
          1.13877,
          1.15735,
          1.16596,
          1.17069,
          1.16746,
          1.1693799999999999,
          1.18266,
          1.1869,
          1.18288,
          1.17649,
          1.1883299999999999,
          1.1769100000000001,
          1.1747299999999998,
          1.17391,
          1.16645,
          1.18405,
          1.17001,
          1.17161,
          1.16759,
          1.17421,
          1.17638,
          1.1863,
          1.18356,
          1.17937,
          1.16883,
          1.17203,
          1.1604,
          1.15429,
          1.15171,
          1.15398,
          1.14181,
          1.14254,
          1.15116,
          1.15608,
          1.15396,
          1.14945,
          1.1489200000000002,
          1.13252,
          1.13151,
          1.13481,
          1.13891,
          1.1299,
          1.12779,
          1.11858,
          1.12068,
          1.12079,
          1.1274600000000001,
          1.13495,
          1.13315,
          1.14754,
          1.14695,
          1.15079,
          1.14909,
          1.1458899999999999,
          1.13426,
          1.12428,
          1.12541,
          1.1357,
          1.13893,
          1.13321,
          1.13732,
          1.13083,
          1.13582,
          1.1283,
          1.1322,
          1.1257700000000002,
          1.12663,
          1.11428,
          1.11392,
          1.11185,
          1.09226,
          1.08761,
          1.08735,
          1.08542,
          1.0886,
          1.0881100000000001,
          1.09847,
          1.09675,
          1.08079,
          1.08474,
          1.0943,
          1.11049,
          1.10649,
          1.12238,
          1.12076,
          1.12089,
          1.12913,
          1.1281700000000001,
          1.1174600000000001,
          1.12834,
          1.1255600000000001,
          1.13792,
          1.14602,
          1.14404,
          1.14949,
          1.1490200000000002,
          1.1460700000000001,
          1.15971,
          1.16547,
          1.17146,
          1.16926,
          1.1581,
          1.17079,
          1.1759,
          1.18092,
          1.1745700000000001,
          1.1795799999999999,
          1.1703,
          1.17234,
          1.16339,
          1.15873,
          1.16812,
          1.16336,
          1.1667100000000001,
          1.18011,
          1.17915,
          1.1779700000000002,
          1.1744,
          1.1670399999999999,
          1.16618,
          1.16225,
          1.15877,
          1.14554,
          1.14933,
          1.14378,
          1.14153,
          1.15295,
          1.1479700000000002,
          1.1520000000000001,
          1.1628399999999999,
          1.1732200000000002,
          1.1775799999999998,
          1.1747100000000001,
          1.1971,
          1.1875799999999999,
          1.1911100000000001,
          1.1915200000000001,
          1.177,
          1.17899,
          1.194,
          1.19071,
          1.19928,
          1.19805,
          1.20811,
          1.2107700000000001,
          1.20855,
          1.2166,
          1.2218,
          1.22543,
          1.22145,
          1.22187,
          1.22756,
          1.23173,
          1.23302,
          1.2410700000000001,
          1.24231,
          1.23739,
          1.23956,
          1.23927,
          1.2446,
          1.2452,
          1.24272,
          1.24892,
          1.25492,
          1.25925,
          1.25454,
          1.25832,
          1.2675299999999998,
          1.2725600000000001,
          1.26322,
          1.27661,
          1.28149,
          1.27493,
          1.27714,
          1.26473,
          1.25766,
          1.2396200000000002,
          1.23478,
          1.25787,
          1.26425,
          1.27183,
          1.25797,
          1.24575,
          1.2643,
          1.24681,
          1.24072,
          1.24747,
          1.24237,
          1.25407,
          1.25327,
          1.2546,
          1.27026
         ],
         "high": [
          1.13019,
          1.1451,
          1.14448,
          1.1509200000000002,
          1.1537600000000001,
          1.16244,
          1.15751,
          1.15388,
          1.14988,
          1.1578600000000001,
          1.17363,
          1.17156,
          1.1745299999999999,
          1.17276,
          1.18373,
          1.18754,
          1.193,
          1.1845299999999999,
          1.19008,
          1.1915799999999999,
          1.17672,
          1.17783,
          1.1747299999999998,
          1.1886,
          1.18785,
          1.17859,
          1.17415,
          1.1782,
          1.18058,
          1.18774,
          1.19278,
          1.18662,
          1.18039,
          1.17387,
          1.17347,
          1.1603299999999999,
          1.15811,
          1.16215,
          1.15523,
          1.14675,
          1.15141,
          1.16079,
          1.1568399999999999,
          1.1544299999999998,
          1.15019,
          1.149,
          1.1350799999999999,
          1.13667,
          1.13924,
          1.1390799999999999,
          1.1308,
          1.1336899999999999,
          1.12315,
          1.1248799999999999,
          1.13032,
          1.1354600000000001,
          1.13734,
          1.14898,
          1.15101,
          1.15487,
          1.15182,
          1.1538,
          1.1461,
          1.13713,
          1.12716,
          1.13749,
          1.13976,
          1.14265,
          1.1415,
          1.13838,
          1.13798,
          1.13715,
          1.1332200000000001,
          1.13375,
          1.12963,
          1.1269,
          1.11522,
          1.11475,
          1.11226,
          1.09456,
          1.09184,
          1.09096,
          1.0929799999999998,
          1.09125,
          1.09974,
          1.10138,
          1.09713,
          1.08725,
          1.09505,
          1.1112600000000001,
          1.11297,
          1.12402,
          1.12362,
          1.12705,
          1.13228,
          1.1309799999999999,
          1.1318,
          1.1299700000000001,
          1.13424,
          1.13837,
          1.15046,
          1.1524299999999998,
          1.15049,
          1.15331,
          1.14975,
          1.16015,
          1.17339,
          1.17288,
          1.17677,
          1.17205,
          1.1723700000000001,
          1.18115,
          1.1839600000000001,
          1.18604,
          1.1846700000000001,
          1.1815,
          1.1765,
          1.1745,
          1.1694799999999999,
          1.1684299999999999,
          1.17285,
          1.17006,
          1.18265,
          1.18444,
          1.18566,
          1.1784299999999999,
          1.17507,
          1.1718,
          1.1754200000000001,
          1.16557,
          1.16192,
          1.1512200000000001,
          1.1498,
          1.14629,
          1.15428,
          1.15352,
          1.15304,
          1.1659899999999999,
          1.1738,
          1.1802,
          1.18485,
          1.1973799999999999,
          1.1977200000000001,
          1.19556,
          1.19379,
          1.19177,
          1.18185,
          1.19475,
          1.19411,
          1.20145,
          1.20403,
          1.20913,
          1.21268,
          1.21553,
          1.21781,
          1.22389,
          1.22745,
          1.2264899999999999,
          1.2233100000000001,
          1.23063,
          1.2322600000000001,
          1.23594,
          1.2420799999999999,
          1.2438200000000001,
          1.24346,
          1.2445899999999999,
          1.2425,
          1.24702,
          1.2462,
          1.2469299999999999,
          1.25078,
          1.25613,
          1.2646,
          1.26052,
          1.26282,
          1.26935,
          1.28093,
          1.27417,
          1.27796,
          1.2867600000000001,
          1.2897100000000001,
          1.27957,
          1.27878,
          1.2670700000000001,
          1.26091,
          1.2423,
          1.25952,
          1.2671,
          1.27485,
          1.27742,
          1.2610700000000001,
          1.2651700000000001,
          1.2661799999999999,
          1.25265,
          1.24911,
          1.24858,
          1.25973,
          1.25609,
          1.2636399999999999,
          1.27243
         ],
         "low": [
          1.1203,
          1.1273799999999998,
          1.13275,
          1.13026,
          1.14362,
          1.14946,
          1.1463,
          1.14681,
          1.13757,
          1.13691,
          1.16215,
          1.1601299999999999,
          1.1661700000000002,
          1.16192,
          1.16648,
          1.17972,
          1.1817600000000001,
          1.1704700000000001,
          1.16917,
          1.17439,
          1.16524,
          1.16875,
          1.16619,
          1.16287,
          1.1684299999999999,
          1.16564,
          1.1670399999999999,
          1.16581,
          1.17036,
          1.17354,
          1.18208,
          1.1768399999999999,
          1.16611,
          1.15836,
          1.15511,
          1.15081,
          1.1476600000000001,
          1.14913,
          1.1414,
          1.13994,
          1.13974,
          1.15025,
          1.15049,
          1.14326,
          1.1447200000000002,
          1.13132,
          1.1258700000000001,
          1.13047,
          1.1309799999999999,
          1.1275899999999999,
          1.12426,
          1.1156,
          1.11123,
          1.11562,
          1.11717,
          1.12411,
          1.13058,
          1.13139,
          1.1423299999999998,
          1.14439,
          1.14515,
          1.1451,
          1.13352,
          1.12237,
          1.11348,
          1.12581,
          1.1306399999999999,
          1.1325399999999999,
          1.13183,
          1.12866,
          1.12628,
          1.12758,
          1.12189,
          1.1224399999999999,
          1.1240299999999999,
          1.1123299999999998,
          1.10545,
          1.1079299999999999,
          1.08846,
          1.0836299999999999,
          1.08453,
          1.0793,
          1.08313,
          1.08097,
          1.0868799999999998,
          1.09517,
          1.08029,
          1.07616,
          1.08064,
          1.09159,
          1.10461,
          1.10524,
          1.1162,
          1.1154700000000002,
          1.1134600000000001,
          1.12411,
          1.11538,
          1.11382,
          1.1226399999999999,
          1.12382,
          1.14134,
          1.1435799999999998,
          1.14273,
          1.14578,
          1.14404,
          1.13941,
          1.15705,
          1.16424,
          1.16612,
          1.155,
          1.1532200000000001,
          1.16975,
          1.17587,
          1.1684,
          1.17022,
          1.16523,
          1.15818,
          1.15906,
          1.15734,
          1.15526,
          1.16016,
          1.1616799999999998,
          1.16477,
          1.17561,
          1.17601,
          1.1717600000000001,
          1.1654799999999998,
          1.16584,
          1.1616,
          1.15628,
          1.14275,
          1.14262,
          1.1413,
          1.13886,
          1.13783,
          1.1462700000000001,
          1.14431,
          1.1503,
          1.16251,
          1.1727100000000001,
          1.17245,
          1.17327,
          1.18733,
          1.18711,
          1.18567,
          1.17565,
          1.17519,
          1.17686,
          1.18831,
          1.18972,
          1.19364,
          1.19407,
          1.2069299999999998,
          1.2029,
          1.2061600000000001,
          1.21476,
          1.21869,
          1.21523,
          1.21123,
          1.22071,
          1.21288,
          1.23,
          1.22948,
          1.23587,
          1.2343,
          1.23479,
          1.23823,
          1.23924,
          1.24342,
          1.2420799999999999,
          1.24221,
          1.24758,
          1.25132,
          1.24698,
          1.25214,
          1.25795,
          1.2666600000000001,
          1.2623,
          1.2559,
          1.27034,
          1.27342,
          1.27119,
          1.26296,
          1.25614,
          1.23504,
          1.23337,
          1.2342600000000001,
          1.25504,
          1.26346,
          1.25631,
          1.24567,
          1.24403,
          1.2462799999999998,
          1.23617,
          1.23506,
          1.2389700000000001,
          1.24139,
          1.24929,
          1.25177,
          1.25118
         ],
         "open": [
          1.12354,
          1.12798,
          1.14367,
          1.13675,
          1.15002,
          1.1495799999999998,
          1.1542700000000001,
          1.1519,
          1.14983,
          1.13845,
          1.16634,
          1.1659,
          1.17059,
          1.16724,
          1.16947,
          1.1827,
          1.1867,
          1.18261,
          1.1765700000000001,
          1.1882700000000002,
          1.17149,
          1.17496,
          1.17365,
          1.16635,
          1.1838899999999999,
          1.1694,
          1.17146,
          1.16746,
          1.17429,
          1.17652,
          1.1869399999999999,
          1.1838600000000001,
          1.1791399999999999,
          1.1684,
          1.172,
          1.16025,
          1.15444,
          1.15188,
          1.15449,
          1.14215,
          1.1430799999999999,
          1.15154,
          1.15619,
          1.15415,
          1.14935,
          1.1487,
          1.13247,
          1.1317700000000002,
          1.13479,
          1.13877,
          1.12934,
          1.1277700000000002,
          1.11845,
          1.12119,
          1.12045,
          1.12685,
          1.1346100000000001,
          1.13267,
          1.14835,
          1.14749,
          1.1508399999999999,
          1.14947,
          1.14572,
          1.13437,
          1.1242,
          1.1284299999999998,
          1.1361299999999999,
          1.13867,
          1.13315,
          1.13716,
          1.1289799999999999,
          1.13588,
          1.12837,
          1.1323299999999998,
          1.12635,
          1.1249,
          1.11485,
          1.1138,
          1.1119299999999999,
          1.0920299999999998,
          1.08566,
          1.0874,
          1.08544,
          1.08856,
          1.08843,
          1.09943,
          1.0966799999999999,
          1.08117,
          1.08495,
          1.0944399999999999,
          1.11043,
          1.10695,
          1.12239,
          1.1210200000000001,
          1.12094,
          1.12745,
          1.1284100000000001,
          1.11782,
          1.1284299999999998,
          1.1257,
          1.14343,
          1.14588,
          1.14445,
          1.14951,
          1.14896,
          1.1455799999999998,
          1.1601,
          1.16585,
          1.17193,
          1.16943,
          1.15655,
          1.1711200000000002,
          1.1764700000000001,
          1.18097,
          1.17467,
          1.18109,
          1.1706,
          1.17264,
          1.16378,
          1.1586,
          1.17098,
          1.16362,
          1.16654,
          1.18021,
          1.17903,
          1.1774200000000001,
          1.17441,
          1.16701,
          1.16602,
          1.16228,
          1.15778,
          1.14573,
          1.14921,
          1.14391,
          1.14165,
          1.15034,
          1.14798,
          1.1521,
          1.1632799999999999,
          1.17325,
          1.17764,
          1.17479,
          1.19696,
          1.1875,
          1.19127,
          1.19084,
          1.17718,
          1.1790200000000002,
          1.19392,
          1.19068,
          1.19717,
          1.1982,
          1.20793,
          1.2109,
          1.20821,
          1.21725,
          1.22173,
          1.22576,
          1.22151,
          1.22213,
          1.2141899999999999,
          1.2316799999999999,
          1.23291,
          1.24091,
          1.2422,
          1.24025,
          1.23948,
          1.23943,
          1.24448,
          1.24499,
          1.24258,
          1.249,
          1.25495,
          1.25931,
          1.2543600000000001,
          1.25832,
          1.26736,
          1.27244,
          1.26306,
          1.27653,
          1.28538,
          1.27473,
          1.27736,
          1.2645600000000001,
          1.25753,
          1.23676,
          1.23496,
          1.25786,
          1.26405,
          1.2716399999999999,
          1.25742,
          1.24604,
          1.26445,
          1.24681,
          1.24062,
          1.24696,
          1.24248,
          1.25423,
          1.25345,
          1.25471
         ],
         "type": "candlestick",
         "x": [
          0,
          1,
          2,
          3,
          4,
          5,
          6,
          7,
          8,
          9,
          10,
          11,
          12,
          13,
          14,
          15,
          16,
          17,
          18,
          19,
          20,
          21,
          22,
          23,
          24,
          25,
          26,
          27,
          28,
          29,
          30,
          31,
          32,
          33,
          34,
          35,
          36,
          37,
          38,
          39,
          40,
          41,
          42,
          43,
          44,
          45,
          46,
          47,
          48,
          49,
          50,
          51,
          52,
          53,
          54,
          55,
          56,
          57,
          58,
          59,
          60,
          61,
          62,
          63,
          64,
          65,
          66,
          67,
          68,
          69,
          70,
          71,
          72,
          73,
          74,
          75,
          76,
          77,
          78,
          79,
          80,
          81,
          82,
          83,
          84,
          85,
          86,
          87,
          88,
          89,
          90,
          91,
          92,
          93,
          94,
          95,
          96,
          97,
          98,
          99,
          100,
          101,
          102,
          103,
          104,
          105,
          106,
          107,
          108,
          109,
          110,
          111,
          112,
          113,
          114,
          115,
          116,
          117,
          118,
          119,
          120,
          121,
          122,
          123,
          124,
          125,
          126,
          127,
          128,
          129,
          130,
          131,
          132,
          133,
          134,
          135,
          136,
          137,
          138,
          139,
          140,
          141,
          142,
          143,
          144,
          145,
          146,
          147,
          148,
          149,
          150,
          151,
          152,
          153,
          154,
          155,
          156,
          157,
          158,
          159,
          160,
          161,
          162,
          163,
          164,
          165,
          166,
          167,
          168,
          169,
          170,
          171,
          172,
          173,
          174,
          175,
          176,
          177,
          178,
          179,
          180,
          181,
          182,
          183,
          184,
          185,
          186,
          187,
          188,
          189,
          190,
          191,
          192,
          193,
          194,
          195,
          196,
          197,
          198,
          199
         ]
        }
       ],
       "layout": {
        "shapes": [
         {
          "line": {
           "color": "MediumPurple",
           "width": 3
          },
          "type": "line",
          "x0": 40,
          "x1": 200,
          "y0": 1.13974,
          "y1": 1.13974
         },
         {
          "line": {
           "color": "MediumPurple",
           "width": 3
          },
          "type": "line",
          "x0": 46,
          "x1": 200,
          "y0": 1.1258700000000001,
          "y1": 1.1258700000000001
         },
         {
          "line": {
           "color": "MediumPurple",
           "width": 3
          },
          "type": "line",
          "x0": 52,
          "x1": 200,
          "y0": 1.11123,
          "y1": 1.11123
         },
         {
          "line": {
           "color": "MediumPurple",
           "width": 3
          },
          "type": "line",
          "x0": 64,
          "x1": 200,
          "y0": 1.11348,
          "y1": 1.11348
         },
         {
          "line": {
           "color": "MediumPurple",
           "width": 3
          },
          "type": "line",
          "x0": 87,
          "x1": 200,
          "y0": 1.07616,
          "y1": 1.07616
         },
         {
          "line": {
           "color": "MediumPurple",
           "width": 3
          },
          "type": "line",
          "x0": 97,
          "x1": 200,
          "y0": 1.11382,
          "y1": 1.11382
         },
         {
          "line": {
           "color": "MediumPurple",
           "width": 3
          },
          "type": "line",
          "x0": 105,
          "x1": 200,
          "y0": 1.13941,
          "y1": 1.13941
         },
         {
          "line": {
           "color": "MediumPurple",
           "width": 3
          },
          "type": "line",
          "x0": 110,
          "x1": 200,
          "y0": 1.1532200000000001,
          "y1": 1.1532200000000001
         },
         {
          "line": {
           "color": "MediumPurple",
           "width": 3
          },
          "type": "line",
          "x0": 119,
          "x1": 200,
          "y0": 1.15526,
          "y1": 1.15526
         },
         {
          "line": {
           "color": "MediumPurple",
           "width": 3
          },
          "type": "line",
          "x0": 146,
          "x1": 200,
          "y0": 1.17519,
          "y1": 1.17519
         },
         {
          "line": {
           "color": "MediumPurple",
           "width": 3
          },
          "type": "line",
          "x0": 178,
          "x1": 200,
          "y0": 1.2559,
          "y1": 1.2559
         },
         {
          "line": {
           "color": "MediumPurple",
           "width": 3
          },
          "type": "line",
          "x0": 185,
          "x1": 200,
          "y0": 1.23337,
          "y1": 1.23337
         },
         {
          "line": {
           "color": "MediumPurple",
           "width": 3
          },
          "type": "line",
          "x0": 194,
          "x1": 200,
          "y0": 1.23506,
          "y1": 1.23506
         },
         {
          "line": {
           "color": "RoyalBlue",
           "width": 1
          },
          "type": "line",
          "x0": 5,
          "x1": 200,
          "y0": 1.16244,
          "y1": 1.16244
         },
         {
          "line": {
           "color": "RoyalBlue",
           "width": 1
          },
          "type": "line",
          "x0": 30,
          "x1": 200,
          "y0": 1.19278,
          "y1": 1.19278
         },
         {
          "line": {
           "color": "RoyalBlue",
           "width": 1
          },
          "type": "line",
          "x0": 41,
          "x1": 200,
          "y0": 1.16079,
          "y1": 1.16079
         },
         {
          "line": {
           "color": "RoyalBlue",
           "width": 1
          },
          "type": "line",
          "x0": 48,
          "x1": 200,
          "y0": 1.13924,
          "y1": 1.13924
         },
         {
          "line": {
           "color": "RoyalBlue",
           "width": 1
          },
          "type": "line",
          "x0": 67,
          "x1": 200,
          "y0": 1.14265,
          "y1": 1.14265
         },
         {
          "line": {
           "color": "RoyalBlue",
           "width": 1
          },
          "type": "line",
          "x0": 85,
          "x1": 200,
          "y0": 1.10138,
          "y1": 1.10138
         },
         {
          "line": {
           "color": "RoyalBlue",
           "width": 1
          },
          "type": "line",
          "x0": 113,
          "x1": 200,
          "y0": 1.18604,
          "y1": 1.18604
         },
         {
          "line": {
           "color": "RoyalBlue",
           "width": 1
          },
          "type": "line",
          "x0": 124,
          "x1": 200,
          "y0": 1.18566,
          "y1": 1.18566
         },
         {
          "line": {
           "color": "RoyalBlue",
           "width": 1
          },
          "type": "line",
          "x0": 142,
          "x1": 200,
          "y0": 1.1977200000000001,
          "y1": 1.1977200000000001
         },
         {
          "line": {
           "color": "RoyalBlue",
           "width": 1
          },
          "type": "line",
          "x0": 156,
          "x1": 200,
          "y0": 1.22745,
          "y1": 1.22745
         },
         {
          "line": {
           "color": "RoyalBlue",
           "width": 1
          },
          "type": "line",
          "x0": 180,
          "x1": 200,
          "y0": 1.2897100000000001,
          "y1": 1.2897100000000001
         },
         {
          "line": {
           "color": "RoyalBlue",
           "width": 1
          },
          "type": "line",
          "x0": 192,
          "x1": 200,
          "y0": 1.2661799999999999,
          "y1": 1.2661799999999999
         }
        ],
        "template": {
         "data": {
          "bar": [
           {
            "error_x": {
             "color": "#2a3f5f"
            },
            "error_y": {
             "color": "#2a3f5f"
            },
            "marker": {
             "line": {
              "color": "#E5ECF6",
              "width": 0.5
             }
            },
            "type": "bar"
           }
          ],
          "barpolar": [
           {
            "marker": {
             "line": {
              "color": "#E5ECF6",
              "width": 0.5
             }
            },
            "type": "barpolar"
           }
          ],
          "carpet": [
           {
            "aaxis": {
             "endlinecolor": "#2a3f5f",
             "gridcolor": "white",
             "linecolor": "white",
             "minorgridcolor": "white",
             "startlinecolor": "#2a3f5f"
            },
            "baxis": {
             "endlinecolor": "#2a3f5f",
             "gridcolor": "white",
             "linecolor": "white",
             "minorgridcolor": "white",
             "startlinecolor": "#2a3f5f"
            },
            "type": "carpet"
           }
          ],
          "choropleth": [
           {
            "colorbar": {
             "outlinewidth": 0,
             "ticks": ""
            },
            "type": "choropleth"
           }
          ],
          "contour": [
           {
            "colorbar": {
             "outlinewidth": 0,
             "ticks": ""
            },
            "colorscale": [
             [
              0,
              "#0d0887"
             ],
             [
              0.1111111111111111,
              "#46039f"
             ],
             [
              0.2222222222222222,
              "#7201a8"
             ],
             [
              0.3333333333333333,
              "#9c179e"
             ],
             [
              0.4444444444444444,
              "#bd3786"
             ],
             [
              0.5555555555555556,
              "#d8576b"
             ],
             [
              0.6666666666666666,
              "#ed7953"
             ],
             [
              0.7777777777777778,
              "#fb9f3a"
             ],
             [
              0.8888888888888888,
              "#fdca26"
             ],
             [
              1,
              "#f0f921"
             ]
            ],
            "type": "contour"
           }
          ],
          "contourcarpet": [
           {
            "colorbar": {
             "outlinewidth": 0,
             "ticks": ""
            },
            "type": "contourcarpet"
           }
          ],
          "heatmap": [
           {
            "colorbar": {
             "outlinewidth": 0,
             "ticks": ""
            },
            "colorscale": [
             [
              0,
              "#0d0887"
             ],
             [
              0.1111111111111111,
              "#46039f"
             ],
             [
              0.2222222222222222,
              "#7201a8"
             ],
             [
              0.3333333333333333,
              "#9c179e"
             ],
             [
              0.4444444444444444,
              "#bd3786"
             ],
             [
              0.5555555555555556,
              "#d8576b"
             ],
             [
              0.6666666666666666,
              "#ed7953"
             ],
             [
              0.7777777777777778,
              "#fb9f3a"
             ],
             [
              0.8888888888888888,
              "#fdca26"
             ],
             [
              1,
              "#f0f921"
             ]
            ],
            "type": "heatmap"
           }
          ],
          "heatmapgl": [
           {
            "colorbar": {
             "outlinewidth": 0,
             "ticks": ""
            },
            "colorscale": [
             [
              0,
              "#0d0887"
             ],
             [
              0.1111111111111111,
              "#46039f"
             ],
             [
              0.2222222222222222,
              "#7201a8"
             ],
             [
              0.3333333333333333,
              "#9c179e"
             ],
             [
              0.4444444444444444,
              "#bd3786"
             ],
             [
              0.5555555555555556,
              "#d8576b"
             ],
             [
              0.6666666666666666,
              "#ed7953"
             ],
             [
              0.7777777777777778,
              "#fb9f3a"
             ],
             [
              0.8888888888888888,
              "#fdca26"
             ],
             [
              1,
              "#f0f921"
             ]
            ],
            "type": "heatmapgl"
           }
          ],
          "histogram": [
           {
            "marker": {
             "colorbar": {
              "outlinewidth": 0,
              "ticks": ""
             }
            },
            "type": "histogram"
           }
          ],
          "histogram2d": [
           {
            "colorbar": {
             "outlinewidth": 0,
             "ticks": ""
            },
            "colorscale": [
             [
              0,
              "#0d0887"
             ],
             [
              0.1111111111111111,
              "#46039f"
             ],
             [
              0.2222222222222222,
              "#7201a8"
             ],
             [
              0.3333333333333333,
              "#9c179e"
             ],
             [
              0.4444444444444444,
              "#bd3786"
             ],
             [
              0.5555555555555556,
              "#d8576b"
             ],
             [
              0.6666666666666666,
              "#ed7953"
             ],
             [
              0.7777777777777778,
              "#fb9f3a"
             ],
             [
              0.8888888888888888,
              "#fdca26"
             ],
             [
              1,
              "#f0f921"
             ]
            ],
            "type": "histogram2d"
           }
          ],
          "histogram2dcontour": [
           {
            "colorbar": {
             "outlinewidth": 0,
             "ticks": ""
            },
            "colorscale": [
             [
              0,
              "#0d0887"
             ],
             [
              0.1111111111111111,
              "#46039f"
             ],
             [
              0.2222222222222222,
              "#7201a8"
             ],
             [
              0.3333333333333333,
              "#9c179e"
             ],
             [
              0.4444444444444444,
              "#bd3786"
             ],
             [
              0.5555555555555556,
              "#d8576b"
             ],
             [
              0.6666666666666666,
              "#ed7953"
             ],
             [
              0.7777777777777778,
              "#fb9f3a"
             ],
             [
              0.8888888888888888,
              "#fdca26"
             ],
             [
              1,
              "#f0f921"
             ]
            ],
            "type": "histogram2dcontour"
           }
          ],
          "mesh3d": [
           {
            "colorbar": {
             "outlinewidth": 0,
             "ticks": ""
            },
            "type": "mesh3d"
           }
          ],
          "parcoords": [
           {
            "line": {
             "colorbar": {
              "outlinewidth": 0,
              "ticks": ""
             }
            },
            "type": "parcoords"
           }
          ],
          "pie": [
           {
            "automargin": true,
            "type": "pie"
           }
          ],
          "scatter": [
           {
            "marker": {
             "colorbar": {
              "outlinewidth": 0,
              "ticks": ""
             }
            },
            "type": "scatter"
           }
          ],
          "scatter3d": [
           {
            "line": {
             "colorbar": {
              "outlinewidth": 0,
              "ticks": ""
             }
            },
            "marker": {
             "colorbar": {
              "outlinewidth": 0,
              "ticks": ""
             }
            },
            "type": "scatter3d"
           }
          ],
          "scattercarpet": [
           {
            "marker": {
             "colorbar": {
              "outlinewidth": 0,
              "ticks": ""
             }
            },
            "type": "scattercarpet"
           }
          ],
          "scattergeo": [
           {
            "marker": {
             "colorbar": {
              "outlinewidth": 0,
              "ticks": ""
             }
            },
            "type": "scattergeo"
           }
          ],
          "scattergl": [
           {
            "marker": {
             "colorbar": {
              "outlinewidth": 0,
              "ticks": ""
             }
            },
            "type": "scattergl"
           }
          ],
          "scattermapbox": [
           {
            "marker": {
             "colorbar": {
              "outlinewidth": 0,
              "ticks": ""
             }
            },
            "type": "scattermapbox"
           }
          ],
          "scatterpolar": [
           {
            "marker": {
             "colorbar": {
              "outlinewidth": 0,
              "ticks": ""
             }
            },
            "type": "scatterpolar"
           }
          ],
          "scatterpolargl": [
           {
            "marker": {
             "colorbar": {
              "outlinewidth": 0,
              "ticks": ""
             }
            },
            "type": "scatterpolargl"
           }
          ],
          "scatterternary": [
           {
            "marker": {
             "colorbar": {
              "outlinewidth": 0,
              "ticks": ""
             }
            },
            "type": "scatterternary"
           }
          ],
          "surface": [
           {
            "colorbar": {
             "outlinewidth": 0,
             "ticks": ""
            },
            "colorscale": [
             [
              0,
              "#0d0887"
             ],
             [
              0.1111111111111111,
              "#46039f"
             ],
             [
              0.2222222222222222,
              "#7201a8"
             ],
             [
              0.3333333333333333,
              "#9c179e"
             ],
             [
              0.4444444444444444,
              "#bd3786"
             ],
             [
              0.5555555555555556,
              "#d8576b"
             ],
             [
              0.6666666666666666,
              "#ed7953"
             ],
             [
              0.7777777777777778,
              "#fb9f3a"
             ],
             [
              0.8888888888888888,
              "#fdca26"
             ],
             [
              1,
              "#f0f921"
             ]
            ],
            "type": "surface"
           }
          ],
          "table": [
           {
            "cells": {
             "fill": {
              "color": "#EBF0F8"
             },
             "line": {
              "color": "white"
             }
            },
            "header": {
             "fill": {
              "color": "#C8D4E3"
             },
             "line": {
              "color": "white"
             }
            },
            "type": "table"
           }
          ]
         },
         "layout": {
          "annotationdefaults": {
           "arrowcolor": "#2a3f5f",
           "arrowhead": 0,
           "arrowwidth": 1
          },
          "coloraxis": {
           "colorbar": {
            "outlinewidth": 0,
            "ticks": ""
           }
          },
          "colorscale": {
           "diverging": [
            [
             0,
             "#8e0152"
            ],
            [
             0.1,
             "#c51b7d"
            ],
            [
             0.2,
             "#de77ae"
            ],
            [
             0.3,
             "#f1b6da"
            ],
            [
             0.4,
             "#fde0ef"
            ],
            [
             0.5,
             "#f7f7f7"
            ],
            [
             0.6,
             "#e6f5d0"
            ],
            [
             0.7,
             "#b8e186"
            ],
            [
             0.8,
             "#7fbc41"
            ],
            [
             0.9,
             "#4d9221"
            ],
            [
             1,
             "#276419"
            ]
           ],
           "sequential": [
            [
             0,
             "#0d0887"
            ],
            [
             0.1111111111111111,
             "#46039f"
            ],
            [
             0.2222222222222222,
             "#7201a8"
            ],
            [
             0.3333333333333333,
             "#9c179e"
            ],
            [
             0.4444444444444444,
             "#bd3786"
            ],
            [
             0.5555555555555556,
             "#d8576b"
            ],
            [
             0.6666666666666666,
             "#ed7953"
            ],
            [
             0.7777777777777778,
             "#fb9f3a"
            ],
            [
             0.8888888888888888,
             "#fdca26"
            ],
            [
             1,
             "#f0f921"
            ]
           ],
           "sequentialminus": [
            [
             0,
             "#0d0887"
            ],
            [
             0.1111111111111111,
             "#46039f"
            ],
            [
             0.2222222222222222,
             "#7201a8"
            ],
            [
             0.3333333333333333,
             "#9c179e"
            ],
            [
             0.4444444444444444,
             "#bd3786"
            ],
            [
             0.5555555555555556,
             "#d8576b"
            ],
            [
             0.6666666666666666,
             "#ed7953"
            ],
            [
             0.7777777777777778,
             "#fb9f3a"
            ],
            [
             0.8888888888888888,
             "#fdca26"
            ],
            [
             1,
             "#f0f921"
            ]
           ]
          },
          "colorway": [
           "#636efa",
           "#EF553B",
           "#00cc96",
           "#ab63fa",
           "#FFA15A",
           "#19d3f3",
           "#FF6692",
           "#B6E880",
           "#FF97FF",
           "#FECB52"
          ],
          "font": {
           "color": "#2a3f5f"
          },
          "geo": {
           "bgcolor": "white",
           "lakecolor": "white",
           "landcolor": "#E5ECF6",
           "showlakes": true,
           "showland": true,
           "subunitcolor": "white"
          },
          "hoverlabel": {
           "align": "left"
          },
          "hovermode": "closest",
          "mapbox": {
           "style": "light"
          },
          "paper_bgcolor": "white",
          "plot_bgcolor": "#E5ECF6",
          "polar": {
           "angularaxis": {
            "gridcolor": "white",
            "linecolor": "white",
            "ticks": ""
           },
           "bgcolor": "#E5ECF6",
           "radialaxis": {
            "gridcolor": "white",
            "linecolor": "white",
            "ticks": ""
           }
          },
          "scene": {
           "xaxis": {
            "backgroundcolor": "#E5ECF6",
            "gridcolor": "white",
            "gridwidth": 2,
            "linecolor": "white",
            "showbackground": true,
            "ticks": "",
            "zerolinecolor": "white"
           },
           "yaxis": {
            "backgroundcolor": "#E5ECF6",
            "gridcolor": "white",
            "gridwidth": 2,
            "linecolor": "white",
            "showbackground": true,
            "ticks": "",
            "zerolinecolor": "white"
           },
           "zaxis": {
            "backgroundcolor": "#E5ECF6",
            "gridcolor": "white",
            "gridwidth": 2,
            "linecolor": "white",
            "showbackground": true,
            "ticks": "",
            "zerolinecolor": "white"
           }
          },
          "shapedefaults": {
           "line": {
            "color": "#2a3f5f"
           }
          },
          "ternary": {
           "aaxis": {
            "gridcolor": "white",
            "linecolor": "white",
            "ticks": ""
           },
           "baxis": {
            "gridcolor": "white",
            "linecolor": "white",
            "ticks": ""
           },
           "bgcolor": "#E5ECF6",
           "caxis": {
            "gridcolor": "white",
            "linecolor": "white",
            "ticks": ""
           }
          },
          "title": {
           "x": 0.05
          },
          "xaxis": {
           "automargin": true,
           "gridcolor": "white",
           "linecolor": "white",
           "ticks": "",
           "title": {
            "standoff": 15
           },
           "zerolinecolor": "white",
           "zerolinewidth": 2
          },
          "yaxis": {
           "automargin": true,
           "gridcolor": "white",
           "linecolor": "white",
           "ticks": "",
           "title": {
            "standoff": 15
           },
           "zerolinecolor": "white",
           "zerolinewidth": 2
          }
         }
        }
       }
      },
      "text/html": [
       "<div>\n",
       "        \n",
       "        \n",
       "            <div id=\"6b9a3b74-976e-4452-bc4e-e53d9497889e\" class=\"plotly-graph-div\" style=\"height:525px; width:100%;\"></div>\n",
       "            <script type=\"text/javascript\">\n",
       "                require([\"plotly\"], function(Plotly) {\n",
       "                    window.PLOTLYENV=window.PLOTLYENV || {};\n",
       "                    \n",
       "                if (document.getElementById(\"6b9a3b74-976e-4452-bc4e-e53d9497889e\")) {\n",
       "                    Plotly.newPlot(\n",
       "                        '6b9a3b74-976e-4452-bc4e-e53d9497889e',\n",
       "                        [{\"close\": [1.12804, 1.14368, 1.13677, 1.15026, 1.14907, 1.15457, 1.1515, 1.1497, 1.13877, 1.15735, 1.16596, 1.17069, 1.16746, 1.1693799999999999, 1.18266, 1.1869, 1.18288, 1.17649, 1.1883299999999999, 1.1769100000000001, 1.1747299999999998, 1.17391, 1.16645, 1.18405, 1.17001, 1.17161, 1.16759, 1.17421, 1.17638, 1.1863, 1.18356, 1.17937, 1.16883, 1.17203, 1.1604, 1.15429, 1.15171, 1.15398, 1.14181, 1.14254, 1.15116, 1.15608, 1.15396, 1.14945, 1.1489200000000002, 1.13252, 1.13151, 1.13481, 1.13891, 1.1299, 1.12779, 1.11858, 1.12068, 1.12079, 1.1274600000000001, 1.13495, 1.13315, 1.14754, 1.14695, 1.15079, 1.14909, 1.1458899999999999, 1.13426, 1.12428, 1.12541, 1.1357, 1.13893, 1.13321, 1.13732, 1.13083, 1.13582, 1.1283, 1.1322, 1.1257700000000002, 1.12663, 1.11428, 1.11392, 1.11185, 1.09226, 1.08761, 1.08735, 1.08542, 1.0886, 1.0881100000000001, 1.09847, 1.09675, 1.08079, 1.08474, 1.0943, 1.11049, 1.10649, 1.12238, 1.12076, 1.12089, 1.12913, 1.1281700000000001, 1.1174600000000001, 1.12834, 1.1255600000000001, 1.13792, 1.14602, 1.14404, 1.14949, 1.1490200000000002, 1.1460700000000001, 1.15971, 1.16547, 1.17146, 1.16926, 1.1581, 1.17079, 1.1759, 1.18092, 1.1745700000000001, 1.1795799999999999, 1.1703, 1.17234, 1.16339, 1.15873, 1.16812, 1.16336, 1.1667100000000001, 1.18011, 1.17915, 1.1779700000000002, 1.1744, 1.1670399999999999, 1.16618, 1.16225, 1.15877, 1.14554, 1.14933, 1.14378, 1.14153, 1.15295, 1.1479700000000002, 1.1520000000000001, 1.1628399999999999, 1.1732200000000002, 1.1775799999999998, 1.1747100000000001, 1.1971, 1.1875799999999999, 1.1911100000000001, 1.1915200000000001, 1.177, 1.17899, 1.194, 1.19071, 1.19928, 1.19805, 1.20811, 1.2107700000000001, 1.20855, 1.2166, 1.2218, 1.22543, 1.22145, 1.22187, 1.22756, 1.23173, 1.23302, 1.2410700000000001, 1.24231, 1.23739, 1.23956, 1.23927, 1.2446, 1.2452, 1.24272, 1.24892, 1.25492, 1.25925, 1.25454, 1.25832, 1.2675299999999998, 1.2725600000000001, 1.26322, 1.27661, 1.28149, 1.27493, 1.27714, 1.26473, 1.25766, 1.2396200000000002, 1.23478, 1.25787, 1.26425, 1.27183, 1.25797, 1.24575, 1.2643, 1.24681, 1.24072, 1.24747, 1.24237, 1.25407, 1.25327, 1.2546, 1.27026], \"high\": [1.13019, 1.1451, 1.14448, 1.1509200000000002, 1.1537600000000001, 1.16244, 1.15751, 1.15388, 1.14988, 1.1578600000000001, 1.17363, 1.17156, 1.1745299999999999, 1.17276, 1.18373, 1.18754, 1.193, 1.1845299999999999, 1.19008, 1.1915799999999999, 1.17672, 1.17783, 1.1747299999999998, 1.1886, 1.18785, 1.17859, 1.17415, 1.1782, 1.18058, 1.18774, 1.19278, 1.18662, 1.18039, 1.17387, 1.17347, 1.1603299999999999, 1.15811, 1.16215, 1.15523, 1.14675, 1.15141, 1.16079, 1.1568399999999999, 1.1544299999999998, 1.15019, 1.149, 1.1350799999999999, 1.13667, 1.13924, 1.1390799999999999, 1.1308, 1.1336899999999999, 1.12315, 1.1248799999999999, 1.13032, 1.1354600000000001, 1.13734, 1.14898, 1.15101, 1.15487, 1.15182, 1.1538, 1.1461, 1.13713, 1.12716, 1.13749, 1.13976, 1.14265, 1.1415, 1.13838, 1.13798, 1.13715, 1.1332200000000001, 1.13375, 1.12963, 1.1269, 1.11522, 1.11475, 1.11226, 1.09456, 1.09184, 1.09096, 1.0929799999999998, 1.09125, 1.09974, 1.10138, 1.09713, 1.08725, 1.09505, 1.1112600000000001, 1.11297, 1.12402, 1.12362, 1.12705, 1.13228, 1.1309799999999999, 1.1318, 1.1299700000000001, 1.13424, 1.13837, 1.15046, 1.1524299999999998, 1.15049, 1.15331, 1.14975, 1.16015, 1.17339, 1.17288, 1.17677, 1.17205, 1.1723700000000001, 1.18115, 1.1839600000000001, 1.18604, 1.1846700000000001, 1.1815, 1.1765, 1.1745, 1.1694799999999999, 1.1684299999999999, 1.17285, 1.17006, 1.18265, 1.18444, 1.18566, 1.1784299999999999, 1.17507, 1.1718, 1.1754200000000001, 1.16557, 1.16192, 1.1512200000000001, 1.1498, 1.14629, 1.15428, 1.15352, 1.15304, 1.1659899999999999, 1.1738, 1.1802, 1.18485, 1.1973799999999999, 1.1977200000000001, 1.19556, 1.19379, 1.19177, 1.18185, 1.19475, 1.19411, 1.20145, 1.20403, 1.20913, 1.21268, 1.21553, 1.21781, 1.22389, 1.22745, 1.2264899999999999, 1.2233100000000001, 1.23063, 1.2322600000000001, 1.23594, 1.2420799999999999, 1.2438200000000001, 1.24346, 1.2445899999999999, 1.2425, 1.24702, 1.2462, 1.2469299999999999, 1.25078, 1.25613, 1.2646, 1.26052, 1.26282, 1.26935, 1.28093, 1.27417, 1.27796, 1.2867600000000001, 1.2897100000000001, 1.27957, 1.27878, 1.2670700000000001, 1.26091, 1.2423, 1.25952, 1.2671, 1.27485, 1.27742, 1.2610700000000001, 1.2651700000000001, 1.2661799999999999, 1.25265, 1.24911, 1.24858, 1.25973, 1.25609, 1.2636399999999999, 1.27243], \"low\": [1.1203, 1.1273799999999998, 1.13275, 1.13026, 1.14362, 1.14946, 1.1463, 1.14681, 1.13757, 1.13691, 1.16215, 1.1601299999999999, 1.1661700000000002, 1.16192, 1.16648, 1.17972, 1.1817600000000001, 1.1704700000000001, 1.16917, 1.17439, 1.16524, 1.16875, 1.16619, 1.16287, 1.1684299999999999, 1.16564, 1.1670399999999999, 1.16581, 1.17036, 1.17354, 1.18208, 1.1768399999999999, 1.16611, 1.15836, 1.15511, 1.15081, 1.1476600000000001, 1.14913, 1.1414, 1.13994, 1.13974, 1.15025, 1.15049, 1.14326, 1.1447200000000002, 1.13132, 1.1258700000000001, 1.13047, 1.1309799999999999, 1.1275899999999999, 1.12426, 1.1156, 1.11123, 1.11562, 1.11717, 1.12411, 1.13058, 1.13139, 1.1423299999999998, 1.14439, 1.14515, 1.1451, 1.13352, 1.12237, 1.11348, 1.12581, 1.1306399999999999, 1.1325399999999999, 1.13183, 1.12866, 1.12628, 1.12758, 1.12189, 1.1224399999999999, 1.1240299999999999, 1.1123299999999998, 1.10545, 1.1079299999999999, 1.08846, 1.0836299999999999, 1.08453, 1.0793, 1.08313, 1.08097, 1.0868799999999998, 1.09517, 1.08029, 1.07616, 1.08064, 1.09159, 1.10461, 1.10524, 1.1162, 1.1154700000000002, 1.1134600000000001, 1.12411, 1.11538, 1.11382, 1.1226399999999999, 1.12382, 1.14134, 1.1435799999999998, 1.14273, 1.14578, 1.14404, 1.13941, 1.15705, 1.16424, 1.16612, 1.155, 1.1532200000000001, 1.16975, 1.17587, 1.1684, 1.17022, 1.16523, 1.15818, 1.15906, 1.15734, 1.15526, 1.16016, 1.1616799999999998, 1.16477, 1.17561, 1.17601, 1.1717600000000001, 1.1654799999999998, 1.16584, 1.1616, 1.15628, 1.14275, 1.14262, 1.1413, 1.13886, 1.13783, 1.1462700000000001, 1.14431, 1.1503, 1.16251, 1.1727100000000001, 1.17245, 1.17327, 1.18733, 1.18711, 1.18567, 1.17565, 1.17519, 1.17686, 1.18831, 1.18972, 1.19364, 1.19407, 1.2069299999999998, 1.2029, 1.2061600000000001, 1.21476, 1.21869, 1.21523, 1.21123, 1.22071, 1.21288, 1.23, 1.22948, 1.23587, 1.2343, 1.23479, 1.23823, 1.23924, 1.24342, 1.2420799999999999, 1.24221, 1.24758, 1.25132, 1.24698, 1.25214, 1.25795, 1.2666600000000001, 1.2623, 1.2559, 1.27034, 1.27342, 1.27119, 1.26296, 1.25614, 1.23504, 1.23337, 1.2342600000000001, 1.25504, 1.26346, 1.25631, 1.24567, 1.24403, 1.2462799999999998, 1.23617, 1.23506, 1.2389700000000001, 1.24139, 1.24929, 1.25177, 1.25118], \"open\": [1.12354, 1.12798, 1.14367, 1.13675, 1.15002, 1.1495799999999998, 1.1542700000000001, 1.1519, 1.14983, 1.13845, 1.16634, 1.1659, 1.17059, 1.16724, 1.16947, 1.1827, 1.1867, 1.18261, 1.1765700000000001, 1.1882700000000002, 1.17149, 1.17496, 1.17365, 1.16635, 1.1838899999999999, 1.1694, 1.17146, 1.16746, 1.17429, 1.17652, 1.1869399999999999, 1.1838600000000001, 1.1791399999999999, 1.1684, 1.172, 1.16025, 1.15444, 1.15188, 1.15449, 1.14215, 1.1430799999999999, 1.15154, 1.15619, 1.15415, 1.14935, 1.1487, 1.13247, 1.1317700000000002, 1.13479, 1.13877, 1.12934, 1.1277700000000002, 1.11845, 1.12119, 1.12045, 1.12685, 1.1346100000000001, 1.13267, 1.14835, 1.14749, 1.1508399999999999, 1.14947, 1.14572, 1.13437, 1.1242, 1.1284299999999998, 1.1361299999999999, 1.13867, 1.13315, 1.13716, 1.1289799999999999, 1.13588, 1.12837, 1.1323299999999998, 1.12635, 1.1249, 1.11485, 1.1138, 1.1119299999999999, 1.0920299999999998, 1.08566, 1.0874, 1.08544, 1.08856, 1.08843, 1.09943, 1.0966799999999999, 1.08117, 1.08495, 1.0944399999999999, 1.11043, 1.10695, 1.12239, 1.1210200000000001, 1.12094, 1.12745, 1.1284100000000001, 1.11782, 1.1284299999999998, 1.1257, 1.14343, 1.14588, 1.14445, 1.14951, 1.14896, 1.1455799999999998, 1.1601, 1.16585, 1.17193, 1.16943, 1.15655, 1.1711200000000002, 1.1764700000000001, 1.18097, 1.17467, 1.18109, 1.1706, 1.17264, 1.16378, 1.1586, 1.17098, 1.16362, 1.16654, 1.18021, 1.17903, 1.1774200000000001, 1.17441, 1.16701, 1.16602, 1.16228, 1.15778, 1.14573, 1.14921, 1.14391, 1.14165, 1.15034, 1.14798, 1.1521, 1.1632799999999999, 1.17325, 1.17764, 1.17479, 1.19696, 1.1875, 1.19127, 1.19084, 1.17718, 1.1790200000000002, 1.19392, 1.19068, 1.19717, 1.1982, 1.20793, 1.2109, 1.20821, 1.21725, 1.22173, 1.22576, 1.22151, 1.22213, 1.2141899999999999, 1.2316799999999999, 1.23291, 1.24091, 1.2422, 1.24025, 1.23948, 1.23943, 1.24448, 1.24499, 1.24258, 1.249, 1.25495, 1.25931, 1.2543600000000001, 1.25832, 1.26736, 1.27244, 1.26306, 1.27653, 1.28538, 1.27473, 1.27736, 1.2645600000000001, 1.25753, 1.23676, 1.23496, 1.25786, 1.26405, 1.2716399999999999, 1.25742, 1.24604, 1.26445, 1.24681, 1.24062, 1.24696, 1.24248, 1.25423, 1.25345, 1.25471], \"type\": \"candlestick\", \"x\": [0, 1, 2, 3, 4, 5, 6, 7, 8, 9, 10, 11, 12, 13, 14, 15, 16, 17, 18, 19, 20, 21, 22, 23, 24, 25, 26, 27, 28, 29, 30, 31, 32, 33, 34, 35, 36, 37, 38, 39, 40, 41, 42, 43, 44, 45, 46, 47, 48, 49, 50, 51, 52, 53, 54, 55, 56, 57, 58, 59, 60, 61, 62, 63, 64, 65, 66, 67, 68, 69, 70, 71, 72, 73, 74, 75, 76, 77, 78, 79, 80, 81, 82, 83, 84, 85, 86, 87, 88, 89, 90, 91, 92, 93, 94, 95, 96, 97, 98, 99, 100, 101, 102, 103, 104, 105, 106, 107, 108, 109, 110, 111, 112, 113, 114, 115, 116, 117, 118, 119, 120, 121, 122, 123, 124, 125, 126, 127, 128, 129, 130, 131, 132, 133, 134, 135, 136, 137, 138, 139, 140, 141, 142, 143, 144, 145, 146, 147, 148, 149, 150, 151, 152, 153, 154, 155, 156, 157, 158, 159, 160, 161, 162, 163, 164, 165, 166, 167, 168, 169, 170, 171, 172, 173, 174, 175, 176, 177, 178, 179, 180, 181, 182, 183, 184, 185, 186, 187, 188, 189, 190, 191, 192, 193, 194, 195, 196, 197, 198, 199]}],\n",
       "                        {\"shapes\": [{\"line\": {\"color\": \"MediumPurple\", \"width\": 3}, \"type\": \"line\", \"x0\": 40, \"x1\": 200, \"y0\": 1.13974, \"y1\": 1.13974}, {\"line\": {\"color\": \"MediumPurple\", \"width\": 3}, \"type\": \"line\", \"x0\": 46, \"x1\": 200, \"y0\": 1.1258700000000001, \"y1\": 1.1258700000000001}, {\"line\": {\"color\": \"MediumPurple\", \"width\": 3}, \"type\": \"line\", \"x0\": 52, \"x1\": 200, \"y0\": 1.11123, \"y1\": 1.11123}, {\"line\": {\"color\": \"MediumPurple\", \"width\": 3}, \"type\": \"line\", \"x0\": 64, \"x1\": 200, \"y0\": 1.11348, \"y1\": 1.11348}, {\"line\": {\"color\": \"MediumPurple\", \"width\": 3}, \"type\": \"line\", \"x0\": 87, \"x1\": 200, \"y0\": 1.07616, \"y1\": 1.07616}, {\"line\": {\"color\": \"MediumPurple\", \"width\": 3}, \"type\": \"line\", \"x0\": 97, \"x1\": 200, \"y0\": 1.11382, \"y1\": 1.11382}, {\"line\": {\"color\": \"MediumPurple\", \"width\": 3}, \"type\": \"line\", \"x0\": 105, \"x1\": 200, \"y0\": 1.13941, \"y1\": 1.13941}, {\"line\": {\"color\": \"MediumPurple\", \"width\": 3}, \"type\": \"line\", \"x0\": 110, \"x1\": 200, \"y0\": 1.1532200000000001, \"y1\": 1.1532200000000001}, {\"line\": {\"color\": \"MediumPurple\", \"width\": 3}, \"type\": \"line\", \"x0\": 119, \"x1\": 200, \"y0\": 1.15526, \"y1\": 1.15526}, {\"line\": {\"color\": \"MediumPurple\", \"width\": 3}, \"type\": \"line\", \"x0\": 146, \"x1\": 200, \"y0\": 1.17519, \"y1\": 1.17519}, {\"line\": {\"color\": \"MediumPurple\", \"width\": 3}, \"type\": \"line\", \"x0\": 178, \"x1\": 200, \"y0\": 1.2559, \"y1\": 1.2559}, {\"line\": {\"color\": \"MediumPurple\", \"width\": 3}, \"type\": \"line\", \"x0\": 185, \"x1\": 200, \"y0\": 1.23337, \"y1\": 1.23337}, {\"line\": {\"color\": \"MediumPurple\", \"width\": 3}, \"type\": \"line\", \"x0\": 194, \"x1\": 200, \"y0\": 1.23506, \"y1\": 1.23506}, {\"line\": {\"color\": \"RoyalBlue\", \"width\": 1}, \"type\": \"line\", \"x0\": 5, \"x1\": 200, \"y0\": 1.16244, \"y1\": 1.16244}, {\"line\": {\"color\": \"RoyalBlue\", \"width\": 1}, \"type\": \"line\", \"x0\": 30, \"x1\": 200, \"y0\": 1.19278, \"y1\": 1.19278}, {\"line\": {\"color\": \"RoyalBlue\", \"width\": 1}, \"type\": \"line\", \"x0\": 41, \"x1\": 200, \"y0\": 1.16079, \"y1\": 1.16079}, {\"line\": {\"color\": \"RoyalBlue\", \"width\": 1}, \"type\": \"line\", \"x0\": 48, \"x1\": 200, \"y0\": 1.13924, \"y1\": 1.13924}, {\"line\": {\"color\": \"RoyalBlue\", \"width\": 1}, \"type\": \"line\", \"x0\": 67, \"x1\": 200, \"y0\": 1.14265, \"y1\": 1.14265}, {\"line\": {\"color\": \"RoyalBlue\", \"width\": 1}, \"type\": \"line\", \"x0\": 85, \"x1\": 200, \"y0\": 1.10138, \"y1\": 1.10138}, {\"line\": {\"color\": \"RoyalBlue\", \"width\": 1}, \"type\": \"line\", \"x0\": 113, \"x1\": 200, \"y0\": 1.18604, \"y1\": 1.18604}, {\"line\": {\"color\": \"RoyalBlue\", \"width\": 1}, \"type\": \"line\", \"x0\": 124, \"x1\": 200, \"y0\": 1.18566, \"y1\": 1.18566}, {\"line\": {\"color\": \"RoyalBlue\", \"width\": 1}, \"type\": \"line\", \"x0\": 142, \"x1\": 200, \"y0\": 1.1977200000000001, \"y1\": 1.1977200000000001}, {\"line\": {\"color\": \"RoyalBlue\", \"width\": 1}, \"type\": \"line\", \"x0\": 156, \"x1\": 200, \"y0\": 1.22745, \"y1\": 1.22745}, {\"line\": {\"color\": \"RoyalBlue\", \"width\": 1}, \"type\": \"line\", \"x0\": 180, \"x1\": 200, \"y0\": 1.2897100000000001, \"y1\": 1.2897100000000001}, {\"line\": {\"color\": \"RoyalBlue\", \"width\": 1}, \"type\": \"line\", \"x0\": 192, \"x1\": 200, \"y0\": 1.2661799999999999, \"y1\": 1.2661799999999999}], \"template\": {\"data\": {\"bar\": [{\"error_x\": {\"color\": \"#2a3f5f\"}, \"error_y\": {\"color\": \"#2a3f5f\"}, \"marker\": {\"line\": {\"color\": \"#E5ECF6\", \"width\": 0.5}}, \"type\": \"bar\"}], \"barpolar\": [{\"marker\": {\"line\": {\"color\": \"#E5ECF6\", \"width\": 0.5}}, \"type\": \"barpolar\"}], \"carpet\": [{\"aaxis\": {\"endlinecolor\": \"#2a3f5f\", \"gridcolor\": \"white\", \"linecolor\": \"white\", \"minorgridcolor\": \"white\", \"startlinecolor\": \"#2a3f5f\"}, \"baxis\": {\"endlinecolor\": \"#2a3f5f\", \"gridcolor\": \"white\", \"linecolor\": \"white\", \"minorgridcolor\": \"white\", \"startlinecolor\": \"#2a3f5f\"}, \"type\": \"carpet\"}], \"choropleth\": [{\"colorbar\": {\"outlinewidth\": 0, \"ticks\": \"\"}, \"type\": \"choropleth\"}], \"contour\": [{\"colorbar\": {\"outlinewidth\": 0, \"ticks\": \"\"}, \"colorscale\": [[0.0, \"#0d0887\"], [0.1111111111111111, \"#46039f\"], [0.2222222222222222, \"#7201a8\"], [0.3333333333333333, \"#9c179e\"], [0.4444444444444444, \"#bd3786\"], [0.5555555555555556, \"#d8576b\"], [0.6666666666666666, \"#ed7953\"], [0.7777777777777778, \"#fb9f3a\"], [0.8888888888888888, \"#fdca26\"], [1.0, \"#f0f921\"]], \"type\": \"contour\"}], \"contourcarpet\": [{\"colorbar\": {\"outlinewidth\": 0, \"ticks\": \"\"}, \"type\": \"contourcarpet\"}], \"heatmap\": [{\"colorbar\": {\"outlinewidth\": 0, \"ticks\": \"\"}, \"colorscale\": [[0.0, \"#0d0887\"], [0.1111111111111111, \"#46039f\"], [0.2222222222222222, \"#7201a8\"], [0.3333333333333333, \"#9c179e\"], [0.4444444444444444, \"#bd3786\"], [0.5555555555555556, \"#d8576b\"], [0.6666666666666666, \"#ed7953\"], [0.7777777777777778, \"#fb9f3a\"], [0.8888888888888888, \"#fdca26\"], [1.0, \"#f0f921\"]], \"type\": \"heatmap\"}], \"heatmapgl\": [{\"colorbar\": {\"outlinewidth\": 0, \"ticks\": \"\"}, \"colorscale\": [[0.0, \"#0d0887\"], [0.1111111111111111, \"#46039f\"], [0.2222222222222222, \"#7201a8\"], [0.3333333333333333, \"#9c179e\"], [0.4444444444444444, \"#bd3786\"], [0.5555555555555556, \"#d8576b\"], [0.6666666666666666, \"#ed7953\"], [0.7777777777777778, \"#fb9f3a\"], [0.8888888888888888, \"#fdca26\"], [1.0, \"#f0f921\"]], \"type\": \"heatmapgl\"}], \"histogram\": [{\"marker\": {\"colorbar\": {\"outlinewidth\": 0, \"ticks\": \"\"}}, \"type\": \"histogram\"}], \"histogram2d\": [{\"colorbar\": {\"outlinewidth\": 0, \"ticks\": \"\"}, \"colorscale\": [[0.0, \"#0d0887\"], [0.1111111111111111, \"#46039f\"], [0.2222222222222222, \"#7201a8\"], [0.3333333333333333, \"#9c179e\"], [0.4444444444444444, \"#bd3786\"], [0.5555555555555556, \"#d8576b\"], [0.6666666666666666, \"#ed7953\"], [0.7777777777777778, \"#fb9f3a\"], [0.8888888888888888, \"#fdca26\"], [1.0, \"#f0f921\"]], \"type\": \"histogram2d\"}], \"histogram2dcontour\": [{\"colorbar\": {\"outlinewidth\": 0, \"ticks\": \"\"}, \"colorscale\": [[0.0, \"#0d0887\"], [0.1111111111111111, \"#46039f\"], [0.2222222222222222, \"#7201a8\"], [0.3333333333333333, \"#9c179e\"], [0.4444444444444444, \"#bd3786\"], [0.5555555555555556, \"#d8576b\"], [0.6666666666666666, \"#ed7953\"], [0.7777777777777778, \"#fb9f3a\"], [0.8888888888888888, \"#fdca26\"], [1.0, \"#f0f921\"]], \"type\": \"histogram2dcontour\"}], \"mesh3d\": [{\"colorbar\": {\"outlinewidth\": 0, \"ticks\": \"\"}, \"type\": \"mesh3d\"}], \"parcoords\": [{\"line\": {\"colorbar\": {\"outlinewidth\": 0, \"ticks\": \"\"}}, \"type\": \"parcoords\"}], \"pie\": [{\"automargin\": true, \"type\": \"pie\"}], \"scatter\": [{\"marker\": {\"colorbar\": {\"outlinewidth\": 0, \"ticks\": \"\"}}, \"type\": \"scatter\"}], \"scatter3d\": [{\"line\": {\"colorbar\": {\"outlinewidth\": 0, \"ticks\": \"\"}}, \"marker\": {\"colorbar\": {\"outlinewidth\": 0, \"ticks\": \"\"}}, \"type\": \"scatter3d\"}], \"scattercarpet\": [{\"marker\": {\"colorbar\": {\"outlinewidth\": 0, \"ticks\": \"\"}}, \"type\": \"scattercarpet\"}], \"scattergeo\": [{\"marker\": {\"colorbar\": {\"outlinewidth\": 0, \"ticks\": \"\"}}, \"type\": \"scattergeo\"}], \"scattergl\": [{\"marker\": {\"colorbar\": {\"outlinewidth\": 0, \"ticks\": \"\"}}, \"type\": \"scattergl\"}], \"scattermapbox\": [{\"marker\": {\"colorbar\": {\"outlinewidth\": 0, \"ticks\": \"\"}}, \"type\": \"scattermapbox\"}], \"scatterpolar\": [{\"marker\": {\"colorbar\": {\"outlinewidth\": 0, \"ticks\": \"\"}}, \"type\": \"scatterpolar\"}], \"scatterpolargl\": [{\"marker\": {\"colorbar\": {\"outlinewidth\": 0, \"ticks\": \"\"}}, \"type\": \"scatterpolargl\"}], \"scatterternary\": [{\"marker\": {\"colorbar\": {\"outlinewidth\": 0, \"ticks\": \"\"}}, \"type\": \"scatterternary\"}], \"surface\": [{\"colorbar\": {\"outlinewidth\": 0, \"ticks\": \"\"}, \"colorscale\": [[0.0, \"#0d0887\"], [0.1111111111111111, \"#46039f\"], [0.2222222222222222, \"#7201a8\"], [0.3333333333333333, \"#9c179e\"], [0.4444444444444444, \"#bd3786\"], [0.5555555555555556, \"#d8576b\"], [0.6666666666666666, \"#ed7953\"], [0.7777777777777778, \"#fb9f3a\"], [0.8888888888888888, \"#fdca26\"], [1.0, \"#f0f921\"]], \"type\": \"surface\"}], \"table\": [{\"cells\": {\"fill\": {\"color\": \"#EBF0F8\"}, \"line\": {\"color\": \"white\"}}, \"header\": {\"fill\": {\"color\": \"#C8D4E3\"}, \"line\": {\"color\": \"white\"}}, \"type\": \"table\"}]}, \"layout\": {\"annotationdefaults\": {\"arrowcolor\": \"#2a3f5f\", \"arrowhead\": 0, \"arrowwidth\": 1}, \"coloraxis\": {\"colorbar\": {\"outlinewidth\": 0, \"ticks\": \"\"}}, \"colorscale\": {\"diverging\": [[0, \"#8e0152\"], [0.1, \"#c51b7d\"], [0.2, \"#de77ae\"], [0.3, \"#f1b6da\"], [0.4, \"#fde0ef\"], [0.5, \"#f7f7f7\"], [0.6, \"#e6f5d0\"], [0.7, \"#b8e186\"], [0.8, \"#7fbc41\"], [0.9, \"#4d9221\"], [1, \"#276419\"]], \"sequential\": [[0.0, \"#0d0887\"], [0.1111111111111111, \"#46039f\"], [0.2222222222222222, \"#7201a8\"], [0.3333333333333333, \"#9c179e\"], [0.4444444444444444, \"#bd3786\"], [0.5555555555555556, \"#d8576b\"], [0.6666666666666666, \"#ed7953\"], [0.7777777777777778, \"#fb9f3a\"], [0.8888888888888888, \"#fdca26\"], [1.0, \"#f0f921\"]], \"sequentialminus\": [[0.0, \"#0d0887\"], [0.1111111111111111, \"#46039f\"], [0.2222222222222222, \"#7201a8\"], [0.3333333333333333, \"#9c179e\"], [0.4444444444444444, \"#bd3786\"], [0.5555555555555556, \"#d8576b\"], [0.6666666666666666, \"#ed7953\"], [0.7777777777777778, \"#fb9f3a\"], [0.8888888888888888, \"#fdca26\"], [1.0, \"#f0f921\"]]}, \"colorway\": [\"#636efa\", \"#EF553B\", \"#00cc96\", \"#ab63fa\", \"#FFA15A\", \"#19d3f3\", \"#FF6692\", \"#B6E880\", \"#FF97FF\", \"#FECB52\"], \"font\": {\"color\": \"#2a3f5f\"}, \"geo\": {\"bgcolor\": \"white\", \"lakecolor\": \"white\", \"landcolor\": \"#E5ECF6\", \"showlakes\": true, \"showland\": true, \"subunitcolor\": \"white\"}, \"hoverlabel\": {\"align\": \"left\"}, \"hovermode\": \"closest\", \"mapbox\": {\"style\": \"light\"}, \"paper_bgcolor\": \"white\", \"plot_bgcolor\": \"#E5ECF6\", \"polar\": {\"angularaxis\": {\"gridcolor\": \"white\", \"linecolor\": \"white\", \"ticks\": \"\"}, \"bgcolor\": \"#E5ECF6\", \"radialaxis\": {\"gridcolor\": \"white\", \"linecolor\": \"white\", \"ticks\": \"\"}}, \"scene\": {\"xaxis\": {\"backgroundcolor\": \"#E5ECF6\", \"gridcolor\": \"white\", \"gridwidth\": 2, \"linecolor\": \"white\", \"showbackground\": true, \"ticks\": \"\", \"zerolinecolor\": \"white\"}, \"yaxis\": {\"backgroundcolor\": \"#E5ECF6\", \"gridcolor\": \"white\", \"gridwidth\": 2, \"linecolor\": \"white\", \"showbackground\": true, \"ticks\": \"\", \"zerolinecolor\": \"white\"}, \"zaxis\": {\"backgroundcolor\": \"#E5ECF6\", \"gridcolor\": \"white\", \"gridwidth\": 2, \"linecolor\": \"white\", \"showbackground\": true, \"ticks\": \"\", \"zerolinecolor\": \"white\"}}, \"shapedefaults\": {\"line\": {\"color\": \"#2a3f5f\"}}, \"ternary\": {\"aaxis\": {\"gridcolor\": \"white\", \"linecolor\": \"white\", \"ticks\": \"\"}, \"baxis\": {\"gridcolor\": \"white\", \"linecolor\": \"white\", \"ticks\": \"\"}, \"bgcolor\": \"#E5ECF6\", \"caxis\": {\"gridcolor\": \"white\", \"linecolor\": \"white\", \"ticks\": \"\"}}, \"title\": {\"x\": 0.05}, \"xaxis\": {\"automargin\": true, \"gridcolor\": \"white\", \"linecolor\": \"white\", \"ticks\": \"\", \"title\": {\"standoff\": 15}, \"zerolinecolor\": \"white\", \"zerolinewidth\": 2}, \"yaxis\": {\"automargin\": true, \"gridcolor\": \"white\", \"linecolor\": \"white\", \"ticks\": \"\", \"title\": {\"standoff\": 15}, \"zerolinecolor\": \"white\", \"zerolinewidth\": 2}}}},\n",
       "                        {\"responsive\": true}\n",
       "                    ).then(function(){\n",
       "                            \n",
       "var gd = document.getElementById('6b9a3b74-976e-4452-bc4e-e53d9497889e');\n",
       "var x = new MutationObserver(function (mutations, observer) {{\n",
       "        var display = window.getComputedStyle(gd).display;\n",
       "        if (!display || display === 'none') {{\n",
       "            console.log([gd, 'removed!']);\n",
       "            Plotly.purge(gd);\n",
       "            observer.disconnect();\n",
       "        }}\n",
       "}});\n",
       "\n",
       "// Listen for the removal of the full notebook cells\n",
       "var notebookContainer = gd.closest('#notebook-container');\n",
       "if (notebookContainer) {{\n",
       "    x.observe(notebookContainer, {childList: true});\n",
       "}}\n",
       "\n",
       "// Listen for the clearing of the current output cell\n",
       "var outputEl = gd.closest('.output');\n",
       "if (outputEl) {{\n",
       "    x.observe(outputEl, {childList: true});\n",
       "}}\n",
       "\n",
       "                        })\n",
       "                };\n",
       "                });\n",
       "            </script>\n",
       "        </div>"
      ]
     },
     "metadata": {},
     "output_type": "display_data"
    }
   ],
   "source": [
    "s = 0\n",
    "e = 200\n",
    "dfpl = df[s:e]\n",
    "import plotly.graph_objects as go\n",
    "from datetime import datetime\n",
    "import matplotlib.pyplot as plt\n",
    "\n",
    "fig = go.Figure(data=[go.Candlestick(x=dfpl.index,\n",
    "                open=dfpl['open'],\n",
    "                high=dfpl['high'],\n",
    "                low=dfpl['low'],\n",
    "                close=dfpl['close'])])\n",
    "\n",
    "c=0\n",
    "while (1):\n",
    "    if(c>len(ss)-1 ):\n",
    "        break\n",
    "    fig.add_shape(type='line', x0=ss[c][0], y0=ss[c][1],\n",
    "                  x1=e,\n",
    "                  y1=ss[c][1],\n",
    "                  line=dict(color=\"MediumPurple\",width=3)\n",
    "                  )\n",
    "    c+=1\n",
    "\n",
    "c=0\n",
    "while (1):\n",
    "    if(c>len(rr)-1 ):\n",
    "        break\n",
    "    fig.add_shape(type='line', x0=rr[c][0], y0=rr[c][1],\n",
    "                  x1=e,\n",
    "                  y1=rr[c][1],\n",
    "                  line=dict(color=\"RoyalBlue\",width=1)\n",
    "                  )\n",
    "    c+=1    \n",
    "\n",
    "fig.show()"
   ]
  },
  {
   "cell_type": "code",
   "execution_count": null,
   "metadata": {},
   "outputs": [],
   "source": []
  },
  {
   "cell_type": "code",
   "execution_count": null,
   "metadata": {},
   "outputs": [],
   "source": []
  }
 ],
 "metadata": {
  "kernelspec": {
   "display_name": "Python 3",
   "language": "python",
   "name": "python3"
  },
  "language_info": {
   "codemirror_mode": {
    "name": "ipython",
    "version": 3
   },
   "file_extension": ".py",
   "mimetype": "text/x-python",
   "name": "python",
   "nbconvert_exporter": "python",
   "pygments_lexer": "ipython3",
   "version": "3.8.10"
  }
 },
 "nbformat": 4,
 "nbformat_minor": 2
}
